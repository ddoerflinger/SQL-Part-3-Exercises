{
    "metadata": {
        "kernelspec": {
            "name": "SQL",
            "display_name": "SQL",
            "language": "sql"
        },
        "language_info": {
            "name": "sql",
            "version": ""
        },
        "extensions": {
            "azuredatastudio": {
                "version": 1,
                "views": []
            }
        }
    },
    "nbformat_minor": 2,
    "nbformat": 4,
    "cells": [
        {
            "cell_type": "markdown",
            "source": [
                "# SQL Part 3 Exercises Joins\n",
                "\n",
                "This notebook works with the BooksDB dataset.  \n",
                "\n",
                "**Questions 1-4** focus on how joins work in a more general sense.  If you are not sure how to best answer the questions, try manipulating the queries by changing the order of joins, the length of the TOP, or how they are ordered.  \n",
                "\n",
                "> <span style=\"background-color: rgba(127, 127, 127, 0.1);\"><i>Note</i>: If some of the queries are not returning quickly, you can try closing and restarting azure data studio after a few minutes.</span>\n",
                "\n",
                "In **questions 5-8**, you will be asked to join tables to find results about titles, tags, and the books users want to read.\n",
                "\n",
                "As you go through the questions, you will see 'Minimum Desired Output'.  This will provide you with the bare minimum columns needed to answer the questions.  When you write the queries, add as many additional columns as you need to best find your answers."
            ],
            "metadata": {
                "azdata_cell_guid": "db9534a9-c8a7-4c09-8180-bcba0690bb02"
            },
            "attachments": {}
        },
        {
            "cell_type": "markdown",
            "source": [
                "## **QUESTION 1:**  Exploring a LEFT JOIN using the **books** and **to\\_read** tables\n",
                "\n",
                "The code block below has been commented out. To answer this question, you will need to uncomment it by removing the **/\\*** (line 1) and **\\*/** (line 16).\n",
                "\n",
                "**Part A:** Look at Query 1, which table is the 'Left' table and which is the 'Right'?\n",
                "\n",
                "> Your Answer: The left table is books and the right table is to\\_read.\n",
                "\n",
                "**Part B:** Using table 2, answer the following questions: \n",
                "\n",
                "- When we added a  '**WHERE tr.user\\_id IS NOT NULL'** clause (line 14), how did the table change?  Why?\n",
                "\n",
                "> Your Answer: The rows that had a NULL value for user\\_id were removed because of the WHERE tr.user\\_id IS NOT NULL statement."
            ],
            "metadata": {
                "azdata_cell_guid": "660be568-9a70-40ff-a2fa-a78e31e87b6f"
            },
            "attachments": {}
        },
        {
            "cell_type": "code",
            "source": [
                "\n",
                "-- Query 1: LEFT JOIN \n",
                "SELECT TOP 50 b.title, b.average_rating, b.books_count,tr.user_id, tr.book_id\n",
                "FROM BooksDB.dbo.books AS b\n",
                "LEFT JOIN BooksDB.dbo.to_read AS tr\n",
                "ON b.best_book_id = tr.book_id\n",
                "ORDER BY b.average_rating;\n",
                "\n",
                "-- Query 2: LEFT JOIN USING 'IS NOT NULL'\n",
                "SELECT TOP 50 b.title, b.average_rating, b.books_count,tr.user_id, tr.book_id\n",
                "FROM BooksDB.dbo.books AS b\n",
                "LEFT JOIN BooksDB.dbo.to_read AS tr\n",
                "ON b.best_book_id = tr.book_id\n",
                "WHERE tr.user_id IS NOT NULL\n",
                "ORDER BY b.average_rating;\n",
                ""
            ],
            "metadata": {
                "azdata_cell_guid": "25dcd34c-5e5d-4393-9da0-a4c0effb6455",
                "tags": [],
                "language": "sql"
            },
            "outputs": [
                {
                    "output_type": "display_data",
                    "data": {
                        "text/html": "(50 rows affected)"
                    },
                    "metadata": {}
                },
                {
                    "output_type": "display_data",
                    "data": {
                        "text/html": "(50 rows affected)"
                    },
                    "metadata": {}
                },
                {
                    "output_type": "display_data",
                    "data": {
                        "text/html": "Total execution time: 00:00:06.975"
                    },
                    "metadata": {}
                },
                {
                    "output_type": "execute_result",
                    "metadata": {},
                    "execution_count": 4,
                    "data": {
                        "application/vnd.dataresource+json": {
                            "schema": {
                                "fields": [
                                    {
                                        "name": "title"
                                    },
                                    {
                                        "name": "average_rating"
                                    },
                                    {
                                        "name": "books_count"
                                    },
                                    {
                                        "name": "user_id"
                                    },
                                    {
                                        "name": "book_id"
                                    }
                                ]
                            },
                            "data": [
                                {
                                    "0": "One Night at the Call Center",
                                    "1": "2.47",
                                    "2": "25",
                                    "3": "NULL",
                                    "4": "NULL"
                                },
                                {
                                    "0": "The Almost Moon",
                                    "1": "2.67",
                                    "2": "63",
                                    "3": "NULL",
                                    "4": "NULL"
                                },
                                {
                                    "0": "The Finkler Question",
                                    "1": "2.76",
                                    "2": "45",
                                    "3": "NULL",
                                    "4": "NULL"
                                },
                                {
                                    "0": "Four Blondes",
                                    "1": "2.8",
                                    "2": "57",
                                    "3": "449",
                                    "4": "6613"
                                },
                                {
                                    "0": "Four Blondes",
                                    "1": "2.8",
                                    "2": "57",
                                    "3": "1378",
                                    "4": "6613"
                                },
                                {
                                    "0": "Four Blondes",
                                    "1": "2.8",
                                    "2": "57",
                                    "3": "6465",
                                    "4": "6613"
                                },
                                {
                                    "0": "Four Blondes",
                                    "1": "2.8",
                                    "2": "57",
                                    "3": "6700",
                                    "4": "6613"
                                },
                                {
                                    "0": "Four Blondes",
                                    "1": "2.8",
                                    "2": "57",
                                    "3": "7830",
                                    "4": "6613"
                                },
                                {
                                    "0": "Four Blondes",
                                    "1": "2.8",
                                    "2": "57",
                                    "3": "10085",
                                    "4": "6613"
                                },
                                {
                                    "0": "Four Blondes",
                                    "1": "2.8",
                                    "2": "57",
                                    "3": "16298",
                                    "4": "6613"
                                },
                                {
                                    "0": "Four Blondes",
                                    "1": "2.8",
                                    "2": "57",
                                    "3": "16845",
                                    "4": "6613"
                                },
                                {
                                    "0": "Four Blondes",
                                    "1": "2.8",
                                    "2": "57",
                                    "3": "17470",
                                    "4": "6613"
                                },
                                {
                                    "0": "Four Blondes",
                                    "1": "2.8",
                                    "2": "57",
                                    "3": "19763",
                                    "4": "6613"
                                },
                                {
                                    "0": "Four Blondes",
                                    "1": "2.8",
                                    "2": "57",
                                    "3": "21938",
                                    "4": "6613"
                                },
                                {
                                    "0": "Four Blondes",
                                    "1": "2.8",
                                    "2": "57",
                                    "3": "22289",
                                    "4": "6613"
                                },
                                {
                                    "0": "Four Blondes",
                                    "1": "2.8",
                                    "2": "57",
                                    "3": "23758",
                                    "4": "6613"
                                },
                                {
                                    "0": "Four Blondes",
                                    "1": "2.8",
                                    "2": "57",
                                    "3": "27874",
                                    "4": "6613"
                                },
                                {
                                    "0": "Four Blondes",
                                    "1": "2.8",
                                    "2": "57",
                                    "3": "28690",
                                    "4": "6613"
                                },
                                {
                                    "0": "Four Blondes",
                                    "1": "2.8",
                                    "2": "57",
                                    "3": "29023",
                                    "4": "6613"
                                },
                                {
                                    "0": "Four Blondes",
                                    "1": "2.8",
                                    "2": "57",
                                    "3": "29315",
                                    "4": "6613"
                                },
                                {
                                    "0": "Four Blondes",
                                    "1": "2.8",
                                    "2": "57",
                                    "3": "30245",
                                    "4": "6613"
                                },
                                {
                                    "0": "Four Blondes",
                                    "1": "2.8",
                                    "2": "57",
                                    "3": "36128",
                                    "4": "6613"
                                },
                                {
                                    "0": "Four Blondes",
                                    "1": "2.8",
                                    "2": "57",
                                    "3": "36554",
                                    "4": "6613"
                                },
                                {
                                    "0": "Four Blondes",
                                    "1": "2.8",
                                    "2": "57",
                                    "3": "38159",
                                    "4": "6613"
                                },
                                {
                                    "0": "Four Blondes",
                                    "1": "2.8",
                                    "2": "57",
                                    "3": "38800",
                                    "4": "6613"
                                },
                                {
                                    "0": "Four Blondes",
                                    "1": "2.8",
                                    "2": "57",
                                    "3": "40361",
                                    "4": "6613"
                                },
                                {
                                    "0": "Four Blondes",
                                    "1": "2.8",
                                    "2": "57",
                                    "3": "40529",
                                    "4": "6613"
                                },
                                {
                                    "0": "Four Blondes",
                                    "1": "2.8",
                                    "2": "57",
                                    "3": "41485",
                                    "4": "6613"
                                },
                                {
                                    "0": "Four Blondes",
                                    "1": "2.8",
                                    "2": "57",
                                    "3": "42706",
                                    "4": "6613"
                                },
                                {
                                    "0": "Four Blondes",
                                    "1": "2.8",
                                    "2": "57",
                                    "3": "45206",
                                    "4": "6613"
                                },
                                {
                                    "0": "Four Blondes",
                                    "1": "2.8",
                                    "2": "57",
                                    "3": "45689",
                                    "4": "6613"
                                },
                                {
                                    "0": "Four Blondes",
                                    "1": "2.8",
                                    "2": "57",
                                    "3": "49499",
                                    "4": "6613"
                                },
                                {
                                    "0": "Four Blondes",
                                    "1": "2.8",
                                    "2": "57",
                                    "3": "51105",
                                    "4": "6613"
                                },
                                {
                                    "0": "Four Blondes",
                                    "1": "2.8",
                                    "2": "57",
                                    "3": "51671",
                                    "4": "6613"
                                },
                                {
                                    "0": "Four Blondes",
                                    "1": "2.8",
                                    "2": "57",
                                    "3": "52109",
                                    "4": "6613"
                                },
                                {
                                    "0": "Lost",
                                    "1": "2.8",
                                    "2": "18",
                                    "3": "NULL",
                                    "4": "NULL"
                                },
                                {
                                    "0": "Tell-All",
                                    "1": "2.84",
                                    "2": "37",
                                    "3": "NULL",
                                    "4": "NULL"
                                },
                                {
                                    "0": "Revenge Wears Prada: The Devil Returns (The Devil Wears Prada, #2)",
                                    "1": "2.84",
                                    "2": "59",
                                    "3": "NULL",
                                    "4": "NULL"
                                },
                                {
                                    "0": "Among the Ten Thousand Things",
                                    "1": "2.84",
                                    "2": "19",
                                    "3": "NULL",
                                    "4": "NULL"
                                },
                                {
                                    "0": "The Emperor's Children",
                                    "1": "2.93",
                                    "2": "45",
                                    "3": "7860",
                                    "4": "3648"
                                },
                                {
                                    "0": "The Emperor's Children",
                                    "1": "2.93",
                                    "2": "45",
                                    "3": "11320",
                                    "4": "3648"
                                },
                                {
                                    "0": "The Emperor's Children",
                                    "1": "2.93",
                                    "2": "45",
                                    "3": "12686",
                                    "4": "3648"
                                },
                                {
                                    "0": "The Emperor's Children",
                                    "1": "2.93",
                                    "2": "45",
                                    "3": "12729",
                                    "4": "3648"
                                },
                                {
                                    "0": "The Emperor's Children",
                                    "1": "2.93",
                                    "2": "45",
                                    "3": "12891",
                                    "4": "3648"
                                },
                                {
                                    "0": "The Emperor's Children",
                                    "1": "2.93",
                                    "2": "45",
                                    "3": "16933",
                                    "4": "3648"
                                },
                                {
                                    "0": "The Emperor's Children",
                                    "1": "2.93",
                                    "2": "45",
                                    "3": "17093",
                                    "4": "3648"
                                },
                                {
                                    "0": "The Emperor's Children",
                                    "1": "2.93",
                                    "2": "45",
                                    "3": "24036",
                                    "4": "3648"
                                },
                                {
                                    "0": "The Emperor's Children",
                                    "1": "2.93",
                                    "2": "45",
                                    "3": "35122",
                                    "4": "3648"
                                },
                                {
                                    "0": "The Emperor's Children",
                                    "1": "2.93",
                                    "2": "45",
                                    "3": "36022",
                                    "4": "3648"
                                },
                                {
                                    "0": "The Emperor's Children",
                                    "1": "2.93",
                                    "2": "45",
                                    "3": "36952",
                                    "4": "3648"
                                }
                            ]
                        },
                        "text/html": [
                            "<table>",
                            "<tr><th>title</th><th>average_rating</th><th>books_count</th><th>user_id</th><th>book_id</th></tr>",
                            "<tr><td>One Night at the Call Center</td><td>2.47</td><td>25</td><td>NULL</td><td>NULL</td></tr>",
                            "<tr><td>The Almost Moon</td><td>2.67</td><td>63</td><td>NULL</td><td>NULL</td></tr>",
                            "<tr><td>The Finkler Question</td><td>2.76</td><td>45</td><td>NULL</td><td>NULL</td></tr>",
                            "<tr><td>Four Blondes</td><td>2.8</td><td>57</td><td>449</td><td>6613</td></tr>",
                            "<tr><td>Four Blondes</td><td>2.8</td><td>57</td><td>1378</td><td>6613</td></tr>",
                            "<tr><td>Four Blondes</td><td>2.8</td><td>57</td><td>6465</td><td>6613</td></tr>",
                            "<tr><td>Four Blondes</td><td>2.8</td><td>57</td><td>6700</td><td>6613</td></tr>",
                            "<tr><td>Four Blondes</td><td>2.8</td><td>57</td><td>7830</td><td>6613</td></tr>",
                            "<tr><td>Four Blondes</td><td>2.8</td><td>57</td><td>10085</td><td>6613</td></tr>",
                            "<tr><td>Four Blondes</td><td>2.8</td><td>57</td><td>16298</td><td>6613</td></tr>",
                            "<tr><td>Four Blondes</td><td>2.8</td><td>57</td><td>16845</td><td>6613</td></tr>",
                            "<tr><td>Four Blondes</td><td>2.8</td><td>57</td><td>17470</td><td>6613</td></tr>",
                            "<tr><td>Four Blondes</td><td>2.8</td><td>57</td><td>19763</td><td>6613</td></tr>",
                            "<tr><td>Four Blondes</td><td>2.8</td><td>57</td><td>21938</td><td>6613</td></tr>",
                            "<tr><td>Four Blondes</td><td>2.8</td><td>57</td><td>22289</td><td>6613</td></tr>",
                            "<tr><td>Four Blondes</td><td>2.8</td><td>57</td><td>23758</td><td>6613</td></tr>",
                            "<tr><td>Four Blondes</td><td>2.8</td><td>57</td><td>27874</td><td>6613</td></tr>",
                            "<tr><td>Four Blondes</td><td>2.8</td><td>57</td><td>28690</td><td>6613</td></tr>",
                            "<tr><td>Four Blondes</td><td>2.8</td><td>57</td><td>29023</td><td>6613</td></tr>",
                            "<tr><td>Four Blondes</td><td>2.8</td><td>57</td><td>29315</td><td>6613</td></tr>",
                            "<tr><td>Four Blondes</td><td>2.8</td><td>57</td><td>30245</td><td>6613</td></tr>",
                            "<tr><td>Four Blondes</td><td>2.8</td><td>57</td><td>36128</td><td>6613</td></tr>",
                            "<tr><td>Four Blondes</td><td>2.8</td><td>57</td><td>36554</td><td>6613</td></tr>",
                            "<tr><td>Four Blondes</td><td>2.8</td><td>57</td><td>38159</td><td>6613</td></tr>",
                            "<tr><td>Four Blondes</td><td>2.8</td><td>57</td><td>38800</td><td>6613</td></tr>",
                            "<tr><td>Four Blondes</td><td>2.8</td><td>57</td><td>40361</td><td>6613</td></tr>",
                            "<tr><td>Four Blondes</td><td>2.8</td><td>57</td><td>40529</td><td>6613</td></tr>",
                            "<tr><td>Four Blondes</td><td>2.8</td><td>57</td><td>41485</td><td>6613</td></tr>",
                            "<tr><td>Four Blondes</td><td>2.8</td><td>57</td><td>42706</td><td>6613</td></tr>",
                            "<tr><td>Four Blondes</td><td>2.8</td><td>57</td><td>45206</td><td>6613</td></tr>",
                            "<tr><td>Four Blondes</td><td>2.8</td><td>57</td><td>45689</td><td>6613</td></tr>",
                            "<tr><td>Four Blondes</td><td>2.8</td><td>57</td><td>49499</td><td>6613</td></tr>",
                            "<tr><td>Four Blondes</td><td>2.8</td><td>57</td><td>51105</td><td>6613</td></tr>",
                            "<tr><td>Four Blondes</td><td>2.8</td><td>57</td><td>51671</td><td>6613</td></tr>",
                            "<tr><td>Four Blondes</td><td>2.8</td><td>57</td><td>52109</td><td>6613</td></tr>",
                            "<tr><td>Lost</td><td>2.8</td><td>18</td><td>NULL</td><td>NULL</td></tr>",
                            "<tr><td>Tell-All</td><td>2.84</td><td>37</td><td>NULL</td><td>NULL</td></tr>",
                            "<tr><td>Revenge Wears Prada: The Devil Returns (The Devil Wears Prada, #2)</td><td>2.84</td><td>59</td><td>NULL</td><td>NULL</td></tr>",
                            "<tr><td>Among the Ten Thousand Things</td><td>2.84</td><td>19</td><td>NULL</td><td>NULL</td></tr>",
                            "<tr><td>The Emperor's Children</td><td>2.93</td><td>45</td><td>7860</td><td>3648</td></tr>",
                            "<tr><td>The Emperor's Children</td><td>2.93</td><td>45</td><td>11320</td><td>3648</td></tr>",
                            "<tr><td>The Emperor's Children</td><td>2.93</td><td>45</td><td>12686</td><td>3648</td></tr>",
                            "<tr><td>The Emperor's Children</td><td>2.93</td><td>45</td><td>12729</td><td>3648</td></tr>",
                            "<tr><td>The Emperor's Children</td><td>2.93</td><td>45</td><td>12891</td><td>3648</td></tr>",
                            "<tr><td>The Emperor's Children</td><td>2.93</td><td>45</td><td>16933</td><td>3648</td></tr>",
                            "<tr><td>The Emperor's Children</td><td>2.93</td><td>45</td><td>17093</td><td>3648</td></tr>",
                            "<tr><td>The Emperor's Children</td><td>2.93</td><td>45</td><td>24036</td><td>3648</td></tr>",
                            "<tr><td>The Emperor's Children</td><td>2.93</td><td>45</td><td>35122</td><td>3648</td></tr>",
                            "<tr><td>The Emperor's Children</td><td>2.93</td><td>45</td><td>36022</td><td>3648</td></tr>",
                            "<tr><td>The Emperor's Children</td><td>2.93</td><td>45</td><td>36952</td><td>3648</td></tr>",
                            "</table>"
                        ]
                    }
                },
                {
                    "output_type": "execute_result",
                    "metadata": {},
                    "execution_count": 4,
                    "data": {
                        "application/vnd.dataresource+json": {
                            "schema": {
                                "fields": [
                                    {
                                        "name": "title"
                                    },
                                    {
                                        "name": "average_rating"
                                    },
                                    {
                                        "name": "books_count"
                                    },
                                    {
                                        "name": "user_id"
                                    },
                                    {
                                        "name": "book_id"
                                    }
                                ]
                            },
                            "data": [
                                {
                                    "0": "Four Blondes",
                                    "1": "2.8",
                                    "2": "57",
                                    "3": "449",
                                    "4": "6613"
                                },
                                {
                                    "0": "Four Blondes",
                                    "1": "2.8",
                                    "2": "57",
                                    "3": "1378",
                                    "4": "6613"
                                },
                                {
                                    "0": "Four Blondes",
                                    "1": "2.8",
                                    "2": "57",
                                    "3": "6465",
                                    "4": "6613"
                                },
                                {
                                    "0": "Four Blondes",
                                    "1": "2.8",
                                    "2": "57",
                                    "3": "6700",
                                    "4": "6613"
                                },
                                {
                                    "0": "Four Blondes",
                                    "1": "2.8",
                                    "2": "57",
                                    "3": "7830",
                                    "4": "6613"
                                },
                                {
                                    "0": "Four Blondes",
                                    "1": "2.8",
                                    "2": "57",
                                    "3": "10085",
                                    "4": "6613"
                                },
                                {
                                    "0": "Four Blondes",
                                    "1": "2.8",
                                    "2": "57",
                                    "3": "16298",
                                    "4": "6613"
                                },
                                {
                                    "0": "Four Blondes",
                                    "1": "2.8",
                                    "2": "57",
                                    "3": "16845",
                                    "4": "6613"
                                },
                                {
                                    "0": "Four Blondes",
                                    "1": "2.8",
                                    "2": "57",
                                    "3": "17470",
                                    "4": "6613"
                                },
                                {
                                    "0": "Four Blondes",
                                    "1": "2.8",
                                    "2": "57",
                                    "3": "19763",
                                    "4": "6613"
                                },
                                {
                                    "0": "Four Blondes",
                                    "1": "2.8",
                                    "2": "57",
                                    "3": "21938",
                                    "4": "6613"
                                },
                                {
                                    "0": "Four Blondes",
                                    "1": "2.8",
                                    "2": "57",
                                    "3": "22289",
                                    "4": "6613"
                                },
                                {
                                    "0": "Four Blondes",
                                    "1": "2.8",
                                    "2": "57",
                                    "3": "23758",
                                    "4": "6613"
                                },
                                {
                                    "0": "Four Blondes",
                                    "1": "2.8",
                                    "2": "57",
                                    "3": "27874",
                                    "4": "6613"
                                },
                                {
                                    "0": "Four Blondes",
                                    "1": "2.8",
                                    "2": "57",
                                    "3": "28690",
                                    "4": "6613"
                                },
                                {
                                    "0": "Four Blondes",
                                    "1": "2.8",
                                    "2": "57",
                                    "3": "29023",
                                    "4": "6613"
                                },
                                {
                                    "0": "Four Blondes",
                                    "1": "2.8",
                                    "2": "57",
                                    "3": "29315",
                                    "4": "6613"
                                },
                                {
                                    "0": "Four Blondes",
                                    "1": "2.8",
                                    "2": "57",
                                    "3": "30245",
                                    "4": "6613"
                                },
                                {
                                    "0": "Four Blondes",
                                    "1": "2.8",
                                    "2": "57",
                                    "3": "36128",
                                    "4": "6613"
                                },
                                {
                                    "0": "Four Blondes",
                                    "1": "2.8",
                                    "2": "57",
                                    "3": "36554",
                                    "4": "6613"
                                },
                                {
                                    "0": "Four Blondes",
                                    "1": "2.8",
                                    "2": "57",
                                    "3": "38159",
                                    "4": "6613"
                                },
                                {
                                    "0": "Four Blondes",
                                    "1": "2.8",
                                    "2": "57",
                                    "3": "38800",
                                    "4": "6613"
                                },
                                {
                                    "0": "Four Blondes",
                                    "1": "2.8",
                                    "2": "57",
                                    "3": "40361",
                                    "4": "6613"
                                },
                                {
                                    "0": "Four Blondes",
                                    "1": "2.8",
                                    "2": "57",
                                    "3": "40529",
                                    "4": "6613"
                                },
                                {
                                    "0": "Four Blondes",
                                    "1": "2.8",
                                    "2": "57",
                                    "3": "41485",
                                    "4": "6613"
                                },
                                {
                                    "0": "Four Blondes",
                                    "1": "2.8",
                                    "2": "57",
                                    "3": "42706",
                                    "4": "6613"
                                },
                                {
                                    "0": "Four Blondes",
                                    "1": "2.8",
                                    "2": "57",
                                    "3": "45206",
                                    "4": "6613"
                                },
                                {
                                    "0": "Four Blondes",
                                    "1": "2.8",
                                    "2": "57",
                                    "3": "45689",
                                    "4": "6613"
                                },
                                {
                                    "0": "Four Blondes",
                                    "1": "2.8",
                                    "2": "57",
                                    "3": "49499",
                                    "4": "6613"
                                },
                                {
                                    "0": "Four Blondes",
                                    "1": "2.8",
                                    "2": "57",
                                    "3": "51105",
                                    "4": "6613"
                                },
                                {
                                    "0": "Four Blondes",
                                    "1": "2.8",
                                    "2": "57",
                                    "3": "51671",
                                    "4": "6613"
                                },
                                {
                                    "0": "Four Blondes",
                                    "1": "2.8",
                                    "2": "57",
                                    "3": "52109",
                                    "4": "6613"
                                },
                                {
                                    "0": "The Emperor's Children",
                                    "1": "2.93",
                                    "2": "45",
                                    "3": "7860",
                                    "4": "3648"
                                },
                                {
                                    "0": "The Emperor's Children",
                                    "1": "2.93",
                                    "2": "45",
                                    "3": "11320",
                                    "4": "3648"
                                },
                                {
                                    "0": "The Emperor's Children",
                                    "1": "2.93",
                                    "2": "45",
                                    "3": "12686",
                                    "4": "3648"
                                },
                                {
                                    "0": "The Emperor's Children",
                                    "1": "2.93",
                                    "2": "45",
                                    "3": "12729",
                                    "4": "3648"
                                },
                                {
                                    "0": "The Emperor's Children",
                                    "1": "2.93",
                                    "2": "45",
                                    "3": "12891",
                                    "4": "3648"
                                },
                                {
                                    "0": "The Emperor's Children",
                                    "1": "2.93",
                                    "2": "45",
                                    "3": "16933",
                                    "4": "3648"
                                },
                                {
                                    "0": "The Emperor's Children",
                                    "1": "2.93",
                                    "2": "45",
                                    "3": "17093",
                                    "4": "3648"
                                },
                                {
                                    "0": "The Emperor's Children",
                                    "1": "2.93",
                                    "2": "45",
                                    "3": "24036",
                                    "4": "3648"
                                },
                                {
                                    "0": "The Emperor's Children",
                                    "1": "2.93",
                                    "2": "45",
                                    "3": "35122",
                                    "4": "3648"
                                },
                                {
                                    "0": "The Emperor's Children",
                                    "1": "2.93",
                                    "2": "45",
                                    "3": "36022",
                                    "4": "3648"
                                },
                                {
                                    "0": "The Emperor's Children",
                                    "1": "2.93",
                                    "2": "45",
                                    "3": "36952",
                                    "4": "3648"
                                },
                                {
                                    "0": "The Emperor's Children",
                                    "1": "2.93",
                                    "2": "45",
                                    "3": "38430",
                                    "4": "3648"
                                },
                                {
                                    "0": "The Emperor's Children",
                                    "1": "2.93",
                                    "2": "45",
                                    "3": "39414",
                                    "4": "3648"
                                },
                                {
                                    "0": "The Emperor's Children",
                                    "1": "2.93",
                                    "2": "45",
                                    "3": "45261",
                                    "4": "3648"
                                },
                                {
                                    "0": "The Emperor's Children",
                                    "1": "2.93",
                                    "2": "45",
                                    "3": "45497",
                                    "4": "3648"
                                },
                                {
                                    "0": "The Emperor's Children",
                                    "1": "2.93",
                                    "2": "45",
                                    "3": "45747",
                                    "4": "3648"
                                },
                                {
                                    "0": "The Emperor's Children",
                                    "1": "2.93",
                                    "2": "45",
                                    "3": "48502",
                                    "4": "3648"
                                },
                                {
                                    "0": "The Emperor's Children",
                                    "1": "2.93",
                                    "2": "45",
                                    "3": "49233",
                                    "4": "3648"
                                }
                            ]
                        },
                        "text/html": [
                            "<table>",
                            "<tr><th>title</th><th>average_rating</th><th>books_count</th><th>user_id</th><th>book_id</th></tr>",
                            "<tr><td>Four Blondes</td><td>2.8</td><td>57</td><td>449</td><td>6613</td></tr>",
                            "<tr><td>Four Blondes</td><td>2.8</td><td>57</td><td>1378</td><td>6613</td></tr>",
                            "<tr><td>Four Blondes</td><td>2.8</td><td>57</td><td>6465</td><td>6613</td></tr>",
                            "<tr><td>Four Blondes</td><td>2.8</td><td>57</td><td>6700</td><td>6613</td></tr>",
                            "<tr><td>Four Blondes</td><td>2.8</td><td>57</td><td>7830</td><td>6613</td></tr>",
                            "<tr><td>Four Blondes</td><td>2.8</td><td>57</td><td>10085</td><td>6613</td></tr>",
                            "<tr><td>Four Blondes</td><td>2.8</td><td>57</td><td>16298</td><td>6613</td></tr>",
                            "<tr><td>Four Blondes</td><td>2.8</td><td>57</td><td>16845</td><td>6613</td></tr>",
                            "<tr><td>Four Blondes</td><td>2.8</td><td>57</td><td>17470</td><td>6613</td></tr>",
                            "<tr><td>Four Blondes</td><td>2.8</td><td>57</td><td>19763</td><td>6613</td></tr>",
                            "<tr><td>Four Blondes</td><td>2.8</td><td>57</td><td>21938</td><td>6613</td></tr>",
                            "<tr><td>Four Blondes</td><td>2.8</td><td>57</td><td>22289</td><td>6613</td></tr>",
                            "<tr><td>Four Blondes</td><td>2.8</td><td>57</td><td>23758</td><td>6613</td></tr>",
                            "<tr><td>Four Blondes</td><td>2.8</td><td>57</td><td>27874</td><td>6613</td></tr>",
                            "<tr><td>Four Blondes</td><td>2.8</td><td>57</td><td>28690</td><td>6613</td></tr>",
                            "<tr><td>Four Blondes</td><td>2.8</td><td>57</td><td>29023</td><td>6613</td></tr>",
                            "<tr><td>Four Blondes</td><td>2.8</td><td>57</td><td>29315</td><td>6613</td></tr>",
                            "<tr><td>Four Blondes</td><td>2.8</td><td>57</td><td>30245</td><td>6613</td></tr>",
                            "<tr><td>Four Blondes</td><td>2.8</td><td>57</td><td>36128</td><td>6613</td></tr>",
                            "<tr><td>Four Blondes</td><td>2.8</td><td>57</td><td>36554</td><td>6613</td></tr>",
                            "<tr><td>Four Blondes</td><td>2.8</td><td>57</td><td>38159</td><td>6613</td></tr>",
                            "<tr><td>Four Blondes</td><td>2.8</td><td>57</td><td>38800</td><td>6613</td></tr>",
                            "<tr><td>Four Blondes</td><td>2.8</td><td>57</td><td>40361</td><td>6613</td></tr>",
                            "<tr><td>Four Blondes</td><td>2.8</td><td>57</td><td>40529</td><td>6613</td></tr>",
                            "<tr><td>Four Blondes</td><td>2.8</td><td>57</td><td>41485</td><td>6613</td></tr>",
                            "<tr><td>Four Blondes</td><td>2.8</td><td>57</td><td>42706</td><td>6613</td></tr>",
                            "<tr><td>Four Blondes</td><td>2.8</td><td>57</td><td>45206</td><td>6613</td></tr>",
                            "<tr><td>Four Blondes</td><td>2.8</td><td>57</td><td>45689</td><td>6613</td></tr>",
                            "<tr><td>Four Blondes</td><td>2.8</td><td>57</td><td>49499</td><td>6613</td></tr>",
                            "<tr><td>Four Blondes</td><td>2.8</td><td>57</td><td>51105</td><td>6613</td></tr>",
                            "<tr><td>Four Blondes</td><td>2.8</td><td>57</td><td>51671</td><td>6613</td></tr>",
                            "<tr><td>Four Blondes</td><td>2.8</td><td>57</td><td>52109</td><td>6613</td></tr>",
                            "<tr><td>The Emperor's Children</td><td>2.93</td><td>45</td><td>7860</td><td>3648</td></tr>",
                            "<tr><td>The Emperor's Children</td><td>2.93</td><td>45</td><td>11320</td><td>3648</td></tr>",
                            "<tr><td>The Emperor's Children</td><td>2.93</td><td>45</td><td>12686</td><td>3648</td></tr>",
                            "<tr><td>The Emperor's Children</td><td>2.93</td><td>45</td><td>12729</td><td>3648</td></tr>",
                            "<tr><td>The Emperor's Children</td><td>2.93</td><td>45</td><td>12891</td><td>3648</td></tr>",
                            "<tr><td>The Emperor's Children</td><td>2.93</td><td>45</td><td>16933</td><td>3648</td></tr>",
                            "<tr><td>The Emperor's Children</td><td>2.93</td><td>45</td><td>17093</td><td>3648</td></tr>",
                            "<tr><td>The Emperor's Children</td><td>2.93</td><td>45</td><td>24036</td><td>3648</td></tr>",
                            "<tr><td>The Emperor's Children</td><td>2.93</td><td>45</td><td>35122</td><td>3648</td></tr>",
                            "<tr><td>The Emperor's Children</td><td>2.93</td><td>45</td><td>36022</td><td>3648</td></tr>",
                            "<tr><td>The Emperor's Children</td><td>2.93</td><td>45</td><td>36952</td><td>3648</td></tr>",
                            "<tr><td>The Emperor's Children</td><td>2.93</td><td>45</td><td>38430</td><td>3648</td></tr>",
                            "<tr><td>The Emperor's Children</td><td>2.93</td><td>45</td><td>39414</td><td>3648</td></tr>",
                            "<tr><td>The Emperor's Children</td><td>2.93</td><td>45</td><td>45261</td><td>3648</td></tr>",
                            "<tr><td>The Emperor's Children</td><td>2.93</td><td>45</td><td>45497</td><td>3648</td></tr>",
                            "<tr><td>The Emperor's Children</td><td>2.93</td><td>45</td><td>45747</td><td>3648</td></tr>",
                            "<tr><td>The Emperor's Children</td><td>2.93</td><td>45</td><td>48502</td><td>3648</td></tr>",
                            "<tr><td>The Emperor's Children</td><td>2.93</td><td>45</td><td>49233</td><td>3648</td></tr>",
                            "</table>"
                        ]
                    }
                }
            ],
            "execution_count": 4
        },
        {
            "cell_type": "markdown",
            "source": [
                "## **QUESTION 2:** Exploring **RIGHT** joins with the **books** and **to\\_read** tables\n",
                "\n",
                "You will need to uncomment the Query to answer the question.\n",
                "\n",
                "**Part A:** Looking at the query, which table is the 'Left' and which is the 'Right'?\n",
                "\n",
                "> Your Answer: The left table is books and the right table is to\\_read.\n",
                "\n",
                "**Part B:** How do the RIGHT-joined tables differ from the LEFT-joined tables in Question 1?  \n",
                "\n",
                "> Your Answer: The RIGHT-joined tables has many more NULL values and different books selected."
            ],
            "metadata": {
                "azdata_cell_guid": "c1e417d9-89d2-4a7d-ab46-b43c8bddc54f"
            },
            "attachments": {}
        },
        {
            "cell_type": "code",
            "source": [
                "\n",
                "-- Query 1: RIGHT JOIN\n",
                "SELECT TOP 300 b.title, b.average_rating, b.books_count, tr.user_id, tr.book_id\n",
                "FROM BooksDB.dbo.books AS b\n",
                "RIGHT JOIN BooksDB.dbo.to_read AS tr\n",
                "ON b.best_book_id = tr.book_id;\n",
                ""
            ],
            "metadata": {
                "azdata_cell_guid": "8cf020b8-2a76-46a6-acff-97eb1acc7fed",
                "tags": [],
                "language": "sql"
            },
            "outputs": [
                {
                    "output_type": "display_data",
                    "data": {
                        "text/html": "(300 rows affected)"
                    },
                    "metadata": {}
                },
                {
                    "output_type": "display_data",
                    "data": {
                        "text/html": "Total execution time: 00:00:00.097"
                    },
                    "metadata": {}
                },
                {
                    "output_type": "execute_result",
                    "metadata": {},
                    "execution_count": 5,
                    "data": {
                        "application/vnd.dataresource+json": {
                            "schema": {
                                "fields": [
                                    {
                                        "name": "title"
                                    },
                                    {
                                        "name": "average_rating"
                                    },
                                    {
                                        "name": "books_count"
                                    },
                                    {
                                        "name": "user_id"
                                    },
                                    {
                                        "name": "book_id"
                                    }
                                ]
                            },
                            "data": [
                                {
                                    "0": "Children of Dune (Dune Chronicles #3)",
                                    "1": "3.9",
                                    "2": "116",
                                    "3": "1",
                                    "4": "112"
                                },
                                {
                                    "0": "NULL",
                                    "1": "NULL",
                                    "2": "NULL",
                                    "3": "1",
                                    "4": "235"
                                },
                                {
                                    "0": "NULL",
                                    "1": "NULL",
                                    "2": "NULL",
                                    "3": "1",
                                    "4": "533"
                                },
                                {
                                    "0": "NULL",
                                    "1": "NULL",
                                    "2": "NULL",
                                    "3": "1",
                                    "4": "1198"
                                },
                                {
                                    "0": "NULL",
                                    "1": "NULL",
                                    "2": "NULL",
                                    "3": "1",
                                    "4": "1874"
                                },
                                {
                                    "0": "NULL",
                                    "1": "NULL",
                                    "2": "NULL",
                                    "3": "1",
                                    "4": "2058"
                                },
                                {
                                    "0": "NULL",
                                    "1": "NULL",
                                    "2": "NULL",
                                    "3": "1",
                                    "4": "3334"
                                },
                                {
                                    "0": "NULL",
                                    "1": "NULL",
                                    "2": "NULL",
                                    "3": "2",
                                    "4": "4"
                                },
                                {
                                    "0": "NULL",
                                    "1": "NULL",
                                    "2": "NULL",
                                    "3": "2",
                                    "4": "11"
                                },
                                {
                                    "0": "The Ultimate Hitchhiker's Guide to the Galaxy",
                                    "1": "4.37",
                                    "2": "32",
                                    "3": "2",
                                    "4": "13"
                                },
                                {
                                    "0": "NULL",
                                    "1": "NULL",
                                    "2": "NULL",
                                    "3": "2",
                                    "4": "16"
                                },
                                {
                                    "0": "NULL",
                                    "1": "NULL",
                                    "2": "NULL",
                                    "3": "2",
                                    "4": "92"
                                },
                                {
                                    "0": "Dune Messiah (Dune Chronicles #2)",
                                    "1": "3.86",
                                    "2": "140",
                                    "3": "2",
                                    "4": "106"
                                },
                                {
                                    "0": "NULL",
                                    "1": "NULL",
                                    "2": "NULL",
                                    "3": "2",
                                    "4": "113"
                                },
                                {
                                    "0": "NULL",
                                    "1": "NULL",
                                    "2": "NULL",
                                    "3": "2",
                                    "4": "233"
                                },
                                {
                                    "0": "NULL",
                                    "1": "NULL",
                                    "2": "NULL",
                                    "3": "2",
                                    "4": "247"
                                },
                                {
                                    "0": "NULL",
                                    "1": "NULL",
                                    "2": "NULL",
                                    "3": "2",
                                    "4": "380"
                                },
                                {
                                    "0": "NULL",
                                    "1": "NULL",
                                    "2": "NULL",
                                    "3": "2",
                                    "4": "408"
                                },
                                {
                                    "0": "NULL",
                                    "1": "NULL",
                                    "2": "NULL",
                                    "3": "2",
                                    "4": "439"
                                },
                                {
                                    "0": "NULL",
                                    "1": "NULL",
                                    "2": "NULL",
                                    "3": "2",
                                    "4": "479"
                                },
                                {
                                    "0": "NULL",
                                    "1": "NULL",
                                    "2": "NULL",
                                    "3": "2",
                                    "4": "516"
                                },
                                {
                                    "0": "NULL",
                                    "1": "NULL",
                                    "2": "NULL",
                                    "3": "2",
                                    "4": "619"
                                },
                                {
                                    "0": "NULL",
                                    "1": "NULL",
                                    "2": "NULL",
                                    "3": "2",
                                    "4": "1069"
                                },
                                {
                                    "0": "The Iliad",
                                    "1": "3.83",
                                    "2": "1726",
                                    "3": "2",
                                    "4": "1371"
                                },
                                {
                                    "0": "NULL",
                                    "1": "NULL",
                                    "2": "NULL",
                                    "3": "2",
                                    "4": "1384"
                                },
                                {
                                    "0": "NULL",
                                    "1": "NULL",
                                    "2": "NULL",
                                    "3": "2",
                                    "4": "1597"
                                },
                                {
                                    "0": "NULL",
                                    "1": "NULL",
                                    "2": "NULL",
                                    "3": "2",
                                    "4": "1926"
                                },
                                {
                                    "0": "NULL",
                                    "1": "NULL",
                                    "2": "NULL",
                                    "3": "2",
                                    "4": "1967"
                                },
                                {
                                    "0": "NULL",
                                    "1": "NULL",
                                    "2": "NULL",
                                    "3": "2",
                                    "4": "1969"
                                },
                                {
                                    "0": "NULL",
                                    "1": "NULL",
                                    "2": "NULL",
                                    "3": "2",
                                    "4": "2220"
                                },
                                {
                                    "0": "NULL",
                                    "1": "NULL",
                                    "2": "NULL",
                                    "3": "2",
                                    "4": "2388"
                                },
                                {
                                    "0": "NULL",
                                    "1": "NULL",
                                    "2": "NULL",
                                    "3": "2",
                                    "4": "3222"
                                },
                                {
                                    "0": "NULL",
                                    "1": "NULL",
                                    "2": "NULL",
                                    "3": "2",
                                    "4": "3227"
                                },
                                {
                                    "0": "NULL",
                                    "1": "NULL",
                                    "2": "NULL",
                                    "3": "2",
                                    "4": "3733"
                                },
                                {
                                    "0": "NULL",
                                    "1": "NULL",
                                    "2": "NULL",
                                    "3": "2",
                                    "4": "5418"
                                },
                                {
                                    "0": "NULL",
                                    "1": "NULL",
                                    "2": "NULL",
                                    "3": "2",
                                    "4": "6937"
                                },
                                {
                                    "0": "NULL",
                                    "1": "NULL",
                                    "2": "NULL",
                                    "3": "2",
                                    "4": "7146"
                                },
                                {
                                    "0": "NULL",
                                    "1": "NULL",
                                    "2": "NULL",
                                    "3": "2",
                                    "4": "7873"
                                },
                                {
                                    "0": "NULL",
                                    "1": "NULL",
                                    "2": "NULL",
                                    "3": "2",
                                    "4": "8417"
                                },
                                {
                                    "0": "Harry Potter Collection (Harry Potter, #1-6)",
                                    "1": "4.73",
                                    "2": "6",
                                    "3": "3",
                                    "4": "10"
                                },
                                {
                                    "0": "NULL",
                                    "1": "NULL",
                                    "2": "NULL",
                                    "3": "3",
                                    "4": "66"
                                },
                                {
                                    "0": "NULL",
                                    "1": "NULL",
                                    "2": "NULL",
                                    "3": "3",
                                    "4": "233"
                                },
                                {
                                    "0": "NULL",
                                    "1": "NULL",
                                    "2": "NULL",
                                    "3": "3",
                                    "4": "726"
                                },
                                {
                                    "0": "NULL",
                                    "1": "NULL",
                                    "2": "NULL",
                                    "3": "3",
                                    "4": "932"
                                },
                                {
                                    "0": "NULL",
                                    "1": "NULL",
                                    "2": "NULL",
                                    "3": "3",
                                    "4": "1146"
                                },
                                {
                                    "0": "NULL",
                                    "1": "NULL",
                                    "2": "NULL",
                                    "3": "3",
                                    "4": "2439"
                                },
                                {
                                    "0": "NULL",
                                    "1": "NULL",
                                    "2": "NULL",
                                    "3": "3",
                                    "4": "3566"
                                },
                                {
                                    "0": "NULL",
                                    "1": "NULL",
                                    "2": "NULL",
                                    "3": "3",
                                    "4": "4582"
                                },
                                {
                                    "0": "NULL",
                                    "1": "NULL",
                                    "2": "NULL",
                                    "3": "3",
                                    "4": "5448"
                                },
                                {
                                    "0": "NULL",
                                    "1": "NULL",
                                    "2": "NULL",
                                    "3": "3",
                                    "4": "5765"
                                },
                                {
                                    "0": "NULL",
                                    "1": "NULL",
                                    "2": "NULL",
                                    "3": "3",
                                    "4": "6274"
                                },
                                {
                                    "0": "NULL",
                                    "1": "NULL",
                                    "2": "NULL",
                                    "3": "3",
                                    "4": "8403"
                                },
                                {
                                    "0": "NULL",
                                    "1": "NULL",
                                    "2": "NULL",
                                    "3": "5",
                                    "4": "31"
                                },
                                {
                                    "0": "The Virtue of Selfishness: A New Concept of Egoism",
                                    "1": "3.47",
                                    "2": "53",
                                    "3": "5",
                                    "4": "665"
                                },
                                {
                                    "0": "NULL",
                                    "1": "NULL",
                                    "2": "NULL",
                                    "3": "5",
                                    "4": "3074"
                                },
                                {
                                    "0": "Sherlock Holmes: The Complete Novels and Stories, Volume I",
                                    "1": "4.45",
                                    "2": "13",
                                    "3": "5",
                                    "4": "3581"
                                },
                                {
                                    "0": "NULL",
                                    "1": "NULL",
                                    "2": "NULL",
                                    "3": "6",
                                    "4": "64"
                                },
                                {
                                    "0": "NULL",
                                    "1": "NULL",
                                    "2": "NULL",
                                    "3": "6",
                                    "4": "459"
                                },
                                {
                                    "0": "NULL",
                                    "1": "NULL",
                                    "2": "NULL",
                                    "3": "6",
                                    "4": "619"
                                },
                                {
                                    "0": "NULL",
                                    "1": "NULL",
                                    "2": "NULL",
                                    "3": "6",
                                    "4": "649"
                                },
                                {
                                    "0": "NULL",
                                    "1": "NULL",
                                    "2": "NULL",
                                    "3": "6",
                                    "4": "687"
                                },
                                {
                                    "0": "NULL",
                                    "1": "NULL",
                                    "2": "NULL",
                                    "3": "6",
                                    "4": "874"
                                },
                                {
                                    "0": "The War of Art: Break Through the Blocks & Win Your Inner Creative Battles",
                                    "1": "4.07",
                                    "2": "29",
                                    "3": "6",
                                    "4": "1319"
                                },
                                {
                                    "0": "NULL",
                                    "1": "NULL",
                                    "2": "NULL",
                                    "3": "6",
                                    "4": "1912"
                                },
                                {
                                    "0": "NULL",
                                    "1": "NULL",
                                    "2": "NULL",
                                    "3": "6",
                                    "4": "5269"
                                },
                                {
                                    "0": "NULL",
                                    "1": "NULL",
                                    "2": "NULL",
                                    "3": "6",
                                    "4": "5537"
                                },
                                {
                                    "0": "NULL",
                                    "1": "NULL",
                                    "2": "NULL",
                                    "3": "6",
                                    "4": "5820"
                                },
                                {
                                    "0": "NULL",
                                    "1": "NULL",
                                    "2": "NULL",
                                    "3": "6",
                                    "4": "6220"
                                },
                                {
                                    "0": "NULL",
                                    "1": "NULL",
                                    "2": "NULL",
                                    "3": "6",
                                    "4": "7480"
                                },
                                {
                                    "0": "Harry Potter Collection (Harry Potter, #1-6)",
                                    "1": "4.73",
                                    "2": "6",
                                    "3": "7",
                                    "4": "10"
                                },
                                {
                                    "0": "NULL",
                                    "1": "NULL",
                                    "2": "NULL",
                                    "3": "7",
                                    "4": "215"
                                },
                                {
                                    "0": "NULL",
                                    "1": "NULL",
                                    "2": "NULL",
                                    "3": "7",
                                    "4": "225"
                                },
                                {
                                    "0": "NULL",
                                    "1": "NULL",
                                    "2": "NULL",
                                    "3": "7",
                                    "4": "233"
                                },
                                {
                                    "0": "NULL",
                                    "1": "NULL",
                                    "2": "NULL",
                                    "3": "7",
                                    "4": "1322"
                                },
                                {
                                    "0": "NULL",
                                    "1": "NULL",
                                    "2": "NULL",
                                    "3": "7",
                                    "4": "3552"
                                },
                                {
                                    "0": "NULL",
                                    "1": "NULL",
                                    "2": "NULL",
                                    "3": "7",
                                    "4": "3720"
                                },
                                {
                                    "0": "NULL",
                                    "1": "NULL",
                                    "2": "NULL",
                                    "3": "7",
                                    "4": "4468"
                                },
                                {
                                    "0": "NULL",
                                    "1": "NULL",
                                    "2": "NULL",
                                    "3": "8",
                                    "4": "19"
                                },
                                {
                                    "0": "NULL",
                                    "1": "NULL",
                                    "2": "NULL",
                                    "3": "8",
                                    "4": "498"
                                },
                                {
                                    "0": "NULL",
                                    "1": "NULL",
                                    "2": "NULL",
                                    "3": "8",
                                    "4": "1357"
                                },
                                {
                                    "0": "NULL",
                                    "1": "NULL",
                                    "2": "NULL",
                                    "3": "8",
                                    "4": "2177"
                                },
                                {
                                    "0": "NULL",
                                    "1": "NULL",
                                    "2": "NULL",
                                    "3": "8",
                                    "4": "3930"
                                },
                                {
                                    "0": "The Pilgrimage",
                                    "1": "3.64",
                                    "2": "171",
                                    "3": "8",
                                    "4": "4004"
                                },
                                {
                                    "0": "NULL",
                                    "1": "NULL",
                                    "2": "NULL",
                                    "3": "8",
                                    "4": "8792"
                                },
                                {
                                    "0": "NULL",
                                    "1": "NULL",
                                    "2": "NULL",
                                    "3": "8",
                                    "4": "9304"
                                },
                                {
                                    "0": "Harry Potter Boxed Set, Books 1-5 (Harry Potter, #1-5)",
                                    "1": "4.77",
                                    "2": "11",
                                    "3": "9",
                                    "4": "8"
                                },
                                {
                                    "0": "Children of Dune (Dune Chronicles #3)",
                                    "1": "3.9",
                                    "2": "116",
                                    "3": "9",
                                    "4": "112"
                                },
                                {
                                    "0": "NULL",
                                    "1": "NULL",
                                    "2": "NULL",
                                    "3": "9",
                                    "4": "139"
                                },
                                {
                                    "0": "NULL",
                                    "1": "NULL",
                                    "2": "NULL",
                                    "3": "9",
                                    "4": "230"
                                },
                                {
                                    "0": "NULL",
                                    "1": "NULL",
                                    "2": "NULL",
                                    "3": "9",
                                    "4": "233"
                                },
                                {
                                    "0": "NULL",
                                    "1": "NULL",
                                    "2": "NULL",
                                    "3": "9",
                                    "4": "473"
                                },
                                {
                                    "0": "NULL",
                                    "1": "NULL",
                                    "2": "NULL",
                                    "3": "9",
                                    "4": "638"
                                },
                                {
                                    "0": "NULL",
                                    "1": "NULL",
                                    "2": "NULL",
                                    "3": "9",
                                    "4": "653"
                                },
                                {
                                    "0": "NULL",
                                    "1": "NULL",
                                    "2": "NULL",
                                    "3": "9",
                                    "4": "672"
                                },
                                {
                                    "0": "NULL",
                                    "1": "NULL",
                                    "2": "NULL",
                                    "3": "9",
                                    "4": "701"
                                },
                                {
                                    "0": "NULL",
                                    "1": "NULL",
                                    "2": "NULL",
                                    "3": "9",
                                    "4": "736"
                                },
                                {
                                    "0": "NULL",
                                    "1": "NULL",
                                    "2": "NULL",
                                    "3": "9",
                                    "4": "883"
                                },
                                {
                                    "0": "NULL",
                                    "1": "NULL",
                                    "2": "NULL",
                                    "3": "9",
                                    "4": "895"
                                },
                                {
                                    "0": "NULL",
                                    "1": "NULL",
                                    "2": "NULL",
                                    "3": "9",
                                    "4": "1467"
                                },
                                {
                                    "0": "NULL",
                                    "1": "NULL",
                                    "2": "NULL",
                                    "3": "9",
                                    "4": "1582"
                                },
                                {
                                    "0": "NULL",
                                    "1": "NULL",
                                    "2": "NULL",
                                    "3": "9",
                                    "4": "1873"
                                },
                                {
                                    "0": "NULL",
                                    "1": "NULL",
                                    "2": "NULL",
                                    "3": "9",
                                    "4": "2516"
                                },
                                {
                                    "0": "NULL",
                                    "1": "NULL",
                                    "2": "NULL",
                                    "3": "9",
                                    "4": "2630"
                                },
                                {
                                    "0": "NULL",
                                    "1": "NULL",
                                    "2": "NULL",
                                    "3": "9",
                                    "4": "3210"
                                },
                                {
                                    "0": "Icy Sparks",
                                    "1": "3.68",
                                    "2": "27",
                                    "3": "9",
                                    "4": "3476"
                                },
                                {
                                    "0": "NULL",
                                    "1": "NULL",
                                    "2": "NULL",
                                    "3": "9",
                                    "4": "3560"
                                },
                                {
                                    "0": "NULL",
                                    "1": "NULL",
                                    "2": "NULL",
                                    "3": "9",
                                    "4": "3650"
                                },
                                {
                                    "0": "NULL",
                                    "1": "NULL",
                                    "2": "NULL",
                                    "3": "9",
                                    "4": "5286"
                                },
                                {
                                    "0": "NULL",
                                    "1": "NULL",
                                    "2": "NULL",
                                    "3": "9",
                                    "4": "6636"
                                },
                                {
                                    "0": "Harry Potter and the Goblet of Fire (Harry Potter, #4)",
                                    "1": "4.53",
                                    "2": "332",
                                    "3": "10",
                                    "4": "6"
                                },
                                {
                                    "0": "NULL",
                                    "1": "NULL",
                                    "2": "NULL",
                                    "3": "10",
                                    "4": "385"
                                },
                                {
                                    "0": "Atlas Shrugged",
                                    "1": "3.68",
                                    "2": "147",
                                    "3": "10",
                                    "4": "662"
                                },
                                {
                                    "0": "NULL",
                                    "1": "NULL",
                                    "2": "NULL",
                                    "3": "10",
                                    "4": "896"
                                },
                                {
                                    "0": "NULL",
                                    "1": "NULL",
                                    "2": "NULL",
                                    "3": "10",
                                    "4": "1076"
                                },
                                {
                                    "0": "NULL",
                                    "1": "NULL",
                                    "2": "NULL",
                                    "3": "10",
                                    "4": "1082"
                                },
                                {
                                    "0": "NULL",
                                    "1": "NULL",
                                    "2": "NULL",
                                    "3": "10",
                                    "4": "1220"
                                },
                                {
                                    "0": "NULL",
                                    "1": "NULL",
                                    "2": "NULL",
                                    "3": "10",
                                    "4": "1281"
                                },
                                {
                                    "0": "NULL",
                                    "1": "NULL",
                                    "2": "NULL",
                                    "3": "10",
                                    "4": "1439"
                                },
                                {
                                    "0": "NULL",
                                    "1": "NULL",
                                    "2": "NULL",
                                    "3": "10",
                                    "4": "1851"
                                },
                                {
                                    "0": "NULL",
                                    "1": "NULL",
                                    "2": "NULL",
                                    "3": "10",
                                    "4": "1920"
                                },
                                {
                                    "0": "NULL",
                                    "1": "NULL",
                                    "2": "NULL",
                                    "3": "10",
                                    "4": "2441"
                                },
                                {
                                    "0": "NULL",
                                    "1": "NULL",
                                    "2": "NULL",
                                    "3": "10",
                                    "4": "2570"
                                },
                                {
                                    "0": "NULL",
                                    "1": "NULL",
                                    "2": "NULL",
                                    "3": "10",
                                    "4": "2616"
                                },
                                {
                                    "0": "NULL",
                                    "1": "NULL",
                                    "2": "NULL",
                                    "3": "10",
                                    "4": "3059"
                                },
                                {
                                    "0": "NULL",
                                    "1": "NULL",
                                    "2": "NULL",
                                    "3": "10",
                                    "4": "3545"
                                },
                                {
                                    "0": "NULL",
                                    "1": "NULL",
                                    "2": "NULL",
                                    "3": "10",
                                    "4": "3961"
                                },
                                {
                                    "0": "NULL",
                                    "1": "NULL",
                                    "2": "NULL",
                                    "3": "10",
                                    "4": "4369"
                                },
                                {
                                    "0": "NULL",
                                    "1": "NULL",
                                    "2": "NULL",
                                    "3": "10",
                                    "4": "4510"
                                },
                                {
                                    "0": "NULL",
                                    "1": "NULL",
                                    "2": "NULL",
                                    "3": "10",
                                    "4": "5104"
                                },
                                {
                                    "0": "NULL",
                                    "1": "NULL",
                                    "2": "NULL",
                                    "3": "10",
                                    "4": "5254"
                                },
                                {
                                    "0": "NULL",
                                    "1": "NULL",
                                    "2": "NULL",
                                    "3": "10",
                                    "4": "5556"
                                },
                                {
                                    "0": "NULL",
                                    "1": "NULL",
                                    "2": "NULL",
                                    "3": "10",
                                    "4": "6114"
                                },
                                {
                                    "0": "NULL",
                                    "1": "NULL",
                                    "2": "NULL",
                                    "3": "10",
                                    "4": "6917"
                                },
                                {
                                    "0": "NULL",
                                    "1": "NULL",
                                    "2": "NULL",
                                    "3": "10",
                                    "4": "7545"
                                },
                                {
                                    "0": "NULL",
                                    "1": "NULL",
                                    "2": "NULL",
                                    "3": "10",
                                    "4": "7842"
                                },
                                {
                                    "0": "NULL",
                                    "1": "NULL",
                                    "2": "NULL",
                                    "3": "11",
                                    "4": "3643"
                                },
                                {
                                    "0": "Harry Potter and the Half-Blood Prince (Harry Potter, #6)",
                                    "1": "4.54",
                                    "2": "275",
                                    "3": "12",
                                    "4": "1"
                                },
                                {
                                    "0": "NULL",
                                    "1": "NULL",
                                    "2": "NULL",
                                    "3": "12",
                                    "4": "124"
                                },
                                {
                                    "0": "NULL",
                                    "1": "NULL",
                                    "2": "NULL",
                                    "3": "12",
                                    "4": "1471"
                                },
                                {
                                    "0": "NULL",
                                    "1": "NULL",
                                    "2": "NULL",
                                    "3": "12",
                                    "4": "2893"
                                },
                                {
                                    "0": "NULL",
                                    "1": "NULL",
                                    "2": "NULL",
                                    "3": "13",
                                    "4": "81"
                                },
                                {
                                    "0": "NULL",
                                    "1": "NULL",
                                    "2": "NULL",
                                    "3": "13",
                                    "4": "277"
                                },
                                {
                                    "0": "NULL",
                                    "1": "NULL",
                                    "2": "NULL",
                                    "3": "13",
                                    "4": "318"
                                },
                                {
                                    "0": "NULL",
                                    "1": "NULL",
                                    "2": "NULL",
                                    "3": "13",
                                    "4": "430"
                                },
                                {
                                    "0": "NULL",
                                    "1": "NULL",
                                    "2": "NULL",
                                    "3": "13",
                                    "4": "437"
                                },
                                {
                                    "0": "NULL",
                                    "1": "NULL",
                                    "2": "NULL",
                                    "3": "13",
                                    "4": "551"
                                },
                                {
                                    "0": "NULL",
                                    "1": "NULL",
                                    "2": "NULL",
                                    "3": "13",
                                    "4": "560"
                                },
                                {
                                    "0": "NULL",
                                    "1": "NULL",
                                    "2": "NULL",
                                    "3": "13",
                                    "4": "610"
                                },
                                {
                                    "0": "NULL",
                                    "1": "NULL",
                                    "2": "NULL",
                                    "3": "13",
                                    "4": "678"
                                },
                                {
                                    "0": "NULL",
                                    "1": "NULL",
                                    "2": "NULL",
                                    "3": "13",
                                    "4": "979"
                                },
                                {
                                    "0": "NULL",
                                    "1": "NULL",
                                    "2": "NULL",
                                    "3": "13",
                                    "4": "1082"
                                },
                                {
                                    "0": "NULL",
                                    "1": "NULL",
                                    "2": "NULL",
                                    "3": "13",
                                    "4": "1464"
                                },
                                {
                                    "0": "NULL",
                                    "1": "NULL",
                                    "2": "NULL",
                                    "3": "13",
                                    "4": "1577"
                                },
                                {
                                    "0": "NULL",
                                    "1": "NULL",
                                    "2": "NULL",
                                    "3": "13",
                                    "4": "2018"
                                },
                                {
                                    "0": "NULL",
                                    "1": "NULL",
                                    "2": "NULL",
                                    "3": "13",
                                    "4": "2418"
                                },
                                {
                                    "0": "NULL",
                                    "1": "NULL",
                                    "2": "NULL",
                                    "3": "13",
                                    "4": "3257"
                                },
                                {
                                    "0": "NULL",
                                    "1": "NULL",
                                    "2": "NULL",
                                    "3": "13",
                                    "4": "4212"
                                },
                                {
                                    "0": "NULL",
                                    "1": "NULL",
                                    "2": "NULL",
                                    "3": "13",
                                    "4": "4635"
                                },
                                {
                                    "0": "NULL",
                                    "1": "NULL",
                                    "2": "NULL",
                                    "3": "13",
                                    "4": "4704"
                                },
                                {
                                    "0": "NULL",
                                    "1": "NULL",
                                    "2": "NULL",
                                    "3": "13",
                                    "4": "4734"
                                },
                                {
                                    "0": "NULL",
                                    "1": "NULL",
                                    "2": "NULL",
                                    "3": "13",
                                    "4": "4841"
                                },
                                {
                                    "0": "NULL",
                                    "1": "NULL",
                                    "2": "NULL",
                                    "3": "13",
                                    "4": "4848"
                                },
                                {
                                    "0": "NULL",
                                    "1": "NULL",
                                    "2": "NULL",
                                    "3": "13",
                                    "4": "4856"
                                },
                                {
                                    "0": "NULL",
                                    "1": "NULL",
                                    "2": "NULL",
                                    "3": "13",
                                    "4": "4928"
                                },
                                {
                                    "0": "NULL",
                                    "1": "NULL",
                                    "2": "NULL",
                                    "3": "13",
                                    "4": "6114"
                                },
                                {
                                    "0": "NULL",
                                    "1": "NULL",
                                    "2": "NULL",
                                    "3": "13",
                                    "4": "6793"
                                },
                                {
                                    "0": "NULL",
                                    "1": "NULL",
                                    "2": "NULL",
                                    "3": "13",
                                    "4": "6962"
                                },
                                {
                                    "0": "NULL",
                                    "1": "NULL",
                                    "2": "NULL",
                                    "3": "13",
                                    "4": "8717"
                                },
                                {
                                    "0": "NULL",
                                    "1": "NULL",
                                    "2": "NULL",
                                    "3": "14",
                                    "4": "493"
                                },
                                {
                                    "0": "NULL",
                                    "1": "NULL",
                                    "2": "NULL",
                                    "3": "14",
                                    "4": "1179"
                                },
                                {
                                    "0": "NULL",
                                    "1": "NULL",
                                    "2": "NULL",
                                    "3": "14",
                                    "4": "2693"
                                },
                                {
                                    "0": "Sherlock Holmes: The Complete Novels and Stories, Volume I",
                                    "1": "4.45",
                                    "2": "13",
                                    "3": "14",
                                    "4": "3581"
                                },
                                {
                                    "0": "NULL",
                                    "1": "NULL",
                                    "2": "NULL",
                                    "3": "14",
                                    "4": "3683"
                                },
                                {
                                    "0": "NULL",
                                    "1": "NULL",
                                    "2": "NULL",
                                    "3": "14",
                                    "4": "3953"
                                },
                                {
                                    "0": "NULL",
                                    "1": "NULL",
                                    "2": "NULL",
                                    "3": "14",
                                    "4": "4220"
                                },
                                {
                                    "0": "NULL",
                                    "1": "NULL",
                                    "2": "NULL",
                                    "3": "14",
                                    "4": "5076"
                                },
                                {
                                    "0": "NULL",
                                    "1": "NULL",
                                    "2": "NULL",
                                    "3": "14",
                                    "4": "5537"
                                },
                                {
                                    "0": "NULL",
                                    "1": "NULL",
                                    "2": "NULL",
                                    "3": "14",
                                    "4": "7777"
                                },
                                {
                                    "0": "NULL",
                                    "1": "NULL",
                                    "2": "NULL",
                                    "3": "15",
                                    "4": "191"
                                },
                                {
                                    "0": "The Lover",
                                    "1": "3.76",
                                    "2": "148",
                                    "3": "15",
                                    "4": "275"
                                },
                                {
                                    "0": "NULL",
                                    "1": "NULL",
                                    "2": "NULL",
                                    "3": "15",
                                    "4": "398"
                                },
                                {
                                    "0": "NULL",
                                    "1": "NULL",
                                    "2": "NULL",
                                    "3": "15",
                                    "4": "666"
                                },
                                {
                                    "0": "NULL",
                                    "1": "NULL",
                                    "2": "NULL",
                                    "3": "15",
                                    "4": "1491"
                                },
                                {
                                    "0": "NULL",
                                    "1": "NULL",
                                    "2": "NULL",
                                    "3": "15",
                                    "4": "5210"
                                },
                                {
                                    "0": "NULL",
                                    "1": "NULL",
                                    "2": "NULL",
                                    "3": "17",
                                    "4": "1344"
                                },
                                {
                                    "0": "The Good Soldier",
                                    "1": "3.72",
                                    "2": "362",
                                    "3": "20",
                                    "4": "7628"
                                },
                                {
                                    "0": "NULL",
                                    "1": "NULL",
                                    "2": "NULL",
                                    "3": "22",
                                    "4": "653"
                                },
                                {
                                    "0": "NULL",
                                    "1": "NULL",
                                    "2": "NULL",
                                    "3": "22",
                                    "4": "1403"
                                },
                                {
                                    "0": "NULL",
                                    "1": "NULL",
                                    "2": "NULL",
                                    "3": "22",
                                    "4": "1405"
                                },
                                {
                                    "0": "NULL",
                                    "1": "NULL",
                                    "2": "NULL",
                                    "3": "22",
                                    "4": "1645"
                                },
                                {
                                    "0": "NULL",
                                    "1": "NULL",
                                    "2": "NULL",
                                    "3": "22",
                                    "4": "2500"
                                },
                                {
                                    "0": "NULL",
                                    "1": "NULL",
                                    "2": "NULL",
                                    "3": "22",
                                    "4": "2691"
                                },
                                {
                                    "0": "NULL",
                                    "1": "NULL",
                                    "2": "NULL",
                                    "3": "22",
                                    "4": "4995"
                                },
                                {
                                    "0": "NULL",
                                    "1": "NULL",
                                    "2": "NULL",
                                    "3": "23",
                                    "4": "273"
                                },
                                {
                                    "0": "NULL",
                                    "1": "NULL",
                                    "2": "NULL",
                                    "3": "23",
                                    "4": "459"
                                },
                                {
                                    "0": "NULL",
                                    "1": "NULL",
                                    "2": "NULL",
                                    "3": "23",
                                    "4": "791"
                                },
                                {
                                    "0": "NULL",
                                    "1": "NULL",
                                    "2": "NULL",
                                    "3": "23",
                                    "4": "886"
                                },
                                {
                                    "0": "NULL",
                                    "1": "NULL",
                                    "2": "NULL",
                                    "3": "23",
                                    "4": "925"
                                },
                                {
                                    "0": "NULL",
                                    "1": "NULL",
                                    "2": "NULL",
                                    "3": "23",
                                    "4": "1198"
                                },
                                {
                                    "0": "NULL",
                                    "1": "NULL",
                                    "2": "NULL",
                                    "3": "23",
                                    "4": "1597"
                                },
                                {
                                    "0": "NULL",
                                    "1": "NULL",
                                    "2": "NULL",
                                    "3": "23",
                                    "4": "1688"
                                },
                                {
                                    "0": "NULL",
                                    "1": "NULL",
                                    "2": "NULL",
                                    "3": "23",
                                    "4": "2251"
                                },
                                {
                                    "0": "NULL",
                                    "1": "NULL",
                                    "2": "NULL",
                                    "3": "23",
                                    "4": "2350"
                                },
                                {
                                    "0": "NULL",
                                    "1": "NULL",
                                    "2": "NULL",
                                    "3": "23",
                                    "4": "2613"
                                },
                                {
                                    "0": "NULL",
                                    "1": "NULL",
                                    "2": "NULL",
                                    "3": "23",
                                    "4": "3312"
                                },
                                {
                                    "0": "NULL",
                                    "1": "NULL",
                                    "2": "NULL",
                                    "3": "23",
                                    "4": "3343"
                                },
                                {
                                    "0": "NULL",
                                    "1": "NULL",
                                    "2": "NULL",
                                    "3": "24",
                                    "4": "61"
                                },
                                {
                                    "0": "NULL",
                                    "1": "NULL",
                                    "2": "NULL",
                                    "3": "24",
                                    "4": "143"
                                },
                                {
                                    "0": "NULL",
                                    "1": "NULL",
                                    "2": "NULL",
                                    "3": "24",
                                    "4": "421"
                                },
                                {
                                    "0": "NULL",
                                    "1": "NULL",
                                    "2": "NULL",
                                    "3": "24",
                                    "4": "467"
                                },
                                {
                                    "0": "NULL",
                                    "1": "NULL",
                                    "2": "NULL",
                                    "3": "24",
                                    "4": "974"
                                },
                                {
                                    "0": "NULL",
                                    "1": "NULL",
                                    "2": "NULL",
                                    "3": "26",
                                    "4": "508"
                                },
                                {
                                    "0": "NULL",
                                    "1": "NULL",
                                    "2": "NULL",
                                    "3": "26",
                                    "4": "1796"
                                },
                                {
                                    "0": "NULL",
                                    "1": "NULL",
                                    "2": "NULL",
                                    "3": "26",
                                    "4": "2257"
                                },
                                {
                                    "0": "NULL",
                                    "1": "NULL",
                                    "2": "NULL",
                                    "3": "26",
                                    "4": "2314"
                                },
                                {
                                    "0": "NULL",
                                    "1": "NULL",
                                    "2": "NULL",
                                    "3": "26",
                                    "4": "2357"
                                },
                                {
                                    "0": "NULL",
                                    "1": "NULL",
                                    "2": "NULL",
                                    "3": "26",
                                    "4": "2738"
                                },
                                {
                                    "0": "NULL",
                                    "1": "NULL",
                                    "2": "NULL",
                                    "3": "26",
                                    "4": "2810"
                                },
                                {
                                    "0": "NULL",
                                    "1": "NULL",
                                    "2": "NULL",
                                    "3": "26",
                                    "4": "3207"
                                },
                                {
                                    "0": "The Thorn Birds",
                                    "1": "4.22",
                                    "2": "201",
                                    "3": "26",
                                    "4": "3412"
                                },
                                {
                                    "0": "The Complete Sherlock Holmes, Vol 2",
                                    "1": "4.46",
                                    "2": "117",
                                    "3": "26",
                                    "4": "3586"
                                },
                                {
                                    "0": "The Dark Tower (The Dark Tower, #7)",
                                    "1": "4.27",
                                    "2": "105",
                                    "3": "26",
                                    "4": "5091"
                                },
                                {
                                    "0": "NULL",
                                    "1": "NULL",
                                    "2": "NULL",
                                    "3": "26",
                                    "4": "5550"
                                },
                                {
                                    "0": "NULL",
                                    "1": "NULL",
                                    "2": "NULL",
                                    "3": "26",
                                    "4": "6877"
                                },
                                {
                                    "0": "NULL",
                                    "1": "NULL",
                                    "2": "NULL",
                                    "3": "26",
                                    "4": "7970"
                                },
                                {
                                    "0": "NULL",
                                    "1": "NULL",
                                    "2": "NULL",
                                    "3": "28",
                                    "4": "265"
                                },
                                {
                                    "0": "NULL",
                                    "1": "NULL",
                                    "2": "NULL",
                                    "3": "28",
                                    "4": "587"
                                },
                                {
                                    "0": "NULL",
                                    "1": "NULL",
                                    "2": "NULL",
                                    "3": "28",
                                    "4": "3543"
                                },
                                {
                                    "0": "NULL",
                                    "1": "NULL",
                                    "2": "NULL",
                                    "3": "28",
                                    "4": "5215"
                                },
                                {
                                    "0": "NULL",
                                    "1": "NULL",
                                    "2": "NULL",
                                    "3": "28",
                                    "4": "7496"
                                },
                                {
                                    "0": "NULL",
                                    "1": "NULL",
                                    "2": "NULL",
                                    "3": "28",
                                    "4": "8654"
                                },
                                {
                                    "0": "NULL",
                                    "1": "NULL",
                                    "2": "NULL",
                                    "3": "29",
                                    "4": "31"
                                },
                                {
                                    "0": "NULL",
                                    "1": "NULL",
                                    "2": "NULL",
                                    "3": "29",
                                    "4": "32"
                                },
                                {
                                    "0": "The Lord of the Rings: Weapons and Warfare",
                                    "1": "4.53",
                                    "2": "12",
                                    "3": "29",
                                    "4": "36"
                                },
                                {
                                    "0": "NULL",
                                    "1": "NULL",
                                    "2": "NULL",
                                    "3": "29",
                                    "4": "45"
                                },
                                {
                                    "0": "NULL",
                                    "1": "NULL",
                                    "2": "NULL",
                                    "3": "29",
                                    "4": "65"
                                },
                                {
                                    "0": "NULL",
                                    "1": "NULL",
                                    "2": "NULL",
                                    "3": "29",
                                    "4": "87"
                                },
                                {
                                    "0": "NULL",
                                    "1": "NULL",
                                    "2": "NULL",
                                    "3": "29",
                                    "4": "115"
                                },
                                {
                                    "0": "NULL",
                                    "1": "NULL",
                                    "2": "NULL",
                                    "3": "29",
                                    "4": "121"
                                },
                                {
                                    "0": "NULL",
                                    "1": "NULL",
                                    "2": "NULL",
                                    "3": "29",
                                    "4": "131"
                                },
                                {
                                    "0": "NULL",
                                    "1": "NULL",
                                    "2": "NULL",
                                    "3": "29",
                                    "4": "178"
                                },
                                {
                                    "0": "NULL",
                                    "1": "NULL",
                                    "2": "NULL",
                                    "3": "29",
                                    "4": "256"
                                },
                                {
                                    "0": "NULL",
                                    "1": "NULL",
                                    "2": "NULL",
                                    "3": "29",
                                    "4": "323"
                                },
                                {
                                    "0": "Slouching Towards Bethlehem",
                                    "1": "4.24",
                                    "2": "34",
                                    "3": "29",
                                    "4": "424"
                                },
                                {
                                    "0": "NULL",
                                    "1": "NULL",
                                    "2": "NULL",
                                    "3": "29",
                                    "4": "467"
                                },
                                {
                                    "0": "NULL",
                                    "1": "NULL",
                                    "2": "NULL",
                                    "3": "29",
                                    "4": "550"
                                },
                                {
                                    "0": "NULL",
                                    "1": "NULL",
                                    "2": "NULL",
                                    "3": "29",
                                    "4": "618"
                                },
                                {
                                    "0": "Atlas Shrugged",
                                    "1": "3.68",
                                    "2": "147",
                                    "3": "29",
                                    "4": "662"
                                },
                                {
                                    "0": "NULL",
                                    "1": "NULL",
                                    "2": "NULL",
                                    "3": "29",
                                    "4": "709"
                                },
                                {
                                    "0": "NULL",
                                    "1": "NULL",
                                    "2": "NULL",
                                    "3": "29",
                                    "4": "730"
                                },
                                {
                                    "0": "NULL",
                                    "1": "NULL",
                                    "2": "NULL",
                                    "3": "29",
                                    "4": "771"
                                },
                                {
                                    "0": "NULL",
                                    "1": "NULL",
                                    "2": "NULL",
                                    "3": "29",
                                    "4": "809"
                                },
                                {
                                    "0": "NULL",
                                    "1": "NULL",
                                    "2": "NULL",
                                    "3": "29",
                                    "4": "934"
                                },
                                {
                                    "0": "NULL",
                                    "1": "NULL",
                                    "2": "NULL",
                                    "3": "29",
                                    "4": "1084"
                                },
                                {
                                    "0": "NULL",
                                    "1": "NULL",
                                    "2": "NULL",
                                    "3": "29",
                                    "4": "1364"
                                },
                                {
                                    "0": "NULL",
                                    "1": "NULL",
                                    "2": "NULL",
                                    "3": "29",
                                    "4": "1642"
                                },
                                {
                                    "0": "NULL",
                                    "1": "NULL",
                                    "2": "NULL",
                                    "3": "29",
                                    "4": "1695"
                                },
                                {
                                    "0": "NULL",
                                    "1": "NULL",
                                    "2": "NULL",
                                    "3": "29",
                                    "4": "2259"
                                },
                                {
                                    "0": "NULL",
                                    "1": "NULL",
                                    "2": "NULL",
                                    "3": "29",
                                    "4": "2284"
                                },
                                {
                                    "0": "NULL",
                                    "1": "NULL",
                                    "2": "NULL",
                                    "3": "29",
                                    "4": "2304"
                                },
                                {
                                    "0": "NULL",
                                    "1": "NULL",
                                    "2": "NULL",
                                    "3": "29",
                                    "4": "2967"
                                },
                                {
                                    "0": "NULL",
                                    "1": "NULL",
                                    "2": "NULL",
                                    "3": "29",
                                    "4": "3508"
                                },
                                {
                                    "0": "NULL",
                                    "1": "NULL",
                                    "2": "NULL",
                                    "3": "29",
                                    "4": "4359"
                                },
                                {
                                    "0": "NULL",
                                    "1": "NULL",
                                    "2": "NULL",
                                    "3": "29",
                                    "4": "4394"
                                },
                                {
                                    "0": "NULL",
                                    "1": "NULL",
                                    "2": "NULL",
                                    "3": "29",
                                    "4": "4475"
                                },
                                {
                                    "0": "NULL",
                                    "1": "NULL",
                                    "2": "NULL",
                                    "3": "29",
                                    "4": "4629"
                                },
                                {
                                    "0": "NULL",
                                    "1": "NULL",
                                    "2": "NULL",
                                    "3": "29",
                                    "4": "5090"
                                },
                                {
                                    "0": "NULL",
                                    "1": "NULL",
                                    "2": "NULL",
                                    "3": "29",
                                    "4": "5596"
                                },
                                {
                                    "0": "NULL",
                                    "1": "NULL",
                                    "2": "NULL",
                                    "3": "29",
                                    "4": "5851"
                                },
                                {
                                    "0": "NULL",
                                    "1": "NULL",
                                    "2": "NULL",
                                    "3": "29",
                                    "4": "6104"
                                },
                                {
                                    "0": "NULL",
                                    "1": "NULL",
                                    "2": "NULL",
                                    "3": "30",
                                    "4": "47"
                                },
                                {
                                    "0": "The Known World",
                                    "1": "3.82",
                                    "2": "42",
                                    "3": "30",
                                    "4": "67"
                                },
                                {
                                    "0": "NULL",
                                    "1": "NULL",
                                    "2": "NULL",
                                    "3": "30",
                                    "4": "82"
                                },
                                {
                                    "0": "NULL",
                                    "1": "NULL",
                                    "2": "NULL",
                                    "3": "30",
                                    "4": "121"
                                },
                                {
                                    "0": "NULL",
                                    "1": "NULL",
                                    "2": "NULL",
                                    "3": "30",
                                    "4": "177"
                                },
                                {
                                    "0": "Tropic of Cancer",
                                    "1": "3.71",
                                    "2": "205",
                                    "3": "30",
                                    "4": "249"
                                },
                                {
                                    "0": "NULL",
                                    "1": "NULL",
                                    "2": "NULL",
                                    "3": "30",
                                    "4": "297"
                                },
                                {
                                    "0": "NULL",
                                    "1": "NULL",
                                    "2": "NULL",
                                    "3": "30",
                                    "4": "407"
                                },
                                {
                                    "0": "NULL",
                                    "1": "NULL",
                                    "2": "NULL",
                                    "3": "30",
                                    "4": "426"
                                },
                                {
                                    "0": "NULL",
                                    "1": "NULL",
                                    "2": "NULL",
                                    "3": "30",
                                    "4": "430"
                                },
                                {
                                    "0": "NULL",
                                    "1": "NULL",
                                    "2": "NULL",
                                    "3": "30",
                                    "4": "442"
                                },
                                {
                                    "0": "NULL",
                                    "1": "NULL",
                                    "2": "NULL",
                                    "3": "30",
                                    "4": "516"
                                },
                                {
                                    "0": "NULL",
                                    "1": "NULL",
                                    "2": "NULL",
                                    "3": "30",
                                    "4": "658"
                                },
                                {
                                    "0": "NULL",
                                    "1": "NULL",
                                    "2": "NULL",
                                    "3": "30",
                                    "4": "895"
                                },
                                {
                                    "0": "NULL",
                                    "1": "NULL",
                                    "2": "NULL",
                                    "3": "30",
                                    "4": "1039"
                                },
                                {
                                    "0": "NULL",
                                    "1": "NULL",
                                    "2": "NULL",
                                    "3": "30",
                                    "4": "1094"
                                },
                                {
                                    "0": "The Odyssey",
                                    "1": "3.73",
                                    "2": "1703",
                                    "3": "30",
                                    "4": "1381"
                                },
                                {
                                    "0": "NULL",
                                    "1": "NULL",
                                    "2": "NULL",
                                    "3": "30",
                                    "4": "2117"
                                },
                                {
                                    "0": "NULL",
                                    "1": "NULL",
                                    "2": "NULL",
                                    "3": "30",
                                    "4": "2426"
                                },
                                {
                                    "0": "NULL",
                                    "1": "NULL",
                                    "2": "NULL",
                                    "3": "30",
                                    "4": "3444"
                                },
                                {
                                    "0": "The Pilgrimage",
                                    "1": "3.64",
                                    "2": "171",
                                    "3": "30",
                                    "4": "4004"
                                },
                                {
                                    "0": "NULL",
                                    "1": "NULL",
                                    "2": "NULL",
                                    "3": "30",
                                    "4": "4202"
                                },
                                {
                                    "0": "NULL",
                                    "1": "NULL",
                                    "2": "NULL",
                                    "3": "30",
                                    "4": "4509"
                                },
                                {
                                    "0": "NULL",
                                    "1": "NULL",
                                    "2": "NULL",
                                    "3": "30",
                                    "4": "5880"
                                },
                                {
                                    "0": "The Hobbit",
                                    "1": "4.25",
                                    "2": "969",
                                    "3": "30",
                                    "4": "5907"
                                },
                                {
                                    "0": "NULL",
                                    "1": "NULL",
                                    "2": "NULL",
                                    "3": "30",
                                    "4": "6828"
                                },
                                {
                                    "0": "NULL",
                                    "1": "NULL",
                                    "2": "NULL",
                                    "3": "30",
                                    "4": "7563"
                                },
                                {
                                    "0": "NULL",
                                    "1": "NULL",
                                    "2": "NULL",
                                    "3": "30",
                                    "4": "8737"
                                },
                                {
                                    "0": "NULL",
                                    "1": "NULL",
                                    "2": "NULL",
                                    "3": "31",
                                    "4": "94"
                                },
                                {
                                    "0": "NULL",
                                    "1": "NULL",
                                    "2": "NULL",
                                    "3": "31",
                                    "4": "584"
                                }
                            ]
                        },
                        "text/html": [
                            "<table>",
                            "<tr><th>title</th><th>average_rating</th><th>books_count</th><th>user_id</th><th>book_id</th></tr>",
                            "<tr><td>Children of Dune (Dune Chronicles #3)</td><td>3.9</td><td>116</td><td>1</td><td>112</td></tr>",
                            "<tr><td>NULL</td><td>NULL</td><td>NULL</td><td>1</td><td>235</td></tr>",
                            "<tr><td>NULL</td><td>NULL</td><td>NULL</td><td>1</td><td>533</td></tr>",
                            "<tr><td>NULL</td><td>NULL</td><td>NULL</td><td>1</td><td>1198</td></tr>",
                            "<tr><td>NULL</td><td>NULL</td><td>NULL</td><td>1</td><td>1874</td></tr>",
                            "<tr><td>NULL</td><td>NULL</td><td>NULL</td><td>1</td><td>2058</td></tr>",
                            "<tr><td>NULL</td><td>NULL</td><td>NULL</td><td>1</td><td>3334</td></tr>",
                            "<tr><td>NULL</td><td>NULL</td><td>NULL</td><td>2</td><td>4</td></tr>",
                            "<tr><td>NULL</td><td>NULL</td><td>NULL</td><td>2</td><td>11</td></tr>",
                            "<tr><td>The Ultimate Hitchhiker's Guide to the Galaxy</td><td>4.37</td><td>32</td><td>2</td><td>13</td></tr>",
                            "<tr><td>NULL</td><td>NULL</td><td>NULL</td><td>2</td><td>16</td></tr>",
                            "<tr><td>NULL</td><td>NULL</td><td>NULL</td><td>2</td><td>92</td></tr>",
                            "<tr><td>Dune Messiah (Dune Chronicles #2)</td><td>3.86</td><td>140</td><td>2</td><td>106</td></tr>",
                            "<tr><td>NULL</td><td>NULL</td><td>NULL</td><td>2</td><td>113</td></tr>",
                            "<tr><td>NULL</td><td>NULL</td><td>NULL</td><td>2</td><td>233</td></tr>",
                            "<tr><td>NULL</td><td>NULL</td><td>NULL</td><td>2</td><td>247</td></tr>",
                            "<tr><td>NULL</td><td>NULL</td><td>NULL</td><td>2</td><td>380</td></tr>",
                            "<tr><td>NULL</td><td>NULL</td><td>NULL</td><td>2</td><td>408</td></tr>",
                            "<tr><td>NULL</td><td>NULL</td><td>NULL</td><td>2</td><td>439</td></tr>",
                            "<tr><td>NULL</td><td>NULL</td><td>NULL</td><td>2</td><td>479</td></tr>",
                            "<tr><td>NULL</td><td>NULL</td><td>NULL</td><td>2</td><td>516</td></tr>",
                            "<tr><td>NULL</td><td>NULL</td><td>NULL</td><td>2</td><td>619</td></tr>",
                            "<tr><td>NULL</td><td>NULL</td><td>NULL</td><td>2</td><td>1069</td></tr>",
                            "<tr><td>The Iliad</td><td>3.83</td><td>1726</td><td>2</td><td>1371</td></tr>",
                            "<tr><td>NULL</td><td>NULL</td><td>NULL</td><td>2</td><td>1384</td></tr>",
                            "<tr><td>NULL</td><td>NULL</td><td>NULL</td><td>2</td><td>1597</td></tr>",
                            "<tr><td>NULL</td><td>NULL</td><td>NULL</td><td>2</td><td>1926</td></tr>",
                            "<tr><td>NULL</td><td>NULL</td><td>NULL</td><td>2</td><td>1967</td></tr>",
                            "<tr><td>NULL</td><td>NULL</td><td>NULL</td><td>2</td><td>1969</td></tr>",
                            "<tr><td>NULL</td><td>NULL</td><td>NULL</td><td>2</td><td>2220</td></tr>",
                            "<tr><td>NULL</td><td>NULL</td><td>NULL</td><td>2</td><td>2388</td></tr>",
                            "<tr><td>NULL</td><td>NULL</td><td>NULL</td><td>2</td><td>3222</td></tr>",
                            "<tr><td>NULL</td><td>NULL</td><td>NULL</td><td>2</td><td>3227</td></tr>",
                            "<tr><td>NULL</td><td>NULL</td><td>NULL</td><td>2</td><td>3733</td></tr>",
                            "<tr><td>NULL</td><td>NULL</td><td>NULL</td><td>2</td><td>5418</td></tr>",
                            "<tr><td>NULL</td><td>NULL</td><td>NULL</td><td>2</td><td>6937</td></tr>",
                            "<tr><td>NULL</td><td>NULL</td><td>NULL</td><td>2</td><td>7146</td></tr>",
                            "<tr><td>NULL</td><td>NULL</td><td>NULL</td><td>2</td><td>7873</td></tr>",
                            "<tr><td>NULL</td><td>NULL</td><td>NULL</td><td>2</td><td>8417</td></tr>",
                            "<tr><td>Harry Potter Collection (Harry Potter, #1-6)</td><td>4.73</td><td>6</td><td>3</td><td>10</td></tr>",
                            "<tr><td>NULL</td><td>NULL</td><td>NULL</td><td>3</td><td>66</td></tr>",
                            "<tr><td>NULL</td><td>NULL</td><td>NULL</td><td>3</td><td>233</td></tr>",
                            "<tr><td>NULL</td><td>NULL</td><td>NULL</td><td>3</td><td>726</td></tr>",
                            "<tr><td>NULL</td><td>NULL</td><td>NULL</td><td>3</td><td>932</td></tr>",
                            "<tr><td>NULL</td><td>NULL</td><td>NULL</td><td>3</td><td>1146</td></tr>",
                            "<tr><td>NULL</td><td>NULL</td><td>NULL</td><td>3</td><td>2439</td></tr>",
                            "<tr><td>NULL</td><td>NULL</td><td>NULL</td><td>3</td><td>3566</td></tr>",
                            "<tr><td>NULL</td><td>NULL</td><td>NULL</td><td>3</td><td>4582</td></tr>",
                            "<tr><td>NULL</td><td>NULL</td><td>NULL</td><td>3</td><td>5448</td></tr>",
                            "<tr><td>NULL</td><td>NULL</td><td>NULL</td><td>3</td><td>5765</td></tr>",
                            "<tr><td>NULL</td><td>NULL</td><td>NULL</td><td>3</td><td>6274</td></tr>",
                            "<tr><td>NULL</td><td>NULL</td><td>NULL</td><td>3</td><td>8403</td></tr>",
                            "<tr><td>NULL</td><td>NULL</td><td>NULL</td><td>5</td><td>31</td></tr>",
                            "<tr><td>The Virtue of Selfishness: A New Concept of Egoism</td><td>3.47</td><td>53</td><td>5</td><td>665</td></tr>",
                            "<tr><td>NULL</td><td>NULL</td><td>NULL</td><td>5</td><td>3074</td></tr>",
                            "<tr><td>Sherlock Holmes: The Complete Novels and Stories, Volume I</td><td>4.45</td><td>13</td><td>5</td><td>3581</td></tr>",
                            "<tr><td>NULL</td><td>NULL</td><td>NULL</td><td>6</td><td>64</td></tr>",
                            "<tr><td>NULL</td><td>NULL</td><td>NULL</td><td>6</td><td>459</td></tr>",
                            "<tr><td>NULL</td><td>NULL</td><td>NULL</td><td>6</td><td>619</td></tr>",
                            "<tr><td>NULL</td><td>NULL</td><td>NULL</td><td>6</td><td>649</td></tr>",
                            "<tr><td>NULL</td><td>NULL</td><td>NULL</td><td>6</td><td>687</td></tr>",
                            "<tr><td>NULL</td><td>NULL</td><td>NULL</td><td>6</td><td>874</td></tr>",
                            "<tr><td>The War of Art: Break Through the Blocks &amp; Win Your Inner Creative Battles</td><td>4.07</td><td>29</td><td>6</td><td>1319</td></tr>",
                            "<tr><td>NULL</td><td>NULL</td><td>NULL</td><td>6</td><td>1912</td></tr>",
                            "<tr><td>NULL</td><td>NULL</td><td>NULL</td><td>6</td><td>5269</td></tr>",
                            "<tr><td>NULL</td><td>NULL</td><td>NULL</td><td>6</td><td>5537</td></tr>",
                            "<tr><td>NULL</td><td>NULL</td><td>NULL</td><td>6</td><td>5820</td></tr>",
                            "<tr><td>NULL</td><td>NULL</td><td>NULL</td><td>6</td><td>6220</td></tr>",
                            "<tr><td>NULL</td><td>NULL</td><td>NULL</td><td>6</td><td>7480</td></tr>",
                            "<tr><td>Harry Potter Collection (Harry Potter, #1-6)</td><td>4.73</td><td>6</td><td>7</td><td>10</td></tr>",
                            "<tr><td>NULL</td><td>NULL</td><td>NULL</td><td>7</td><td>215</td></tr>",
                            "<tr><td>NULL</td><td>NULL</td><td>NULL</td><td>7</td><td>225</td></tr>",
                            "<tr><td>NULL</td><td>NULL</td><td>NULL</td><td>7</td><td>233</td></tr>",
                            "<tr><td>NULL</td><td>NULL</td><td>NULL</td><td>7</td><td>1322</td></tr>",
                            "<tr><td>NULL</td><td>NULL</td><td>NULL</td><td>7</td><td>3552</td></tr>",
                            "<tr><td>NULL</td><td>NULL</td><td>NULL</td><td>7</td><td>3720</td></tr>",
                            "<tr><td>NULL</td><td>NULL</td><td>NULL</td><td>7</td><td>4468</td></tr>",
                            "<tr><td>NULL</td><td>NULL</td><td>NULL</td><td>8</td><td>19</td></tr>",
                            "<tr><td>NULL</td><td>NULL</td><td>NULL</td><td>8</td><td>498</td></tr>",
                            "<tr><td>NULL</td><td>NULL</td><td>NULL</td><td>8</td><td>1357</td></tr>",
                            "<tr><td>NULL</td><td>NULL</td><td>NULL</td><td>8</td><td>2177</td></tr>",
                            "<tr><td>NULL</td><td>NULL</td><td>NULL</td><td>8</td><td>3930</td></tr>",
                            "<tr><td>The Pilgrimage</td><td>3.64</td><td>171</td><td>8</td><td>4004</td></tr>",
                            "<tr><td>NULL</td><td>NULL</td><td>NULL</td><td>8</td><td>8792</td></tr>",
                            "<tr><td>NULL</td><td>NULL</td><td>NULL</td><td>8</td><td>9304</td></tr>",
                            "<tr><td>Harry Potter Boxed Set, Books 1-5 (Harry Potter, #1-5)</td><td>4.77</td><td>11</td><td>9</td><td>8</td></tr>",
                            "<tr><td>Children of Dune (Dune Chronicles #3)</td><td>3.9</td><td>116</td><td>9</td><td>112</td></tr>",
                            "<tr><td>NULL</td><td>NULL</td><td>NULL</td><td>9</td><td>139</td></tr>",
                            "<tr><td>NULL</td><td>NULL</td><td>NULL</td><td>9</td><td>230</td></tr>",
                            "<tr><td>NULL</td><td>NULL</td><td>NULL</td><td>9</td><td>233</td></tr>",
                            "<tr><td>NULL</td><td>NULL</td><td>NULL</td><td>9</td><td>473</td></tr>",
                            "<tr><td>NULL</td><td>NULL</td><td>NULL</td><td>9</td><td>638</td></tr>",
                            "<tr><td>NULL</td><td>NULL</td><td>NULL</td><td>9</td><td>653</td></tr>",
                            "<tr><td>NULL</td><td>NULL</td><td>NULL</td><td>9</td><td>672</td></tr>",
                            "<tr><td>NULL</td><td>NULL</td><td>NULL</td><td>9</td><td>701</td></tr>",
                            "<tr><td>NULL</td><td>NULL</td><td>NULL</td><td>9</td><td>736</td></tr>",
                            "<tr><td>NULL</td><td>NULL</td><td>NULL</td><td>9</td><td>883</td></tr>",
                            "<tr><td>NULL</td><td>NULL</td><td>NULL</td><td>9</td><td>895</td></tr>",
                            "<tr><td>NULL</td><td>NULL</td><td>NULL</td><td>9</td><td>1467</td></tr>",
                            "<tr><td>NULL</td><td>NULL</td><td>NULL</td><td>9</td><td>1582</td></tr>",
                            "<tr><td>NULL</td><td>NULL</td><td>NULL</td><td>9</td><td>1873</td></tr>",
                            "<tr><td>NULL</td><td>NULL</td><td>NULL</td><td>9</td><td>2516</td></tr>",
                            "<tr><td>NULL</td><td>NULL</td><td>NULL</td><td>9</td><td>2630</td></tr>",
                            "<tr><td>NULL</td><td>NULL</td><td>NULL</td><td>9</td><td>3210</td></tr>",
                            "<tr><td>Icy Sparks</td><td>3.68</td><td>27</td><td>9</td><td>3476</td></tr>",
                            "<tr><td>NULL</td><td>NULL</td><td>NULL</td><td>9</td><td>3560</td></tr>",
                            "<tr><td>NULL</td><td>NULL</td><td>NULL</td><td>9</td><td>3650</td></tr>",
                            "<tr><td>NULL</td><td>NULL</td><td>NULL</td><td>9</td><td>5286</td></tr>",
                            "<tr><td>NULL</td><td>NULL</td><td>NULL</td><td>9</td><td>6636</td></tr>",
                            "<tr><td>Harry Potter and the Goblet of Fire (Harry Potter, #4)</td><td>4.53</td><td>332</td><td>10</td><td>6</td></tr>",
                            "<tr><td>NULL</td><td>NULL</td><td>NULL</td><td>10</td><td>385</td></tr>",
                            "<tr><td>Atlas Shrugged</td><td>3.68</td><td>147</td><td>10</td><td>662</td></tr>",
                            "<tr><td>NULL</td><td>NULL</td><td>NULL</td><td>10</td><td>896</td></tr>",
                            "<tr><td>NULL</td><td>NULL</td><td>NULL</td><td>10</td><td>1076</td></tr>",
                            "<tr><td>NULL</td><td>NULL</td><td>NULL</td><td>10</td><td>1082</td></tr>",
                            "<tr><td>NULL</td><td>NULL</td><td>NULL</td><td>10</td><td>1220</td></tr>",
                            "<tr><td>NULL</td><td>NULL</td><td>NULL</td><td>10</td><td>1281</td></tr>",
                            "<tr><td>NULL</td><td>NULL</td><td>NULL</td><td>10</td><td>1439</td></tr>",
                            "<tr><td>NULL</td><td>NULL</td><td>NULL</td><td>10</td><td>1851</td></tr>",
                            "<tr><td>NULL</td><td>NULL</td><td>NULL</td><td>10</td><td>1920</td></tr>",
                            "<tr><td>NULL</td><td>NULL</td><td>NULL</td><td>10</td><td>2441</td></tr>",
                            "<tr><td>NULL</td><td>NULL</td><td>NULL</td><td>10</td><td>2570</td></tr>",
                            "<tr><td>NULL</td><td>NULL</td><td>NULL</td><td>10</td><td>2616</td></tr>",
                            "<tr><td>NULL</td><td>NULL</td><td>NULL</td><td>10</td><td>3059</td></tr>",
                            "<tr><td>NULL</td><td>NULL</td><td>NULL</td><td>10</td><td>3545</td></tr>",
                            "<tr><td>NULL</td><td>NULL</td><td>NULL</td><td>10</td><td>3961</td></tr>",
                            "<tr><td>NULL</td><td>NULL</td><td>NULL</td><td>10</td><td>4369</td></tr>",
                            "<tr><td>NULL</td><td>NULL</td><td>NULL</td><td>10</td><td>4510</td></tr>",
                            "<tr><td>NULL</td><td>NULL</td><td>NULL</td><td>10</td><td>5104</td></tr>",
                            "<tr><td>NULL</td><td>NULL</td><td>NULL</td><td>10</td><td>5254</td></tr>",
                            "<tr><td>NULL</td><td>NULL</td><td>NULL</td><td>10</td><td>5556</td></tr>",
                            "<tr><td>NULL</td><td>NULL</td><td>NULL</td><td>10</td><td>6114</td></tr>",
                            "<tr><td>NULL</td><td>NULL</td><td>NULL</td><td>10</td><td>6917</td></tr>",
                            "<tr><td>NULL</td><td>NULL</td><td>NULL</td><td>10</td><td>7545</td></tr>",
                            "<tr><td>NULL</td><td>NULL</td><td>NULL</td><td>10</td><td>7842</td></tr>",
                            "<tr><td>NULL</td><td>NULL</td><td>NULL</td><td>11</td><td>3643</td></tr>",
                            "<tr><td>Harry Potter and the Half-Blood Prince (Harry Potter, #6)</td><td>4.54</td><td>275</td><td>12</td><td>1</td></tr>",
                            "<tr><td>NULL</td><td>NULL</td><td>NULL</td><td>12</td><td>124</td></tr>",
                            "<tr><td>NULL</td><td>NULL</td><td>NULL</td><td>12</td><td>1471</td></tr>",
                            "<tr><td>NULL</td><td>NULL</td><td>NULL</td><td>12</td><td>2893</td></tr>",
                            "<tr><td>NULL</td><td>NULL</td><td>NULL</td><td>13</td><td>81</td></tr>",
                            "<tr><td>NULL</td><td>NULL</td><td>NULL</td><td>13</td><td>277</td></tr>",
                            "<tr><td>NULL</td><td>NULL</td><td>NULL</td><td>13</td><td>318</td></tr>",
                            "<tr><td>NULL</td><td>NULL</td><td>NULL</td><td>13</td><td>430</td></tr>",
                            "<tr><td>NULL</td><td>NULL</td><td>NULL</td><td>13</td><td>437</td></tr>",
                            "<tr><td>NULL</td><td>NULL</td><td>NULL</td><td>13</td><td>551</td></tr>",
                            "<tr><td>NULL</td><td>NULL</td><td>NULL</td><td>13</td><td>560</td></tr>",
                            "<tr><td>NULL</td><td>NULL</td><td>NULL</td><td>13</td><td>610</td></tr>",
                            "<tr><td>NULL</td><td>NULL</td><td>NULL</td><td>13</td><td>678</td></tr>",
                            "<tr><td>NULL</td><td>NULL</td><td>NULL</td><td>13</td><td>979</td></tr>",
                            "<tr><td>NULL</td><td>NULL</td><td>NULL</td><td>13</td><td>1082</td></tr>",
                            "<tr><td>NULL</td><td>NULL</td><td>NULL</td><td>13</td><td>1464</td></tr>",
                            "<tr><td>NULL</td><td>NULL</td><td>NULL</td><td>13</td><td>1577</td></tr>",
                            "<tr><td>NULL</td><td>NULL</td><td>NULL</td><td>13</td><td>2018</td></tr>",
                            "<tr><td>NULL</td><td>NULL</td><td>NULL</td><td>13</td><td>2418</td></tr>",
                            "<tr><td>NULL</td><td>NULL</td><td>NULL</td><td>13</td><td>3257</td></tr>",
                            "<tr><td>NULL</td><td>NULL</td><td>NULL</td><td>13</td><td>4212</td></tr>",
                            "<tr><td>NULL</td><td>NULL</td><td>NULL</td><td>13</td><td>4635</td></tr>",
                            "<tr><td>NULL</td><td>NULL</td><td>NULL</td><td>13</td><td>4704</td></tr>",
                            "<tr><td>NULL</td><td>NULL</td><td>NULL</td><td>13</td><td>4734</td></tr>",
                            "<tr><td>NULL</td><td>NULL</td><td>NULL</td><td>13</td><td>4841</td></tr>",
                            "<tr><td>NULL</td><td>NULL</td><td>NULL</td><td>13</td><td>4848</td></tr>",
                            "<tr><td>NULL</td><td>NULL</td><td>NULL</td><td>13</td><td>4856</td></tr>",
                            "<tr><td>NULL</td><td>NULL</td><td>NULL</td><td>13</td><td>4928</td></tr>",
                            "<tr><td>NULL</td><td>NULL</td><td>NULL</td><td>13</td><td>6114</td></tr>",
                            "<tr><td>NULL</td><td>NULL</td><td>NULL</td><td>13</td><td>6793</td></tr>",
                            "<tr><td>NULL</td><td>NULL</td><td>NULL</td><td>13</td><td>6962</td></tr>",
                            "<tr><td>NULL</td><td>NULL</td><td>NULL</td><td>13</td><td>8717</td></tr>",
                            "<tr><td>NULL</td><td>NULL</td><td>NULL</td><td>14</td><td>493</td></tr>",
                            "<tr><td>NULL</td><td>NULL</td><td>NULL</td><td>14</td><td>1179</td></tr>",
                            "<tr><td>NULL</td><td>NULL</td><td>NULL</td><td>14</td><td>2693</td></tr>",
                            "<tr><td>Sherlock Holmes: The Complete Novels and Stories, Volume I</td><td>4.45</td><td>13</td><td>14</td><td>3581</td></tr>",
                            "<tr><td>NULL</td><td>NULL</td><td>NULL</td><td>14</td><td>3683</td></tr>",
                            "<tr><td>NULL</td><td>NULL</td><td>NULL</td><td>14</td><td>3953</td></tr>",
                            "<tr><td>NULL</td><td>NULL</td><td>NULL</td><td>14</td><td>4220</td></tr>",
                            "<tr><td>NULL</td><td>NULL</td><td>NULL</td><td>14</td><td>5076</td></tr>",
                            "<tr><td>NULL</td><td>NULL</td><td>NULL</td><td>14</td><td>5537</td></tr>",
                            "<tr><td>NULL</td><td>NULL</td><td>NULL</td><td>14</td><td>7777</td></tr>",
                            "<tr><td>NULL</td><td>NULL</td><td>NULL</td><td>15</td><td>191</td></tr>",
                            "<tr><td>The Lover</td><td>3.76</td><td>148</td><td>15</td><td>275</td></tr>",
                            "<tr><td>NULL</td><td>NULL</td><td>NULL</td><td>15</td><td>398</td></tr>",
                            "<tr><td>NULL</td><td>NULL</td><td>NULL</td><td>15</td><td>666</td></tr>",
                            "<tr><td>NULL</td><td>NULL</td><td>NULL</td><td>15</td><td>1491</td></tr>",
                            "<tr><td>NULL</td><td>NULL</td><td>NULL</td><td>15</td><td>5210</td></tr>",
                            "<tr><td>NULL</td><td>NULL</td><td>NULL</td><td>17</td><td>1344</td></tr>",
                            "<tr><td>The Good Soldier</td><td>3.72</td><td>362</td><td>20</td><td>7628</td></tr>",
                            "<tr><td>NULL</td><td>NULL</td><td>NULL</td><td>22</td><td>653</td></tr>",
                            "<tr><td>NULL</td><td>NULL</td><td>NULL</td><td>22</td><td>1403</td></tr>",
                            "<tr><td>NULL</td><td>NULL</td><td>NULL</td><td>22</td><td>1405</td></tr>",
                            "<tr><td>NULL</td><td>NULL</td><td>NULL</td><td>22</td><td>1645</td></tr>",
                            "<tr><td>NULL</td><td>NULL</td><td>NULL</td><td>22</td><td>2500</td></tr>",
                            "<tr><td>NULL</td><td>NULL</td><td>NULL</td><td>22</td><td>2691</td></tr>",
                            "<tr><td>NULL</td><td>NULL</td><td>NULL</td><td>22</td><td>4995</td></tr>",
                            "<tr><td>NULL</td><td>NULL</td><td>NULL</td><td>23</td><td>273</td></tr>",
                            "<tr><td>NULL</td><td>NULL</td><td>NULL</td><td>23</td><td>459</td></tr>",
                            "<tr><td>NULL</td><td>NULL</td><td>NULL</td><td>23</td><td>791</td></tr>",
                            "<tr><td>NULL</td><td>NULL</td><td>NULL</td><td>23</td><td>886</td></tr>",
                            "<tr><td>NULL</td><td>NULL</td><td>NULL</td><td>23</td><td>925</td></tr>",
                            "<tr><td>NULL</td><td>NULL</td><td>NULL</td><td>23</td><td>1198</td></tr>",
                            "<tr><td>NULL</td><td>NULL</td><td>NULL</td><td>23</td><td>1597</td></tr>",
                            "<tr><td>NULL</td><td>NULL</td><td>NULL</td><td>23</td><td>1688</td></tr>",
                            "<tr><td>NULL</td><td>NULL</td><td>NULL</td><td>23</td><td>2251</td></tr>",
                            "<tr><td>NULL</td><td>NULL</td><td>NULL</td><td>23</td><td>2350</td></tr>",
                            "<tr><td>NULL</td><td>NULL</td><td>NULL</td><td>23</td><td>2613</td></tr>",
                            "<tr><td>NULL</td><td>NULL</td><td>NULL</td><td>23</td><td>3312</td></tr>",
                            "<tr><td>NULL</td><td>NULL</td><td>NULL</td><td>23</td><td>3343</td></tr>",
                            "<tr><td>NULL</td><td>NULL</td><td>NULL</td><td>24</td><td>61</td></tr>",
                            "<tr><td>NULL</td><td>NULL</td><td>NULL</td><td>24</td><td>143</td></tr>",
                            "<tr><td>NULL</td><td>NULL</td><td>NULL</td><td>24</td><td>421</td></tr>",
                            "<tr><td>NULL</td><td>NULL</td><td>NULL</td><td>24</td><td>467</td></tr>",
                            "<tr><td>NULL</td><td>NULL</td><td>NULL</td><td>24</td><td>974</td></tr>",
                            "<tr><td>NULL</td><td>NULL</td><td>NULL</td><td>26</td><td>508</td></tr>",
                            "<tr><td>NULL</td><td>NULL</td><td>NULL</td><td>26</td><td>1796</td></tr>",
                            "<tr><td>NULL</td><td>NULL</td><td>NULL</td><td>26</td><td>2257</td></tr>",
                            "<tr><td>NULL</td><td>NULL</td><td>NULL</td><td>26</td><td>2314</td></tr>",
                            "<tr><td>NULL</td><td>NULL</td><td>NULL</td><td>26</td><td>2357</td></tr>",
                            "<tr><td>NULL</td><td>NULL</td><td>NULL</td><td>26</td><td>2738</td></tr>",
                            "<tr><td>NULL</td><td>NULL</td><td>NULL</td><td>26</td><td>2810</td></tr>",
                            "<tr><td>NULL</td><td>NULL</td><td>NULL</td><td>26</td><td>3207</td></tr>",
                            "<tr><td>The Thorn Birds</td><td>4.22</td><td>201</td><td>26</td><td>3412</td></tr>",
                            "<tr><td>The Complete Sherlock Holmes, Vol 2</td><td>4.46</td><td>117</td><td>26</td><td>3586</td></tr>",
                            "<tr><td>The Dark Tower (The Dark Tower, #7)</td><td>4.27</td><td>105</td><td>26</td><td>5091</td></tr>",
                            "<tr><td>NULL</td><td>NULL</td><td>NULL</td><td>26</td><td>5550</td></tr>",
                            "<tr><td>NULL</td><td>NULL</td><td>NULL</td><td>26</td><td>6877</td></tr>",
                            "<tr><td>NULL</td><td>NULL</td><td>NULL</td><td>26</td><td>7970</td></tr>",
                            "<tr><td>NULL</td><td>NULL</td><td>NULL</td><td>28</td><td>265</td></tr>",
                            "<tr><td>NULL</td><td>NULL</td><td>NULL</td><td>28</td><td>587</td></tr>",
                            "<tr><td>NULL</td><td>NULL</td><td>NULL</td><td>28</td><td>3543</td></tr>",
                            "<tr><td>NULL</td><td>NULL</td><td>NULL</td><td>28</td><td>5215</td></tr>",
                            "<tr><td>NULL</td><td>NULL</td><td>NULL</td><td>28</td><td>7496</td></tr>",
                            "<tr><td>NULL</td><td>NULL</td><td>NULL</td><td>28</td><td>8654</td></tr>",
                            "<tr><td>NULL</td><td>NULL</td><td>NULL</td><td>29</td><td>31</td></tr>",
                            "<tr><td>NULL</td><td>NULL</td><td>NULL</td><td>29</td><td>32</td></tr>",
                            "<tr><td>The Lord of the Rings: Weapons and Warfare</td><td>4.53</td><td>12</td><td>29</td><td>36</td></tr>",
                            "<tr><td>NULL</td><td>NULL</td><td>NULL</td><td>29</td><td>45</td></tr>",
                            "<tr><td>NULL</td><td>NULL</td><td>NULL</td><td>29</td><td>65</td></tr>",
                            "<tr><td>NULL</td><td>NULL</td><td>NULL</td><td>29</td><td>87</td></tr>",
                            "<tr><td>NULL</td><td>NULL</td><td>NULL</td><td>29</td><td>115</td></tr>",
                            "<tr><td>NULL</td><td>NULL</td><td>NULL</td><td>29</td><td>121</td></tr>",
                            "<tr><td>NULL</td><td>NULL</td><td>NULL</td><td>29</td><td>131</td></tr>",
                            "<tr><td>NULL</td><td>NULL</td><td>NULL</td><td>29</td><td>178</td></tr>",
                            "<tr><td>NULL</td><td>NULL</td><td>NULL</td><td>29</td><td>256</td></tr>",
                            "<tr><td>NULL</td><td>NULL</td><td>NULL</td><td>29</td><td>323</td></tr>",
                            "<tr><td>Slouching Towards Bethlehem</td><td>4.24</td><td>34</td><td>29</td><td>424</td></tr>",
                            "<tr><td>NULL</td><td>NULL</td><td>NULL</td><td>29</td><td>467</td></tr>",
                            "<tr><td>NULL</td><td>NULL</td><td>NULL</td><td>29</td><td>550</td></tr>",
                            "<tr><td>NULL</td><td>NULL</td><td>NULL</td><td>29</td><td>618</td></tr>",
                            "<tr><td>Atlas Shrugged</td><td>3.68</td><td>147</td><td>29</td><td>662</td></tr>",
                            "<tr><td>NULL</td><td>NULL</td><td>NULL</td><td>29</td><td>709</td></tr>",
                            "<tr><td>NULL</td><td>NULL</td><td>NULL</td><td>29</td><td>730</td></tr>",
                            "<tr><td>NULL</td><td>NULL</td><td>NULL</td><td>29</td><td>771</td></tr>",
                            "<tr><td>NULL</td><td>NULL</td><td>NULL</td><td>29</td><td>809</td></tr>",
                            "<tr><td>NULL</td><td>NULL</td><td>NULL</td><td>29</td><td>934</td></tr>",
                            "<tr><td>NULL</td><td>NULL</td><td>NULL</td><td>29</td><td>1084</td></tr>",
                            "<tr><td>NULL</td><td>NULL</td><td>NULL</td><td>29</td><td>1364</td></tr>",
                            "<tr><td>NULL</td><td>NULL</td><td>NULL</td><td>29</td><td>1642</td></tr>",
                            "<tr><td>NULL</td><td>NULL</td><td>NULL</td><td>29</td><td>1695</td></tr>",
                            "<tr><td>NULL</td><td>NULL</td><td>NULL</td><td>29</td><td>2259</td></tr>",
                            "<tr><td>NULL</td><td>NULL</td><td>NULL</td><td>29</td><td>2284</td></tr>",
                            "<tr><td>NULL</td><td>NULL</td><td>NULL</td><td>29</td><td>2304</td></tr>",
                            "<tr><td>NULL</td><td>NULL</td><td>NULL</td><td>29</td><td>2967</td></tr>",
                            "<tr><td>NULL</td><td>NULL</td><td>NULL</td><td>29</td><td>3508</td></tr>",
                            "<tr><td>NULL</td><td>NULL</td><td>NULL</td><td>29</td><td>4359</td></tr>",
                            "<tr><td>NULL</td><td>NULL</td><td>NULL</td><td>29</td><td>4394</td></tr>",
                            "<tr><td>NULL</td><td>NULL</td><td>NULL</td><td>29</td><td>4475</td></tr>",
                            "<tr><td>NULL</td><td>NULL</td><td>NULL</td><td>29</td><td>4629</td></tr>",
                            "<tr><td>NULL</td><td>NULL</td><td>NULL</td><td>29</td><td>5090</td></tr>",
                            "<tr><td>NULL</td><td>NULL</td><td>NULL</td><td>29</td><td>5596</td></tr>",
                            "<tr><td>NULL</td><td>NULL</td><td>NULL</td><td>29</td><td>5851</td></tr>",
                            "<tr><td>NULL</td><td>NULL</td><td>NULL</td><td>29</td><td>6104</td></tr>",
                            "<tr><td>NULL</td><td>NULL</td><td>NULL</td><td>30</td><td>47</td></tr>",
                            "<tr><td>The Known World</td><td>3.82</td><td>42</td><td>30</td><td>67</td></tr>",
                            "<tr><td>NULL</td><td>NULL</td><td>NULL</td><td>30</td><td>82</td></tr>",
                            "<tr><td>NULL</td><td>NULL</td><td>NULL</td><td>30</td><td>121</td></tr>",
                            "<tr><td>NULL</td><td>NULL</td><td>NULL</td><td>30</td><td>177</td></tr>",
                            "<tr><td>Tropic of Cancer</td><td>3.71</td><td>205</td><td>30</td><td>249</td></tr>",
                            "<tr><td>NULL</td><td>NULL</td><td>NULL</td><td>30</td><td>297</td></tr>",
                            "<tr><td>NULL</td><td>NULL</td><td>NULL</td><td>30</td><td>407</td></tr>",
                            "<tr><td>NULL</td><td>NULL</td><td>NULL</td><td>30</td><td>426</td></tr>",
                            "<tr><td>NULL</td><td>NULL</td><td>NULL</td><td>30</td><td>430</td></tr>",
                            "<tr><td>NULL</td><td>NULL</td><td>NULL</td><td>30</td><td>442</td></tr>",
                            "<tr><td>NULL</td><td>NULL</td><td>NULL</td><td>30</td><td>516</td></tr>",
                            "<tr><td>NULL</td><td>NULL</td><td>NULL</td><td>30</td><td>658</td></tr>",
                            "<tr><td>NULL</td><td>NULL</td><td>NULL</td><td>30</td><td>895</td></tr>",
                            "<tr><td>NULL</td><td>NULL</td><td>NULL</td><td>30</td><td>1039</td></tr>",
                            "<tr><td>NULL</td><td>NULL</td><td>NULL</td><td>30</td><td>1094</td></tr>",
                            "<tr><td>The Odyssey</td><td>3.73</td><td>1703</td><td>30</td><td>1381</td></tr>",
                            "<tr><td>NULL</td><td>NULL</td><td>NULL</td><td>30</td><td>2117</td></tr>",
                            "<tr><td>NULL</td><td>NULL</td><td>NULL</td><td>30</td><td>2426</td></tr>",
                            "<tr><td>NULL</td><td>NULL</td><td>NULL</td><td>30</td><td>3444</td></tr>",
                            "<tr><td>The Pilgrimage</td><td>3.64</td><td>171</td><td>30</td><td>4004</td></tr>",
                            "<tr><td>NULL</td><td>NULL</td><td>NULL</td><td>30</td><td>4202</td></tr>",
                            "<tr><td>NULL</td><td>NULL</td><td>NULL</td><td>30</td><td>4509</td></tr>",
                            "<tr><td>NULL</td><td>NULL</td><td>NULL</td><td>30</td><td>5880</td></tr>",
                            "<tr><td>The Hobbit</td><td>4.25</td><td>969</td><td>30</td><td>5907</td></tr>",
                            "<tr><td>NULL</td><td>NULL</td><td>NULL</td><td>30</td><td>6828</td></tr>",
                            "<tr><td>NULL</td><td>NULL</td><td>NULL</td><td>30</td><td>7563</td></tr>",
                            "<tr><td>NULL</td><td>NULL</td><td>NULL</td><td>30</td><td>8737</td></tr>",
                            "<tr><td>NULL</td><td>NULL</td><td>NULL</td><td>31</td><td>94</td></tr>",
                            "<tr><td>NULL</td><td>NULL</td><td>NULL</td><td>31</td><td>584</td></tr>",
                            "</table>"
                        ]
                    }
                }
            ],
            "execution_count": 5
        },
        {
            "cell_type": "markdown",
            "source": [
                "## **QUESTION 3:** Exploring FULL JOINS with the **books** and **to\\_read** tables\n",
                "\n",
                "You will need to uncomment the Query to answer the question.\n",
                "\n",
                "**Part A:**  Look at the table and explore how it was populated.  Try manipulating the query to better understand how this table works.  Try adding a WHERE clause, or ORDER BY a column on the **books** table.  Based on your exploration, can you think of when you might want a FULL join rather than a LEFT, RIGHT, or INNER?\n",
                "\n",
                "> Your Answer: You might want a full join to see what columns are NULL and if there are trends."
            ],
            "metadata": {
                "azdata_cell_guid": "8f6b8f22-3e5a-4b87-a2f2-07279f1deb94"
            },
            "attachments": {}
        },
        {
            "cell_type": "code",
            "source": [
                "\n",
                "-- FULL JOIN\n",
                "SELECT TOP 30 b.title, b.average_rating, b.books_count,tr.user_id, tr.book_id\n",
                "FROM BooksDB.dbo.books AS b\n",
                "FULL JOIN BooksDB.dbo.to_read AS tr\n",
                "ON b.book_id = tr.book_id\n",
                "WHERE title IS NOT NULL\n",
                "ORDER BY average_rating DESC;\n",
                ""
            ],
            "metadata": {
                "azdata_cell_guid": "7c2a3dff-ef55-4222-aef0-7c0ab4f942eb",
                "tags": [],
                "language": "sql"
            },
            "outputs": [
                {
                    "output_type": "display_data",
                    "data": {
                        "text/html": "(30 rows affected)"
                    },
                    "metadata": {}
                },
                {
                    "output_type": "display_data",
                    "data": {
                        "text/html": "Total execution time: 00:00:02.379"
                    },
                    "metadata": {}
                },
                {
                    "output_type": "execute_result",
                    "metadata": {},
                    "execution_count": 12,
                    "data": {
                        "application/vnd.dataresource+json": {
                            "schema": {
                                "fields": [
                                    {
                                        "name": "title"
                                    },
                                    {
                                        "name": "average_rating"
                                    },
                                    {
                                        "name": "books_count"
                                    },
                                    {
                                        "name": "user_id"
                                    },
                                    {
                                        "name": "book_id"
                                    }
                                ]
                            },
                            "data": [
                                {
                                    "0": "The Complete Calvin and Hobbes",
                                    "1": "4.82",
                                    "2": "14",
                                    "3": "NULL",
                                    "4": "NULL"
                                },
                                {
                                    "0": "Words of Radiance (The Stormlight Archive, #2)",
                                    "1": "4.77",
                                    "2": "34",
                                    "3": "NULL",
                                    "4": "NULL"
                                },
                                {
                                    "0": "Harry Potter Boxed Set, Books 1-5 (Harry Potter, #1-5)",
                                    "1": "4.77",
                                    "2": "11",
                                    "3": "9",
                                    "4": "8"
                                },
                                {
                                    "0": "Harry Potter Boxed Set, Books 1-5 (Harry Potter, #1-5)",
                                    "1": "4.77",
                                    "2": "11",
                                    "3": "245",
                                    "4": "8"
                                },
                                {
                                    "0": "Harry Potter Boxed Set, Books 1-5 (Harry Potter, #1-5)",
                                    "1": "4.77",
                                    "2": "11",
                                    "3": "265",
                                    "4": "8"
                                },
                                {
                                    "0": "Harry Potter Boxed Set, Books 1-5 (Harry Potter, #1-5)",
                                    "1": "4.77",
                                    "2": "11",
                                    "3": "318",
                                    "4": "8"
                                },
                                {
                                    "0": "Harry Potter Boxed Set, Books 1-5 (Harry Potter, #1-5)",
                                    "1": "4.77",
                                    "2": "11",
                                    "3": "361",
                                    "4": "8"
                                },
                                {
                                    "0": "Harry Potter Boxed Set, Books 1-5 (Harry Potter, #1-5)",
                                    "1": "4.77",
                                    "2": "11",
                                    "3": "422",
                                    "4": "8"
                                },
                                {
                                    "0": "Harry Potter Boxed Set, Books 1-5 (Harry Potter, #1-5)",
                                    "1": "4.77",
                                    "2": "11",
                                    "3": "435",
                                    "4": "8"
                                },
                                {
                                    "0": "Harry Potter Boxed Set, Books 1-5 (Harry Potter, #1-5)",
                                    "1": "4.77",
                                    "2": "11",
                                    "3": "457",
                                    "4": "8"
                                },
                                {
                                    "0": "Harry Potter Boxed Set, Books 1-5 (Harry Potter, #1-5)",
                                    "1": "4.77",
                                    "2": "11",
                                    "3": "615",
                                    "4": "8"
                                },
                                {
                                    "0": "Harry Potter Boxed Set, Books 1-5 (Harry Potter, #1-5)",
                                    "1": "4.77",
                                    "2": "11",
                                    "3": "654",
                                    "4": "8"
                                },
                                {
                                    "0": "Harry Potter Boxed Set, Books 1-5 (Harry Potter, #1-5)",
                                    "1": "4.77",
                                    "2": "11",
                                    "3": "1153",
                                    "4": "8"
                                },
                                {
                                    "0": "Harry Potter Boxed Set, Books 1-5 (Harry Potter, #1-5)",
                                    "1": "4.77",
                                    "2": "11",
                                    "3": "1235",
                                    "4": "8"
                                },
                                {
                                    "0": "Harry Potter Boxed Set, Books 1-5 (Harry Potter, #1-5)",
                                    "1": "4.77",
                                    "2": "11",
                                    "3": "1280",
                                    "4": "8"
                                },
                                {
                                    "0": "Harry Potter Boxed Set, Books 1-5 (Harry Potter, #1-5)",
                                    "1": "4.77",
                                    "2": "11",
                                    "3": "1337",
                                    "4": "8"
                                },
                                {
                                    "0": "Harry Potter Boxed Set, Books 1-5 (Harry Potter, #1-5)",
                                    "1": "4.77",
                                    "2": "11",
                                    "3": "1447",
                                    "4": "8"
                                },
                                {
                                    "0": "Harry Potter Boxed Set, Books 1-5 (Harry Potter, #1-5)",
                                    "1": "4.77",
                                    "2": "11",
                                    "3": "1509",
                                    "4": "8"
                                },
                                {
                                    "0": "Harry Potter Boxed Set, Books 1-5 (Harry Potter, #1-5)",
                                    "1": "4.77",
                                    "2": "11",
                                    "3": "1591",
                                    "4": "8"
                                },
                                {
                                    "0": "Harry Potter Boxed Set, Books 1-5 (Harry Potter, #1-5)",
                                    "1": "4.77",
                                    "2": "11",
                                    "3": "1640",
                                    "4": "8"
                                },
                                {
                                    "0": "Harry Potter Boxed Set, Books 1-5 (Harry Potter, #1-5)",
                                    "1": "4.77",
                                    "2": "11",
                                    "3": "1743",
                                    "4": "8"
                                },
                                {
                                    "0": "Harry Potter Boxed Set, Books 1-5 (Harry Potter, #1-5)",
                                    "1": "4.77",
                                    "2": "11",
                                    "3": "1786",
                                    "4": "8"
                                },
                                {
                                    "0": "Harry Potter Boxed Set, Books 1-5 (Harry Potter, #1-5)",
                                    "1": "4.77",
                                    "2": "11",
                                    "3": "1826",
                                    "4": "8"
                                },
                                {
                                    "0": "Harry Potter Boxed Set, Books 1-5 (Harry Potter, #1-5)",
                                    "1": "4.77",
                                    "2": "11",
                                    "3": "1840",
                                    "4": "8"
                                },
                                {
                                    "0": "Harry Potter Boxed Set, Books 1-5 (Harry Potter, #1-5)",
                                    "1": "4.77",
                                    "2": "11",
                                    "3": "1845",
                                    "4": "8"
                                },
                                {
                                    "0": "Harry Potter Boxed Set, Books 1-5 (Harry Potter, #1-5)",
                                    "1": "4.77",
                                    "2": "11",
                                    "3": "1903",
                                    "4": "8"
                                },
                                {
                                    "0": "Harry Potter Boxed Set, Books 1-5 (Harry Potter, #1-5)",
                                    "1": "4.77",
                                    "2": "11",
                                    "3": "1935",
                                    "4": "8"
                                },
                                {
                                    "0": "Harry Potter Boxed Set, Books 1-5 (Harry Potter, #1-5)",
                                    "1": "4.77",
                                    "2": "11",
                                    "3": "1940",
                                    "4": "8"
                                },
                                {
                                    "0": "Harry Potter Boxed Set, Books 1-5 (Harry Potter, #1-5)",
                                    "1": "4.77",
                                    "2": "11",
                                    "3": "2000",
                                    "4": "8"
                                },
                                {
                                    "0": "Harry Potter Boxed Set, Books 1-5 (Harry Potter, #1-5)",
                                    "1": "4.77",
                                    "2": "11",
                                    "3": "2006",
                                    "4": "8"
                                }
                            ]
                        },
                        "text/html": [
                            "<table>",
                            "<tr><th>title</th><th>average_rating</th><th>books_count</th><th>user_id</th><th>book_id</th></tr>",
                            "<tr><td>The Complete Calvin and Hobbes</td><td>4.82</td><td>14</td><td>NULL</td><td>NULL</td></tr>",
                            "<tr><td>Words of Radiance (The Stormlight Archive, #2)</td><td>4.77</td><td>34</td><td>NULL</td><td>NULL</td></tr>",
                            "<tr><td>Harry Potter Boxed Set, Books 1-5 (Harry Potter, #1-5)</td><td>4.77</td><td>11</td><td>9</td><td>8</td></tr>",
                            "<tr><td>Harry Potter Boxed Set, Books 1-5 (Harry Potter, #1-5)</td><td>4.77</td><td>11</td><td>245</td><td>8</td></tr>",
                            "<tr><td>Harry Potter Boxed Set, Books 1-5 (Harry Potter, #1-5)</td><td>4.77</td><td>11</td><td>265</td><td>8</td></tr>",
                            "<tr><td>Harry Potter Boxed Set, Books 1-5 (Harry Potter, #1-5)</td><td>4.77</td><td>11</td><td>318</td><td>8</td></tr>",
                            "<tr><td>Harry Potter Boxed Set, Books 1-5 (Harry Potter, #1-5)</td><td>4.77</td><td>11</td><td>361</td><td>8</td></tr>",
                            "<tr><td>Harry Potter Boxed Set, Books 1-5 (Harry Potter, #1-5)</td><td>4.77</td><td>11</td><td>422</td><td>8</td></tr>",
                            "<tr><td>Harry Potter Boxed Set, Books 1-5 (Harry Potter, #1-5)</td><td>4.77</td><td>11</td><td>435</td><td>8</td></tr>",
                            "<tr><td>Harry Potter Boxed Set, Books 1-5 (Harry Potter, #1-5)</td><td>4.77</td><td>11</td><td>457</td><td>8</td></tr>",
                            "<tr><td>Harry Potter Boxed Set, Books 1-5 (Harry Potter, #1-5)</td><td>4.77</td><td>11</td><td>615</td><td>8</td></tr>",
                            "<tr><td>Harry Potter Boxed Set, Books 1-5 (Harry Potter, #1-5)</td><td>4.77</td><td>11</td><td>654</td><td>8</td></tr>",
                            "<tr><td>Harry Potter Boxed Set, Books 1-5 (Harry Potter, #1-5)</td><td>4.77</td><td>11</td><td>1153</td><td>8</td></tr>",
                            "<tr><td>Harry Potter Boxed Set, Books 1-5 (Harry Potter, #1-5)</td><td>4.77</td><td>11</td><td>1235</td><td>8</td></tr>",
                            "<tr><td>Harry Potter Boxed Set, Books 1-5 (Harry Potter, #1-5)</td><td>4.77</td><td>11</td><td>1280</td><td>8</td></tr>",
                            "<tr><td>Harry Potter Boxed Set, Books 1-5 (Harry Potter, #1-5)</td><td>4.77</td><td>11</td><td>1337</td><td>8</td></tr>",
                            "<tr><td>Harry Potter Boxed Set, Books 1-5 (Harry Potter, #1-5)</td><td>4.77</td><td>11</td><td>1447</td><td>8</td></tr>",
                            "<tr><td>Harry Potter Boxed Set, Books 1-5 (Harry Potter, #1-5)</td><td>4.77</td><td>11</td><td>1509</td><td>8</td></tr>",
                            "<tr><td>Harry Potter Boxed Set, Books 1-5 (Harry Potter, #1-5)</td><td>4.77</td><td>11</td><td>1591</td><td>8</td></tr>",
                            "<tr><td>Harry Potter Boxed Set, Books 1-5 (Harry Potter, #1-5)</td><td>4.77</td><td>11</td><td>1640</td><td>8</td></tr>",
                            "<tr><td>Harry Potter Boxed Set, Books 1-5 (Harry Potter, #1-5)</td><td>4.77</td><td>11</td><td>1743</td><td>8</td></tr>",
                            "<tr><td>Harry Potter Boxed Set, Books 1-5 (Harry Potter, #1-5)</td><td>4.77</td><td>11</td><td>1786</td><td>8</td></tr>",
                            "<tr><td>Harry Potter Boxed Set, Books 1-5 (Harry Potter, #1-5)</td><td>4.77</td><td>11</td><td>1826</td><td>8</td></tr>",
                            "<tr><td>Harry Potter Boxed Set, Books 1-5 (Harry Potter, #1-5)</td><td>4.77</td><td>11</td><td>1840</td><td>8</td></tr>",
                            "<tr><td>Harry Potter Boxed Set, Books 1-5 (Harry Potter, #1-5)</td><td>4.77</td><td>11</td><td>1845</td><td>8</td></tr>",
                            "<tr><td>Harry Potter Boxed Set, Books 1-5 (Harry Potter, #1-5)</td><td>4.77</td><td>11</td><td>1903</td><td>8</td></tr>",
                            "<tr><td>Harry Potter Boxed Set, Books 1-5 (Harry Potter, #1-5)</td><td>4.77</td><td>11</td><td>1935</td><td>8</td></tr>",
                            "<tr><td>Harry Potter Boxed Set, Books 1-5 (Harry Potter, #1-5)</td><td>4.77</td><td>11</td><td>1940</td><td>8</td></tr>",
                            "<tr><td>Harry Potter Boxed Set, Books 1-5 (Harry Potter, #1-5)</td><td>4.77</td><td>11</td><td>2000</td><td>8</td></tr>",
                            "<tr><td>Harry Potter Boxed Set, Books 1-5 (Harry Potter, #1-5)</td><td>4.77</td><td>11</td><td>2006</td><td>8</td></tr>",
                            "</table>"
                        ]
                    }
                }
            ],
            "execution_count": 12
        },
        {
            "cell_type": "markdown",
            "source": [
                "## **QUESTION 4:** Exploring INNER Joins with the **books** and **to\\_read** tables\n",
                "\n",
                "You will need to uncomment the Query to answer the question.\n",
                "\n",
                "**Part A:**  What does an inner join do?\n",
                "\n",
                "> <span style=\"background-color: rgba(127, 127, 127, 0.1); font-family: -apple-system, BlinkMacSystemFont, sans-serif;\">Your Answer: INNER joins only keep the rows that the two tables have in common.</span>\n",
                "\n",
                "<span style=\"background-color: rgba(127, 127, 127, 0.1); font-family: -apple-system, BlinkMacSystemFont, sans-serif;\"><b>Part B:</b>&nbsp;Currently this table has an <b>'IS NOT NULL'</b> in the <b>WHERE</b> clause.&nbsp; Is this necessary for this table?&nbsp; Why or Why not?&nbsp;</span>  \n",
                "\n",
                "> Your Answer: The WHERE clause is not necessary because it did not change the tables' output.\n",
                "\n",
                "**Part C:**  When using SQL, you are usually returning much larger tables so every line of code will add to the compilation and return time.  Rewrite this inner join query so that it contains no redundant code.   \n",
                "\n",
                "> Your Answer:  Update the query in the code box below."
            ],
            "metadata": {
                "azdata_cell_guid": "4dab11ce-7995-4444-92dd-4cb2c0bc02c8"
            },
            "attachments": {}
        },
        {
            "cell_type": "code",
            "source": [
                "\n",
                "-- INNER JOIN\n",
                "SELECT TOP 30 b.title, b.average_rating, b.books_count,tr.user_id, tr.book_id\n",
                "FROM BooksDB.dbo.books AS b\n",
                "INNER JOIN BooksDB.dbo.to_read AS tr\n",
                "ON b.book_id = tr.book_id\n",
                "ORDER BY tr.book_id;\n",
                ""
            ],
            "metadata": {
                "azdata_cell_guid": "66d430ab-18aa-4a29-a32d-0585445e417c",
                "tags": [],
                "language": "sql"
            },
            "outputs": [
                {
                    "output_type": "display_data",
                    "data": {
                        "text/html": "(30 rows affected)"
                    },
                    "metadata": {}
                },
                {
                    "output_type": "display_data",
                    "data": {
                        "text/html": "Total execution time: 00:00:00.149"
                    },
                    "metadata": {}
                },
                {
                    "output_type": "execute_result",
                    "metadata": {},
                    "execution_count": 17,
                    "data": {
                        "application/vnd.dataresource+json": {
                            "schema": {
                                "fields": [
                                    {
                                        "name": "title"
                                    },
                                    {
                                        "name": "average_rating"
                                    },
                                    {
                                        "name": "books_count"
                                    },
                                    {
                                        "name": "user_id"
                                    },
                                    {
                                        "name": "book_id"
                                    }
                                ]
                            },
                            "data": [
                                {
                                    "0": "Harry Potter and the Half-Blood Prince (Harry Potter, #6)",
                                    "1": "4.54",
                                    "2": "275",
                                    "3": "12",
                                    "4": "1"
                                },
                                {
                                    "0": "Harry Potter and the Half-Blood Prince (Harry Potter, #6)",
                                    "1": "4.54",
                                    "2": "275",
                                    "3": "192",
                                    "4": "1"
                                },
                                {
                                    "0": "Harry Potter and the Half-Blood Prince (Harry Potter, #6)",
                                    "1": "4.54",
                                    "2": "275",
                                    "3": "202",
                                    "4": "1"
                                },
                                {
                                    "0": "Harry Potter and the Half-Blood Prince (Harry Potter, #6)",
                                    "1": "4.54",
                                    "2": "275",
                                    "3": "244",
                                    "4": "1"
                                },
                                {
                                    "0": "Harry Potter and the Half-Blood Prince (Harry Potter, #6)",
                                    "1": "4.54",
                                    "2": "275",
                                    "3": "253",
                                    "4": "1"
                                },
                                {
                                    "0": "Harry Potter and the Half-Blood Prince (Harry Potter, #6)",
                                    "1": "4.54",
                                    "2": "275",
                                    "3": "350",
                                    "4": "1"
                                },
                                {
                                    "0": "Harry Potter and the Half-Blood Prince (Harry Potter, #6)",
                                    "1": "4.54",
                                    "2": "275",
                                    "3": "478",
                                    "4": "1"
                                },
                                {
                                    "0": "Harry Potter and the Half-Blood Prince (Harry Potter, #6)",
                                    "1": "4.54",
                                    "2": "275",
                                    "3": "511",
                                    "4": "1"
                                },
                                {
                                    "0": "Harry Potter and the Half-Blood Prince (Harry Potter, #6)",
                                    "1": "4.54",
                                    "2": "275",
                                    "3": "525",
                                    "4": "1"
                                },
                                {
                                    "0": "Harry Potter and the Half-Blood Prince (Harry Potter, #6)",
                                    "1": "4.54",
                                    "2": "275",
                                    "3": "527",
                                    "4": "1"
                                },
                                {
                                    "0": "Harry Potter and the Half-Blood Prince (Harry Potter, #6)",
                                    "1": "4.54",
                                    "2": "275",
                                    "3": "552",
                                    "4": "1"
                                },
                                {
                                    "0": "Harry Potter and the Half-Blood Prince (Harry Potter, #6)",
                                    "1": "4.54",
                                    "2": "275",
                                    "3": "644",
                                    "4": "1"
                                },
                                {
                                    "0": "Harry Potter and the Half-Blood Prince (Harry Potter, #6)",
                                    "1": "4.54",
                                    "2": "275",
                                    "3": "754",
                                    "4": "1"
                                },
                                {
                                    "0": "Harry Potter and the Half-Blood Prince (Harry Potter, #6)",
                                    "1": "4.54",
                                    "2": "275",
                                    "3": "826",
                                    "4": "1"
                                },
                                {
                                    "0": "Harry Potter and the Half-Blood Prince (Harry Potter, #6)",
                                    "1": "4.54",
                                    "2": "275",
                                    "3": "1043",
                                    "4": "1"
                                },
                                {
                                    "0": "Harry Potter and the Half-Blood Prince (Harry Potter, #6)",
                                    "1": "4.54",
                                    "2": "275",
                                    "3": "1205",
                                    "4": "1"
                                },
                                {
                                    "0": "Harry Potter and the Half-Blood Prince (Harry Potter, #6)",
                                    "1": "4.54",
                                    "2": "275",
                                    "3": "1442",
                                    "4": "1"
                                },
                                {
                                    "0": "Harry Potter and the Half-Blood Prince (Harry Potter, #6)",
                                    "1": "4.54",
                                    "2": "275",
                                    "3": "1470",
                                    "4": "1"
                                },
                                {
                                    "0": "Harry Potter and the Half-Blood Prince (Harry Potter, #6)",
                                    "1": "4.54",
                                    "2": "275",
                                    "3": "1712",
                                    "4": "1"
                                },
                                {
                                    "0": "Harry Potter and the Half-Blood Prince (Harry Potter, #6)",
                                    "1": "4.54",
                                    "2": "275",
                                    "3": "1814",
                                    "4": "1"
                                },
                                {
                                    "0": "Harry Potter and the Half-Blood Prince (Harry Potter, #6)",
                                    "1": "4.54",
                                    "2": "275",
                                    "3": "1919",
                                    "4": "1"
                                },
                                {
                                    "0": "Harry Potter and the Half-Blood Prince (Harry Potter, #6)",
                                    "1": "4.54",
                                    "2": "275",
                                    "3": "2051",
                                    "4": "1"
                                },
                                {
                                    "0": "Harry Potter and the Half-Blood Prince (Harry Potter, #6)",
                                    "1": "4.54",
                                    "2": "275",
                                    "3": "2052",
                                    "4": "1"
                                },
                                {
                                    "0": "Harry Potter and the Half-Blood Prince (Harry Potter, #6)",
                                    "1": "4.54",
                                    "2": "275",
                                    "3": "2158",
                                    "4": "1"
                                },
                                {
                                    "0": "Harry Potter and the Half-Blood Prince (Harry Potter, #6)",
                                    "1": "4.54",
                                    "2": "275",
                                    "3": "2160",
                                    "4": "1"
                                },
                                {
                                    "0": "Harry Potter and the Half-Blood Prince (Harry Potter, #6)",
                                    "1": "4.54",
                                    "2": "275",
                                    "3": "2345",
                                    "4": "1"
                                },
                                {
                                    "0": "Harry Potter and the Half-Blood Prince (Harry Potter, #6)",
                                    "1": "4.54",
                                    "2": "275",
                                    "3": "2476",
                                    "4": "1"
                                },
                                {
                                    "0": "Harry Potter and the Half-Blood Prince (Harry Potter, #6)",
                                    "1": "4.54",
                                    "2": "275",
                                    "3": "2523",
                                    "4": "1"
                                },
                                {
                                    "0": "Harry Potter and the Half-Blood Prince (Harry Potter, #6)",
                                    "1": "4.54",
                                    "2": "275",
                                    "3": "2623",
                                    "4": "1"
                                },
                                {
                                    "0": "Harry Potter and the Half-Blood Prince (Harry Potter, #6)",
                                    "1": "4.54",
                                    "2": "275",
                                    "3": "2673",
                                    "4": "1"
                                }
                            ]
                        },
                        "text/html": [
                            "<table>",
                            "<tr><th>title</th><th>average_rating</th><th>books_count</th><th>user_id</th><th>book_id</th></tr>",
                            "<tr><td>Harry Potter and the Half-Blood Prince (Harry Potter, #6)</td><td>4.54</td><td>275</td><td>12</td><td>1</td></tr>",
                            "<tr><td>Harry Potter and the Half-Blood Prince (Harry Potter, #6)</td><td>4.54</td><td>275</td><td>192</td><td>1</td></tr>",
                            "<tr><td>Harry Potter and the Half-Blood Prince (Harry Potter, #6)</td><td>4.54</td><td>275</td><td>202</td><td>1</td></tr>",
                            "<tr><td>Harry Potter and the Half-Blood Prince (Harry Potter, #6)</td><td>4.54</td><td>275</td><td>244</td><td>1</td></tr>",
                            "<tr><td>Harry Potter and the Half-Blood Prince (Harry Potter, #6)</td><td>4.54</td><td>275</td><td>253</td><td>1</td></tr>",
                            "<tr><td>Harry Potter and the Half-Blood Prince (Harry Potter, #6)</td><td>4.54</td><td>275</td><td>350</td><td>1</td></tr>",
                            "<tr><td>Harry Potter and the Half-Blood Prince (Harry Potter, #6)</td><td>4.54</td><td>275</td><td>478</td><td>1</td></tr>",
                            "<tr><td>Harry Potter and the Half-Blood Prince (Harry Potter, #6)</td><td>4.54</td><td>275</td><td>511</td><td>1</td></tr>",
                            "<tr><td>Harry Potter and the Half-Blood Prince (Harry Potter, #6)</td><td>4.54</td><td>275</td><td>525</td><td>1</td></tr>",
                            "<tr><td>Harry Potter and the Half-Blood Prince (Harry Potter, #6)</td><td>4.54</td><td>275</td><td>527</td><td>1</td></tr>",
                            "<tr><td>Harry Potter and the Half-Blood Prince (Harry Potter, #6)</td><td>4.54</td><td>275</td><td>552</td><td>1</td></tr>",
                            "<tr><td>Harry Potter and the Half-Blood Prince (Harry Potter, #6)</td><td>4.54</td><td>275</td><td>644</td><td>1</td></tr>",
                            "<tr><td>Harry Potter and the Half-Blood Prince (Harry Potter, #6)</td><td>4.54</td><td>275</td><td>754</td><td>1</td></tr>",
                            "<tr><td>Harry Potter and the Half-Blood Prince (Harry Potter, #6)</td><td>4.54</td><td>275</td><td>826</td><td>1</td></tr>",
                            "<tr><td>Harry Potter and the Half-Blood Prince (Harry Potter, #6)</td><td>4.54</td><td>275</td><td>1043</td><td>1</td></tr>",
                            "<tr><td>Harry Potter and the Half-Blood Prince (Harry Potter, #6)</td><td>4.54</td><td>275</td><td>1205</td><td>1</td></tr>",
                            "<tr><td>Harry Potter and the Half-Blood Prince (Harry Potter, #6)</td><td>4.54</td><td>275</td><td>1442</td><td>1</td></tr>",
                            "<tr><td>Harry Potter and the Half-Blood Prince (Harry Potter, #6)</td><td>4.54</td><td>275</td><td>1470</td><td>1</td></tr>",
                            "<tr><td>Harry Potter and the Half-Blood Prince (Harry Potter, #6)</td><td>4.54</td><td>275</td><td>1712</td><td>1</td></tr>",
                            "<tr><td>Harry Potter and the Half-Blood Prince (Harry Potter, #6)</td><td>4.54</td><td>275</td><td>1814</td><td>1</td></tr>",
                            "<tr><td>Harry Potter and the Half-Blood Prince (Harry Potter, #6)</td><td>4.54</td><td>275</td><td>1919</td><td>1</td></tr>",
                            "<tr><td>Harry Potter and the Half-Blood Prince (Harry Potter, #6)</td><td>4.54</td><td>275</td><td>2051</td><td>1</td></tr>",
                            "<tr><td>Harry Potter and the Half-Blood Prince (Harry Potter, #6)</td><td>4.54</td><td>275</td><td>2052</td><td>1</td></tr>",
                            "<tr><td>Harry Potter and the Half-Blood Prince (Harry Potter, #6)</td><td>4.54</td><td>275</td><td>2158</td><td>1</td></tr>",
                            "<tr><td>Harry Potter and the Half-Blood Prince (Harry Potter, #6)</td><td>4.54</td><td>275</td><td>2160</td><td>1</td></tr>",
                            "<tr><td>Harry Potter and the Half-Blood Prince (Harry Potter, #6)</td><td>4.54</td><td>275</td><td>2345</td><td>1</td></tr>",
                            "<tr><td>Harry Potter and the Half-Blood Prince (Harry Potter, #6)</td><td>4.54</td><td>275</td><td>2476</td><td>1</td></tr>",
                            "<tr><td>Harry Potter and the Half-Blood Prince (Harry Potter, #6)</td><td>4.54</td><td>275</td><td>2523</td><td>1</td></tr>",
                            "<tr><td>Harry Potter and the Half-Blood Prince (Harry Potter, #6)</td><td>4.54</td><td>275</td><td>2623</td><td>1</td></tr>",
                            "<tr><td>Harry Potter and the Half-Blood Prince (Harry Potter, #6)</td><td>4.54</td><td>275</td><td>2673</td><td>1</td></tr>",
                            "</table>"
                        ]
                    }
                }
            ],
            "execution_count": 17
        },
        {
            "cell_type": "markdown",
            "source": [
                "## **QUESTION 5:**  Using joins to find the most tagged book and the most popular tag\n",
                "\n",
                "We will be writing 3 queries to find both the most tagged book and that book's most popular tag.\n",
                "\n",
                "**Part A:**  What is the most tagged book?\n",
                "\n",
                "> <span style=\"background-color: rgba(127, 127, 127, 0.1); font-family: -apple-system, BlinkMacSystemFont, sans-serif;\">Start by joining the </span> **books** <span style=\"background-color: rgba(127, 127, 127, 0.1); font-family: -apple-system, BlinkMacSystemFont, sans-serif;\">and </span> **book\\_tags**     <span style=\"background-color: rgba(127, 127, 127, 0.1); font-family: -apple-system, BlinkMacSystemFont, sans-serif;\">&nbsp;tables ON the books.best_book_id and book_tags.goodreads_book_id.&nbsp;&nbsp;<br></span>        <span style=\"background-color: rgba(127, 127, 127, 0.1); font-family: -apple-system, BlinkMacSystemFont, sans-serif;\">We want the <i>most popular</i> book, so think about ordering the table in a way that will display both the book title and the number of times a book tag has been used.</span>\n",
                "> \n",
                "> _MInimum Desired output:_  The title of the most tagged book, and the number of times the book has been tagged.\n",
                "> \n",
                "> **Title: Selected Poems has been tagged 400 times.**\n",
                "\n",
                "**Part B:** How many different tags have been used for the most tagged book?\n",
                "\n",
                "> <span style=\"font-family: -apple-system, BlinkMacSystemFont, sans-serif; background-color: rgba(127, 127, 127, 0.1);\">Start by joining the&nbsp;</span>     **books** <span style=\"font-family: -apple-system, BlinkMacSystemFont, sans-serif; background-color: rgba(127, 127, 127, 0.1);\">and&nbsp;</span>     **book\\_tags**     <span style=\"font-family: -apple-system, BlinkMacSystemFont, sans-serif; background-color: rgba(127, 127, 127, 0.1);\">&nbsp;tables ON the books.best_book_id and book_tags.goodreads_book_id.&nbsp;&nbsp;<br></span>        We want to find the _most popular_ tag id, so think about ordering in a way that will display the most popular tag id.\n",
                "> \n",
                "> <span style=\"font-family: -apple-system, BlinkMacSystemFont, sans-serif; background-color: rgba(127, 127, 127, 0.1);\"><i>Minimum Desired Output:</i> The tag id for the most popular tag used for the most tagged book.&nbsp;</span>    \n",
                "> \n",
                "> <span style=\"font-family: -apple-system, BlinkMacSystemFont, sans-serif; background-color: rgba(127, 127, 127, 0.1);\"><b>Tag Id: 30574</b></span>\n",
                "\n",
                "<span style=\"font-family: -apple-system, BlinkMacSystemFont, sans-serif; background-color: rgba(127, 127, 127, 0.1);\"><b>Part C: </b>What is this particular tag?</span>\n",
                "\n",
                "> You may return this answer with a simple query.\n",
                "\n",
                "> <span style=\"font-family: -apple-system, BlinkMacSystemFont, sans-serif; background-color: rgba(127, 127, 127, 0.1);\"><i>Minimum Desired Output:</i>&nbsp;The tag name for the most popular tag used for the most tagged book.&nbsp;</span>    \n",
                "> \n",
                "> <span style=\"font-family: -apple-system, BlinkMacSystemFont, sans-serif; background-color: rgba(127, 127, 127, 0.1);\"><b>Tag Name: to-read</b></span>"
            ],
            "metadata": {
                "azdata_cell_guid": "a685e9cc-2ae2-40e8-8cc1-022c8064d66d"
            },
            "attachments": {}
        },
        {
            "cell_type": "code",
            "source": [
                "-- Code Here:\r\n",
                "SELECT COUNT(bt.goodreads_book_id) AS 'Tag Count', b.title, bt.tag_id\r\n",
                "FROM BooksDB.dbo.books AS b\r\n",
                "JOIN BooksDB.dbo.book_tags AS bt\r\n",
                "ON bt.goodreads_book_id = b.best_book_id\r\n",
                "GROUP BY b.title, bt.tag_id\r\n",
                "ORDER BY 'Tag Count' DESC;\r\n",
                "\r\n",
                "SELECT COUNT(bt.tag_id) AS 'Tag ID Count', bt.tag_id\r\n",
                "FROM BooksDB.dbo.books AS b\r\n",
                "JOIN BooksDB.dbo.book_tags AS bt\r\n",
                "ON bt.goodreads_book_id = b.best_book_id\r\n",
                "GROUP BY bt.tag_id\r\n",
                "ORDER BY [Tag ID Count] DESC;\r\n",
                "\r\n",
                "SELECT *\r\n",
                "FROM BooksDB.dbo.tags\r\n",
                "WHERE tag_id = 30574"
            ],
            "metadata": {
                "azdata_cell_guid": "de3ac253-6b47-4740-8c6e-5f9d1b0ce36b",
                "language": "sql",
                "tags": []
            },
            "outputs": [
                {
                    "output_type": "error",
                    "evalue": "Query failed: The operation was canceled.",
                    "ename": "",
                    "traceback": []
                },
                {
                    "output_type": "display_data",
                    "data": {
                        "text/html": "Query was canceled by user"
                    },
                    "metadata": {}
                },
                {
                    "output_type": "display_data",
                    "data": {
                        "text/html": "Total execution time: 00:00:07.665"
                    },
                    "metadata": {}
                }
            ],
            "execution_count": 73
        },
        {
            "cell_type": "markdown",
            "source": [
                "## **QUESTION 6:** Find a book based on a tag of your choice using joins.\n",
                "\n",
                "Some suggestions: any hobbies you like? baking, drawing, etc. how about favorite holidays, subjects, animals, etc?\n",
                "\n",
                "**Part A:** Explore the tags table for a tag of your choice.  Suggested ideas, try searching for one of your hobbies, a favorite time of year, favorite animal, etc.  Start by querying the tag table for your chosen tag.  (_Hint:_ in order to make sure you find all combinations of your tags, use the wildcard).  If your query returns more than one result, pick your favorite.\n",
                "\n",
                "> > _Here is an example.  Alyce wanted to search for halloween books.  She used the wildcard, '%halloween%' and 8 different combinations were found.  Alyce selected '**halloween-storytime**', with a tag id of 13877._\n",
                "\n",
                "> _Minimum Desired Output:_ <span style=\"font-family: -apple-system, BlinkMacSystemFont, sans-serif; background-color: rgba(127, 127, 127, 0.1);\">tag name and tag id</span>\n",
                "\n",
                "> **Your Tag and Tag Id:** knitting-crochet 17376\n",
                "\n",
                "**Part B:** Now that you have the **tag id**, find the title that was tagged the most with this tag by joining the books and books\\_tags tables.\n",
                "\n",
                "> > _Alyce joined the book table with the tags table and discovered that <u>The Little Old Lady Who Was Not Afraid of Anything</u> was tagged as '**halloween-storytime**' the most._\n",
                "\n",
                "> _Minimum Desired Output:_ <span style=\"background-color: rgba(127, 127, 127, 0.1); font-family: -apple-system, BlinkMacSystemFont, sans-serif;\">title and tag count</span>\n",
                "\n",
                "> **Your Title and Number of times the tag was used:** Baking: From My Home to Yours was tagged once."
            ],
            "metadata": {
                "azdata_cell_guid": "df783e7e-3aff-4e63-9edb-f2e729c7d1c8"
            },
            "attachments": {}
        },
        {
            "cell_type": "code",
            "source": [
                "-- Code Here:\r\n",
                "SELECT *\r\n",
                "FROM BooksDB.dbo.book_tags AS bt\r\n",
                "JOIN BooksDB.dbo.tags AS t\r\n",
                "ON t.tag_id = bt.tag_id\r\n",
                "WHERE t.tag_name LIKE '%crochet%';\r\n",
                "\r\n",
                "SELECT COUNT(b.title) AS 'Title Count', b.title, bt.tag_id\r\n",
                "FROM BooksDB.dbo.books AS b\r\n",
                "JOIN BooksDB.dbo.book_tags AS bt\r\n",
                "ON bt.goodreads_book_id = b.book_id\r\n",
                "WHERE bt.tag_id = 17376\r\n",
                "GROUP BY b.title, bt.tag_id;"
            ],
            "metadata": {
                "azdata_cell_guid": "c4b0b67c-7cfa-4f52-be97-ffe5cc28ed54",
                "tags": [],
                "language": "sql"
            },
            "outputs": [
                {
                    "output_type": "display_data",
                    "data": {
                        "text/html": "(1 row affected)"
                    },
                    "metadata": {}
                },
                {
                    "output_type": "display_data",
                    "data": {
                        "text/html": "(1 row affected)"
                    },
                    "metadata": {}
                },
                {
                    "output_type": "display_data",
                    "data": {
                        "text/html": "Total execution time: 00:00:00.367"
                    },
                    "metadata": {}
                },
                {
                    "output_type": "execute_result",
                    "metadata": {},
                    "execution_count": 83,
                    "data": {
                        "application/vnd.dataresource+json": {
                            "schema": {
                                "fields": [
                                    {
                                        "name": "goodreads_book_id"
                                    },
                                    {
                                        "name": "tag_id"
                                    },
                                    {
                                        "name": "count"
                                    },
                                    {
                                        "name": "tag_id"
                                    },
                                    {
                                        "name": "tag_name"
                                    }
                                ]
                            },
                            "data": [
                                {
                                    "0": "184644",
                                    "1": "17376",
                                    "2": "1",
                                    "3": "17376",
                                    "4": "knitting-crochet"
                                }
                            ]
                        },
                        "text/html": [
                            "<table>",
                            "<tr><th>goodreads_book_id</th><th>tag_id</th><th>count</th><th>tag_id</th><th>tag_name</th></tr>",
                            "<tr><td>184644</td><td>17376</td><td>1</td><td>17376</td><td>knitting-crochet</td></tr>",
                            "</table>"
                        ]
                    }
                },
                {
                    "output_type": "execute_result",
                    "metadata": {},
                    "execution_count": 83,
                    "data": {
                        "application/vnd.dataresource+json": {
                            "schema": {
                                "fields": [
                                    {
                                        "name": "Title Count"
                                    },
                                    {
                                        "name": "title"
                                    },
                                    {
                                        "name": "tag_id"
                                    }
                                ]
                            },
                            "data": [
                                {
                                    "0": "1",
                                    "1": "Baking: From My Home to Yours",
                                    "2": "17376"
                                }
                            ]
                        },
                        "text/html": [
                            "<table>",
                            "<tr><th>Title Count</th><th>title</th><th>tag_id</th></tr>",
                            "<tr><td>1</td><td>Baking: From My Home to Yours</td><td>17376</td></tr>",
                            "</table>"
                        ]
                    }
                }
            ],
            "execution_count": 83
        },
        {
            "cell_type": "markdown",
            "source": [
                "## **QUESTION 7:** What are the top 10 most popular book titles on the 'to read' list?\n",
                "\n",
                "**Part A:**  Explore how the **to\\_read** and **books** tables are organized, and then join them.  What will you use as a key?\n",
                "\n",
                "> Your Answer: I used book\\_id as the key.\n",
                "\n",
                "**Part B:** Organize your newly joined table in a way that groups popularity based on the title based on users.\n",
                "\n",
                "> _Hint:_ Suggest using an alias for the aggregation you will need to run on the **user\\_id**\n",
                "\n",
                "> _Minimum Desired Output:_ title and aliased column"
            ],
            "metadata": {
                "azdata_cell_guid": "4e5349b7-24f6-481a-9d88-bb4f86abc624"
            },
            "attachments": {}
        },
        {
            "cell_type": "code",
            "source": [
                "-- Code Here:\r\n",
                "SELECT COUNT(tr.user_id) AS 'User ID Count', b.title\r\n",
                "FROM BooksDB.dbo.to_read AS tr\r\n",
                "JOIN BooksDB.dbo.books AS b\r\n",
                "ON tr.book_id = b.book_id\r\n",
                "GROUP BY b.title\r\n",
                "ORDER BY [User ID Count] DESC;\r\n",
                ""
            ],
            "metadata": {
                "azdata_cell_guid": "8af25df1-ce61-4152-8198-0b53c17642d0",
                "language": "sql"
            },
            "outputs": [
                {
                    "output_type": "display_data",
                    "data": {
                        "text/html": "(811 rows affected)"
                    },
                    "metadata": {}
                },
                {
                    "output_type": "display_data",
                    "data": {
                        "text/html": "Total execution time: 00:00:00.254"
                    },
                    "metadata": {}
                },
                {
                    "output_type": "execute_result",
                    "metadata": {},
                    "execution_count": 91,
                    "data": {
                        "application/vnd.dataresource+json": {
                            "schema": {
                                "fields": [
                                    {
                                        "name": "User ID Count"
                                    },
                                    {
                                        "name": "title"
                                    }
                                ]
                            },
                            "data": [
                                {
                                    "0": "1812",
                                    "1": "The Ultimate Hitchhiker's Guide to the Galaxy"
                                },
                                {
                                    "0": "1767",
                                    "1": "The Hitchhiker's Guide to the Galaxy (Hitchhiker's Guide to the Galaxy, #1)"
                                },
                                {
                                    "0": "1499",
                                    "1": "The Lord of the Rings: The Art of The Fellowship of the Ring"
                                },
                                {
                                    "0": "1498",
                                    "1": "Harry Potter Boxed Set, Books 1-5 (Harry Potter, #1-5)"
                                },
                                {
                                    "0": "1484",
                                    "1": "Harry Potter and the Goblet of Fire (Harry Potter, #4)"
                                },
                                {
                                    "0": "1352",
                                    "1": "The Known World"
                                },
                                {
                                    "0": "1293",
                                    "1": "Harry Potter and the Prisoner of Azkaban (Harry Potter, #3)"
                                },
                                {
                                    "0": "1211",
                                    "1": "The Lord of the Rings: Weapons and Warfare"
                                },
                                {
                                    "0": "1148",
                                    "1": "Notes from a Small Island"
                                },
                                {
                                    "0": "1110",
                                    "1": "Harry Potter Collection (Harry Potter, #1-6)"
                                },
                                {
                                    "0": "1094",
                                    "1": "The Lord of the Rings (The Lord of the Rings, #1-3)"
                                },
                                {
                                    "0": "1069",
                                    "1": "The Salmon of Doubt (Dirk Gently, #3)"
                                },
                                {
                                    "0": "1051",
                                    "1": "Dune Messiah (Dune Chronicles #2)"
                                },
                                {
                                    "0": "1040",
                                    "1": "Treasure Island"
                                },
                                {
                                    "0": "1007",
                                    "1": "Tropic of Cancer"
                                },
                                {
                                    "0": "973",
                                    "1": "Harry Potter and the Half-Blood Prince (Harry Potter, #6)"
                                },
                                {
                                    "0": "913",
                                    "1": "Children of Dune (Dune Chronicles #3)"
                                },
                                {
                                    "0": "866",
                                    "1": "The Power of One (The Power of One, #1)"
                                },
                                {
                                    "0": "815",
                                    "1": "Heretics of Dune (Dune Chronicles #5)"
                                },
                                {
                                    "0": "801",
                                    "1": "J.R.R. Tolkien 4-Book Boxed Set: The Hobbit and The Lord of the Rings"
                                },
                                {
                                    "0": "737",
                                    "1": "Job: A Comedy of Justice"
                                },
                                {
                                    "0": "724",
                                    "1": "The Door Into Summer"
                                },
                                {
                                    "0": "696",
                                    "1": "Mostly Harmless (Hitchhiker's Guide to the Galaxy, #5)"
                                },
                                {
                                    "0": "661",
                                    "1": "I am Charlotte Simmons"
                                },
                                {
                                    "0": "659",
                                    "1": "The Broken Wings"
                                },
                                {
                                    "0": "608",
                                    "1": "Killing Yourself to Live: 85% of a True Story"
                                },
                                {
                                    "0": "580",
                                    "1": "The Portrait of a Lady"
                                },
                                {
                                    "0": "567",
                                    "1": "The Lover"
                                },
                                {
                                    "0": "564",
                                    "1": "Slouching Towards Bethlehem"
                                },
                                {
                                    "0": "563",
                                    "1": "We the Living"
                                },
                                {
                                    "0": "551",
                                    "1": "Cryptonomicon"
                                },
                                {
                                    "0": "533",
                                    "1": "Fullmetal Alchemist, Vol. 1 (Fullmetal Alchemist, #1)"
                                },
                                {
                                    "0": "525",
                                    "1": "Libra"
                                },
                                {
                                    "0": "525",
                                    "1": "Maurice"
                                },
                                {
                                    "0": "524",
                                    "1": "The Elegant Universe: Superstrings, Hidden Dimensions, and the Quest for the Ultimate Theory"
                                },
                                {
                                    "0": "513",
                                    "1": "Chapterhouse: Dune (Dune Chronicles #6)"
                                },
                                {
                                    "0": "504",
                                    "1": "One Hundred Years of Solitude"
                                },
                                {
                                    "0": "495",
                                    "1": "What to Expect the First Year (What to Expect)"
                                },
                                {
                                    "0": "484",
                                    "1": "I'm a Stranger Here Myself: Notes on Returning to America after Twenty Years Away"
                                },
                                {
                                    "0": "450",
                                    "1": "The Fellowship of the Ring (The Lord of the Rings, #1)"
                                },
                                {
                                    "0": "447",
                                    "1": "The Lost Continent: Travels in Small Town America"
                                },
                                {
                                    "0": "445",
                                    "1": "Everyday Italian: 125 Simple and Delicious Recipes"
                                },
                                {
                                    "0": "439",
                                    "1": "Heidi"
                                },
                                {
                                    "0": "438",
                                    "1": "Dirk Gently's Holistic Detective Agency (Dirk Gently #1)"
                                },
                                {
                                    "0": "438",
                                    "1": "Tropic of Capricorn"
                                },
                                {
                                    "0": "438",
                                    "1": "Neither Here nor There: Travels in Europe"
                                },
                                {
                                    "0": "435",
                                    "1": "City of Glass (The New York Trilogy, #1)"
                                },
                                {
                                    "0": "431",
                                    "1": "In a Sunburned Country"
                                },
                                {
                                    "0": "430",
                                    "1": "The Virtue of Selfishness: A New Concept of Egoism"
                                },
                                {
                                    "0": "427",
                                    "1": "A Short History of Nearly Everything"
                                },
                                {
                                    "0": "400",
                                    "1": "Harry Potter and the Order of the Phoenix (Harry Potter, #5)"
                                },
                                {
                                    "0": "387",
                                    "1": "Sherlock Holmes: The Complete Novels and Stories, Volume I"
                                },
                                {
                                    "0": "385",
                                    "1": "Daniel Deronda"
                                },
                                {
                                    "0": "384",
                                    "1": "Madame Bovary"
                                },
                                {
                                    "0": "374",
                                    "1": "Stranger in a Strange Land"
                                },
                                {
                                    "0": "373",
                                    "1": "Digging to America"
                                },
                                {
                                    "0": "372",
                                    "1": "The Da Vinci Code (Robert Langdon, #2)"
                                },
                                {
                                    "0": "348",
                                    "1": "The Mother Tongue: English and How It Got That Way"
                                },
                                {
                                    "0": "346",
                                    "1": "The Phantom Tollbooth"
                                },
                                {
                                    "0": "343",
                                    "1": "The Long Dark Tea-Time of the Soul (Dirk Gently, #2)"
                                },
                                {
                                    "0": "319",
                                    "1": "The Game: Penetrating the Secret Society of Pickup Artists"
                                },
                                {
                                    "0": "316",
                                    "1": "Breaking the Spell: Religion as a Natural Phenomenon"
                                },
                                {
                                    "0": "315",
                                    "1": "The Tipping Point: How Little Things Can Make a Big Difference"
                                },
                                {
                                    "0": "309",
                                    "1": "Robinson Crusoe"
                                },
                                {
                                    "0": "306",
                                    "1": "Agamemnon (Oresteia, #1)"
                                },
                                {
                                    "0": "306",
                                    "1": "Collapse: How Societies Choose to Fail or Succeed"
                                },
                                {
                                    "0": "305",
                                    "1": "Trump: The Art of the Deal"
                                },
                                {
                                    "0": "287",
                                    "1": "Harry Potter and the Sorcerer's Stone (Harry Potter, #1)"
                                },
                                {
                                    "0": "286",
                                    "1": "Fire Sea (The Death Gate Cycle, #3)"
                                },
                                {
                                    "0": "279",
                                    "1": "Wild Swans: Three Daughters of China"
                                },
                                {
                                    "0": "277",
                                    "1": "Metamorphoses"
                                },
                                {
                                    "0": "273",
                                    "1": "Think and Grow Rich: The Landmark Bestseller - Now Revised and Updated for the 21st Century"
                                },
                                {
                                    "0": "269",
                                    "1": "Hatchet (Brian's Saga, #1)"
                                },
                                {
                                    "0": "268",
                                    "1": "Middlesex"
                                },
                                {
                                    "0": "267",
                                    "1": "The Confusion (The Baroque Cycle, #2)"
                                },
                                {
                                    "0": "265",
                                    "1": "Hamlet"
                                },
                                {
                                    "0": "262",
                                    "1": "Atlas Shrugged"
                                },
                                {
                                    "0": "261",
                                    "1": "Snow Crash"
                                },
                                {
                                    "0": "260",
                                    "1": "Pompeii"
                                },
                                {
                                    "0": "250",
                                    "1": "The Odyssey"
                                },
                                {
                                    "0": "249",
                                    "1": "Leviathan"
                                },
                                {
                                    "0": "240",
                                    "1": "The Iliad/The Odyssey"
                                },
                                {
                                    "0": "240",
                                    "1": "Zodiac"
                                },
                                {
                                    "0": "239",
                                    "1": "The Diamond Age: or, A Young Lady's Illustrated Primer"
                                },
                                {
                                    "0": "236",
                                    "1": "Fahrenheit 451"
                                },
                                {
                                    "0": "232",
                                    "1": "Play It as It Lays"
                                },
                                {
                                    "0": "220",
                                    "1": "The Iliad"
                                },
                                {
                                    "0": "219",
                                    "1": "Corelli's Mandolin"
                                },
                                {
                                    "0": "217",
                                    "1": "The Brooklyn Follies"
                                },
                                {
                                    "0": "217",
                                    "1": "Gravity's Rainbow"
                                },
                                {
                                    "0": "213",
                                    "1": "Memoirs of a Geisha"
                                },
                                {
                                    "0": "208",
                                    "1": "Time Enough for Love"
                                },
                                {
                                    "0": "207",
                                    "1": "Moon Palace"
                                },
                                {
                                    "0": "206",
                                    "1": "The Design of Everyday Things"
                                },
                                {
                                    "0": "202",
                                    "1": "The Restaurant at the End of the Universe (Hitchhiker's Guide, #2)"
                                },
                                {
                                    "0": "198",
                                    "1": "Wild Fire (John Corey, #4)"
                                },
                                {
                                    "0": "195",
                                    "1": "Nickel and Dimed: On (Not) Getting By in America"
                                },
                                {
                                    "0": "194",
                                    "1": "Falling Angels"
                                },
                                {
                                    "0": "189",
                                    "1": "Martin Chuzzlewit"
                                },
                                {
                                    "0": "189",
                                    "1": "Giada's Family Dinners"
                                },
                                {
                                    "0": "184",
                                    "1": "Wild at Heart: Discovering the Secret of a Man's Soul"
                                },
                                {
                                    "0": "182",
                                    "1": "The New York Trilogy"
                                },
                                {
                                    "0": "182",
                                    "1": "Surely You're Joking, Mr. Feynman!: Adventures of a Curious Character"
                                },
                                {
                                    "0": "180",
                                    "1": "Sailing Alone Around the Room: New and Selected Poems"
                                },
                                {
                                    "0": "180",
                                    "1": "The Broker"
                                },
                                {
                                    "0": "178",
                                    "1": "A Separate Peace"
                                },
                                {
                                    "0": "176",
                                    "1": "Blue Ocean Strategy: How To Create Uncontested Market Space And Make The Competition Irrelevant"
                                },
                                {
                                    "0": "174",
                                    "1": "Liar's Poker"
                                },
                                {
                                    "0": "174",
                                    "1": "The War of Art: Break Through the Blocks & Win Your Inner Creative Battles"
                                },
                                {
                                    "0": "174",
                                    "1": "War and Peace"
                                },
                                {
                                    "0": "172",
                                    "1": "A Million Little Pieces"
                                },
                                {
                                    "0": "169",
                                    "1": "A Home at the End of the World"
                                },
                                {
                                    "0": "168",
                                    "1": "The Crying of Lot 49"
                                },
                                {
                                    "0": "166",
                                    "1": "Another Bullshit Night in Suck City"
                                },
                                {
                                    "0": "166",
                                    "1": "Angels & Demons  (Robert Langdon, #1)"
                                },
                                {
                                    "0": "164",
                                    "1": "West with the Night"
                                },
                                {
                                    "0": "164",
                                    "1": "The Natural Way to Draw"
                                },
                                {
                                    "0": "162",
                                    "1": "An Ideal Husband"
                                },
                                {
                                    "0": "162",
                                    "1": "A Painted House"
                                },
                                {
                                    "0": "161",
                                    "1": "Sentimental Education"
                                },
                                {
                                    "0": "157",
                                    "1": "Little Women (Little Women, #1)"
                                },
                                {
                                    "0": "157",
                                    "1": "The Oresteia  (Ορέστεια, #1-3)"
                                },
                                {
                                    "0": "157",
                                    "1": "Forever Amber "
                                },
                                {
                                    "0": "156",
                                    "1": "The Partner"
                                },
                                {
                                    "0": "156",
                                    "1": "I Like You: Hospitality Under the Influence"
                                },
                                {
                                    "0": "154",
                                    "1": "Brief Interviews with Hideous Men"
                                },
                                {
                                    "0": "152",
                                    "1": "Into the Wild"
                                },
                                {
                                    "0": "152",
                                    "1": "America (The Book): A Citizen's Guide to Democracy Inaction"
                                },
                                {
                                    "0": "149",
                                    "1": "Hard Eight (Stephanie Plum, #8)"
                                },
                                {
                                    "0": "149",
                                    "1": "The Zahir"
                                },
                                {
                                    "0": "149",
                                    "1": "Live and Let Die (James Bond, #2)"
                                },
                                {
                                    "0": "148",
                                    "1": "A Tale of Two Cities"
                                },
                                {
                                    "0": "147",
                                    "1": "The Deep End of the Ocean (Cappadora Family, #1)"
                                },
                                {
                                    "0": "147",
                                    "1": "Persuasion"
                                },
                                {
                                    "0": "145",
                                    "1": "Way of the Peaceful Warrior: A Book That Changes Lives"
                                },
                                {
                                    "0": "143",
                                    "1": "Howards End"
                                },
                                {
                                    "0": "142",
                                    "1": "The Innocent Man: Murder and Injustice in a Small Town"
                                },
                                {
                                    "0": "142",
                                    "1": "Anthem"
                                },
                                {
                                    "0": "142",
                                    "1": "White Teeth"
                                },
                                {
                                    "0": "139",
                                    "1": "The Book of Ruth"
                                },
                                {
                                    "0": "139",
                                    "1": "Snow Flower and the Secret Fan"
                                },
                                {
                                    "0": "139",
                                    "1": "The Taste of Home Cookbook"
                                },
                                {
                                    "0": "137",
                                    "1": "Lipstick Jungle"
                                },
                                {
                                    "0": "134",
                                    "1": "Shalimar the Clown"
                                },
                                {
                                    "0": "129",
                                    "1": "The Amazing Adventures of Kavalier & Clay"
                                },
                                {
                                    "0": "129",
                                    "1": "Baltasar and Blimunda"
                                },
                                {
                                    "0": "127",
                                    "1": "The Innovator's Dilemma: The Revolutionary Book that Will Change the Way You Do Business (Collins Business Essentials)"
                                },
                                {
                                    "0": "127",
                                    "1": "Black Beauty"
                                },
                                {
                                    "0": "126",
                                    "1": "The Good Earth (House of Earth, #1)"
                                },
                                {
                                    "0": "126",
                                    "1": "The Hungry Tide"
                                },
                                {
                                    "0": "125",
                                    "1": "Zen and the Art of Motorcycle Maintenance: An Inquiry Into Values"
                                },
                                {
                                    "0": "123",
                                    "1": "The Richest Man in Babylon"
                                },
                                {
                                    "0": "123",
                                    "1": "Memories of My Melancholy Whores"
                                },
                                {
                                    "0": "123",
                                    "1": "Slaughterhouse-Five"
                                },
                                {
                                    "0": "118",
                                    "1": "The Plot Against America"
                                },
                                {
                                    "0": "116",
                                    "1": "Interpreter of Maladies"
                                },
                                {
                                    "0": "116",
                                    "1": "Quicksilver (The Baroque Cycle, #1)"
                                },
                                {
                                    "0": "116",
                                    "1": "The Heart of the Matter"
                                },
                                {
                                    "0": "115",
                                    "1": "Villa Incognito"
                                },
                                {
                                    "0": "114",
                                    "1": "The Automatic Millionaire: A Powerful One-Step Plan to Live and Finish Rich"
                                },
                                {
                                    "0": "114",
                                    "1": "From Beirut to Jerusalem"
                                },
                                {
                                    "0": "113",
                                    "1": "Freakonomics: A Rogue Economist Explores the Hidden Side of Everything (Freakonomics, #1)"
                                },
                                {
                                    "0": "112",
                                    "1": "From the Mixed-Up Files of Mrs. Basil E. Frankweiler"
                                },
                                {
                                    "0": "111",
                                    "1": "High Five (Stephanie Plum, #5)"
                                },
                                {
                                    "0": "110",
                                    "1": "Truman"
                                },
                                {
                                    "0": "110",
                                    "1": "The History of Love"
                                },
                                {
                                    "0": "110",
                                    "1": "The List"
                                },
                                {
                                    "0": "109",
                                    "1": "The Westing Game"
                                },
                                {
                                    "0": "108",
                                    "1": "Sex, Drugs, and Cocoa Puffs: A Low Culture Manifesto"
                                },
                                {
                                    "0": "108",
                                    "1": "The Way the Crow Flies"
                                },
                                {
                                    "0": "107",
                                    "1": "One Fish, Two Fish, Red Fish, Blue Fish"
                                },
                                {
                                    "0": "107",
                                    "1": "Lost Horizon"
                                },
                                {
                                    "0": "107",
                                    "1": "The Wedding (The Notebook, #2)"
                                },
                                {
                                    "0": "106",
                                    "1": "The Johnstown Flood"
                                },
                                {
                                    "0": "106",
                                    "1": "A Room with a View"
                                },
                                {
                                    "0": "105",
                                    "1": "Perfume: The Story of a Murderer"
                                },
                                {
                                    "0": "105",
                                    "1": "The Complete Sherlock Holmes, Vol 2"
                                },
                                {
                                    "0": "105",
                                    "1": "The World Is Flat: A Brief History of the Twenty-first Century"
                                },
                                {
                                    "0": "104",
                                    "1": "Sex and the City"
                                },
                                {
                                    "0": "104",
                                    "1": "A Case of Need"
                                },
                                {
                                    "0": "103",
                                    "1": "The Bone Collector (Lincoln Rhyme, #1)"
                                },
                                {
                                    "0": "102",
                                    "1": "No Logo"
                                },
                                {
                                    "0": "102",
                                    "1": "A Little Princess"
                                },
                                {
                                    "0": "100",
                                    "1": "The Grapes of Wrath"
                                },
                                {
                                    "0": "99",
                                    "1": "So Long, and Thanks for All the Fish (Hitchhiker's Guide to the Galaxy, #4)"
                                },
                                {
                                    "0": "99",
                                    "1": "American Gods (American Gods, #1)"
                                },
                                {
                                    "0": "99",
                                    "1": "The Egypt Game (Game, #1)"
                                },
                                {
                                    "0": "99",
                                    "1": "The Rapture of Canaan"
                                },
                                {
                                    "0": "98",
                                    "1": "Hey Nostradamus!"
                                },
                                {
                                    "0": "97",
                                    "1": "Kurt Vonnegut's Cat's Cradle (Modern Critical Interpretations)"
                                },
                                {
                                    "0": "96",
                                    "1": "Economics in One Lesson: The Shortest & Surest Way to Understand Basic Economics"
                                },
                                {
                                    "0": "96",
                                    "1": "Until I Find You"
                                },
                                {
                                    "0": "95",
                                    "1": "Lysistrata"
                                },
                                {
                                    "0": "95",
                                    "1": "The Physician (Cole Family Trilogy, #1)"
                                },
                                {
                                    "0": "94",
                                    "1": "Guns, Germs, and Steel: The Fates of Human Societies"
                                },
                                {
                                    "0": "93",
                                    "1": "Of Mice and Men"
                                },
                                {
                                    "0": "92",
                                    "1": "Harry Potter Schoolbooks Box Set: Two Classic Books from the Library of Hogwarts School of Witchcraft and Wizardry"
                                },
                                {
                                    "0": "92",
                                    "1": "The River (Brian's Saga, #2)"
                                },
                                {
                                    "0": "92",
                                    "1": "Twenty Love Poems and a Song of Despair"
                                },
                                {
                                    "0": "92",
                                    "1": "A Great and Terrible Beauty (Gemma Doyle, #1)"
                                },
                                {
                                    "0": "91",
                                    "1": "Songs in Ordinary Time"
                                },
                                {
                                    "0": "90",
                                    "1": "Tunnels of Blood (Cirque Du Freak, #3)"
                                },
                                {
                                    "0": "90",
                                    "1": "Fast Food Nation: The Dark Side of the All-American Meal"
                                },
                                {
                                    "0": "90",
                                    "1": "Congo"
                                },
                                {
                                    "0": "89",
                                    "1": "The Complete Anne of Green Gables Boxed Set (Anne of Green Gables, #1-8)"
                                },
                                {
                                    "0": "89",
                                    "1": "The Hobbit"
                                },
                                {
                                    "0": "88",
                                    "1": "Into Thin Air: A Personal Account of the Mount Everest Disaster"
                                },
                                {
                                    "0": "88",
                                    "1": "Wolves of the Calla (The Dark Tower, #5)"
                                },
                                {
                                    "0": "88",
                                    "1": "Warrior of the Light"
                                },
                                {
                                    "0": "88",
                                    "1": "Ilium (Ilium, #1)"
                                },
                                {
                                    "0": "87",
                                    "1": "Sunshine"
                                },
                                {
                                    "0": "87",
                                    "1": "Prep"
                                },
                                {
                                    "0": "86",
                                    "1": "The Complete Short Novels"
                                },
                                {
                                    "0": "86",
                                    "1": "Kafka on the Shore"
                                },
                                {
                                    "0": "86",
                                    "1": "The Adventures of Sherlock Holmes"
                                },
                                {
                                    "0": "84",
                                    "1": "Heart of Darkness"
                                },
                                {
                                    "0": "84",
                                    "1": "Veronika Decides to Die"
                                },
                                {
                                    "0": "83",
                                    "1": "Moneyball: The Art of Winning an Unfair Game"
                                },
                                {
                                    "0": "83",
                                    "1": "The America's Test Kitchen Family Cookbook"
                                },
                                {
                                    "0": "83",
                                    "1": "The Fountainhead"
                                },
                                {
                                    "0": "83",
                                    "1": "Team of Rivals: The Political Genius of Abraham Lincoln"
                                },
                                {
                                    "0": "83",
                                    "1": "True Believer (Jeremy Marsh & Lexie Darnell, #1)"
                                },
                                {
                                    "0": "82",
                                    "1": "Complications: A Surgeon's Notes on an Imperfect Science"
                                },
                                {
                                    "0": "82",
                                    "1": "Stranger than Fiction"
                                },
                                {
                                    "0": "82",
                                    "1": "Brave New World / Brave New World Revisited"
                                },
                                {
                                    "0": "81",
                                    "1": "Like Water for Chocolate"
                                },
                                {
                                    "0": "81",
                                    "1": "All the Names"
                                },
                                {
                                    "0": "81",
                                    "1": "The 48 Laws of Power"
                                },
                                {
                                    "0": "81",
                                    "1": "A Midsummer Night's Dream"
                                },
                                {
                                    "0": "81",
                                    "1": "The Pilot's Wife"
                                },
                                {
                                    "0": "80",
                                    "1": "The Long Walk: The True Story of a Trek to Freedom"
                                },
                                {
                                    "0": "79",
                                    "1": "The View from Saturday"
                                },
                                {
                                    "0": "79",
                                    "1": "The Power and the Glory"
                                },
                                {
                                    "0": "79",
                                    "1": "The Histories"
                                },
                                {
                                    "0": "79",
                                    "1": "The Wonderful Story of Henry Sugar and Six More"
                                },
                                {
                                    "0": "78",
                                    "1": "The Amber Room"
                                },
                                {
                                    "0": "78",
                                    "1": "The Curious Incident of the Dog in the Night-Time"
                                },
                                {
                                    "0": "77",
                                    "1": "The Bellmaker (Redwall, #7)"
                                },
                                {
                                    "0": "77",
                                    "1": "Truth and Beauty"
                                },
                                {
                                    "0": "77",
                                    "1": "The Long Winter (Little House, #6)"
                                },
                                {
                                    "0": "76",
                                    "1": "All the King's Men"
                                },
                                {
                                    "0": "76",
                                    "1": "The Lost Boy (Dave Pelzer #2)"
                                },
                                {
                                    "0": "75",
                                    "1": "My Name is Red"
                                },
                                {
                                    "0": "74",
                                    "1": "Revolting Rhymes"
                                },
                                {
                                    "0": "74",
                                    "1": "The Rainmaker"
                                },
                                {
                                    "0": "73",
                                    "1": "Six Easy Pieces: Essentials of Physics By Its Most Brilliant Teacher"
                                },
                                {
                                    "0": "73",
                                    "1": "The Alchemist"
                                },
                                {
                                    "0": "73",
                                    "1": "A Widow for One Year"
                                },
                                {
                                    "0": "71",
                                    "1": "Pride and Prejudice"
                                },
                                {
                                    "0": "71",
                                    "1": "The Dark Tower (The Dark Tower, #7)"
                                },
                                {
                                    "0": "71",
                                    "1": "A Lesson Before Dying"
                                },
                                {
                                    "0": "70",
                                    "1": "The Summons"
                                },
                                {
                                    "0": "70",
                                    "1": "Girl with a Pearl Earring"
                                },
                                {
                                    "0": "70",
                                    "1": "Getting Things Done: The Art of Stress-Free Productivity"
                                },
                                {
                                    "0": "69",
                                    "1": "How to Win Friends and Influence People"
                                },
                                {
                                    "0": "69",
                                    "1": "Timbuktu"
                                },
                                {
                                    "0": "69",
                                    "1": "Narcissus and Goldmund"
                                },
                                {
                                    "0": "69",
                                    "1": "The War of the Worlds"
                                },
                                {
                                    "0": "69",
                                    "1": "A History of the World in 6 Glasses"
                                },
                                {
                                    "0": "68",
                                    "1": "Blind Willow, Sleeping Woman"
                                },
                                {
                                    "0": "68",
                                    "1": "It's Not About the Bike: My Journey Back to Life"
                                },
                                {
                                    "0": "68",
                                    "1": "The Rescue"
                                },
                                {
                                    "0": "68",
                                    "1": "The Picture of Dorian Gray"
                                },
                                {
                                    "0": "68",
                                    "1": "The Omnivore's Dilemma: A Natural History of Four Meals"
                                },
                                {
                                    "0": "67",
                                    "1": "The Testament"
                                },
                                {
                                    "0": "67",
                                    "1": "The Snows of Kilimanjaro and Other Stories"
                                },
                                {
                                    "0": "67",
                                    "1": "The Pilgrimage"
                                },
                                {
                                    "0": "67",
                                    "1": "Rachael Ray 365: No Repeats: A Year of Deliciously Different Dinners"
                                },
                                {
                                    "0": "67",
                                    "1": "A History of God: The 4,000-Year Quest of Judaism, Christianity, and Islam"
                                },
                                {
                                    "0": "66",
                                    "1": "The Barefoot Contessa Cookbook"
                                },
                                {
                                    "0": "65",
                                    "1": "The Autograph Man"
                                },
                                {
                                    "0": "65",
                                    "1": "Half Asleep in Frog Pajamas"
                                },
                                {
                                    "0": "65",
                                    "1": "Ways of Seeing"
                                },
                                {
                                    "0": "65",
                                    "1": "The Second Summer of the Sisterhood (Sisterhood, #2)"
                                },
                                {
                                    "0": "65",
                                    "1": "A House for Mr Biswas"
                                },
                                {
                                    "0": "64",
                                    "1": "Lolita"
                                },
                                {
                                    "0": "64",
                                    "1": "A Briefer History of Time"
                                },
                                {
                                    "0": "64",
                                    "1": "Horton Hears a Who!"
                                },
                                {
                                    "0": "64",
                                    "1": "The Brethren"
                                },
                                {
                                    "0": "64",
                                    "1": "Inés of My Soul"
                                },
                                {
                                    "0": "64",
                                    "1": "The Three Musketeers"
                                },
                                {
                                    "0": "63",
                                    "1": "Jailbird"
                                },
                                {
                                    "0": "63",
                                    "1": "Lunar Park"
                                },
                                {
                                    "0": "63",
                                    "1": "Beloved"
                                },
                                {
                                    "0": "62",
                                    "1": "The Shadow of the Wind (The Cemetery of Forgotten Books,  #1)"
                                },
                                {
                                    "0": "62",
                                    "1": "Great Expectations"
                                },
                                {
                                    "0": "62",
                                    "1": "His Excellency: George Washington"
                                },
                                {
                                    "0": "62",
                                    "1": "Founding Brothers: The Revolutionary Generation"
                                },
                                {
                                    "0": "61",
                                    "1": "Selected Stories"
                                },
                                {
                                    "0": "61",
                                    "1": "Built to Last: Successful Habits of Visionary Companies"
                                },
                                {
                                    "0": "61",
                                    "1": "The Virgin Blue"
                                },
                                {
                                    "0": "61",
                                    "1": "The Short Stories"
                                },
                                {
                                    "0": "60",
                                    "1": "Doctor No (James Bond, #6)"
                                },
                                {
                                    "0": "60",
                                    "1": "Do Androids Dream of Electric Sheep?"
                                },
                                {
                                    "0": "60",
                                    "1": "Fear and Loathing in Las Vegas"
                                },
                                {
                                    "0": "60",
                                    "1": "Charlie and the Great Glass Elevator (Charlie Bucket, #2)"
                                },
                                {
                                    "0": "60",
                                    "1": "Timequake"
                                },
                                {
                                    "0": "60",
                                    "1": "The Fortress of Solitude"
                                },
                                {
                                    "0": "60",
                                    "1": "Mariel of Redwall (Redwall, #4)"
                                },
                                {
                                    "0": "60",
                                    "1": "Don't Make Me Think: A Common Sense Approach to Web Usability"
                                },
                                {
                                    "0": "59",
                                    "1": "1776"
                                },
                                {
                                    "0": "59",
                                    "1": "Burmese Days"
                                },
                                {
                                    "0": "59",
                                    "1": "Man's Search for Meaning"
                                },
                                {
                                    "0": "59",
                                    "1": "What Looks Like Crazy on an Ordinary Day (Idlewild, #1)"
                                },
                                {
                                    "0": "59",
                                    "1": "The Devil and Miss Prym (On the Seventh Day, #3)"
                                },
                                {
                                    "0": "59",
                                    "1": "The Man From St. Petersburg"
                                },
                                {
                                    "0": "58",
                                    "1": "A Moveable Feast"
                                },
                                {
                                    "0": "58",
                                    "1": "Going After Cacciato"
                                },
                                {
                                    "0": "58",
                                    "1": "The Smoke Jumper"
                                },
                                {
                                    "0": "58",
                                    "1": "The Valkyries"
                                },
                                {
                                    "0": "58",
                                    "1": "The Five Love Languages of Children"
                                },
                                {
                                    "0": "58",
                                    "1": "Vampire Mountain (Cirque Du Freak, #4)"
                                },
                                {
                                    "0": "58",
                                    "1": "Carter Beats the Devil"
                                },
                                {
                                    "0": "57",
                                    "1": "Oedipus Rex  (The Theban Plays, #1)"
                                },
                                {
                                    "0": "57",
                                    "1": "The Firm (Penguin Readers, Level 5)"
                                },
                                {
                                    "0": "57",
                                    "1": "The Road"
                                },
                                {
                                    "0": "57",
                                    "1": "My Life in France"
                                },
                                {
                                    "0": "57",
                                    "1": "The Path Between the Seas: The Creation of the Panama Canal, 1870-1914"
                                },
                                {
                                    "0": "57",
                                    "1": "Night (The Night Trilogy #1)"
                                },
                                {
                                    "0": "57",
                                    "1": "Anil's Ghost"
                                },
                                {
                                    "0": "57",
                                    "1": "Salt: A World History"
                                },
                                {
                                    "0": "56",
                                    "1": "The Beach House"
                                },
                                {
                                    "0": "56",
                                    "1": "Portrait of a Killer: Jack the Ripper - Case Closed"
                                },
                                {
                                    "0": "56",
                                    "1": "In Our Time"
                                },
                                {
                                    "0": "56",
                                    "1": "Anansi Boys"
                                },
                                {
                                    "0": "56",
                                    "1": "Deerskin"
                                },
                                {
                                    "0": "56",
                                    "1": "Morality for Beautiful Girls (No. 1 Ladies' Detective Agency, #3)"
                                },
                                {
                                    "0": "55",
                                    "1": "Eleven Minutes"
                                },
                                {
                                    "0": "55",
                                    "1": "Longitude: The True Story of a Lone Genius Who Solved the Greatest Scientific Problem of His Time"
                                },
                                {
                                    "0": "55",
                                    "1": "A Christmas Carol"
                                },
                                {
                                    "0": "55",
                                    "1": "The First Four Years  (Little House, #9)"
                                },
                                {
                                    "0": "54",
                                    "1": "Love in the Time of Cholera"
                                },
                                {
                                    "0": "54",
                                    "1": "My Friend Leonard"
                                },
                                {
                                    "0": "54",
                                    "1": "The Brothers Karamazov"
                                },
                                {
                                    "0": "53",
                                    "1": "The Clan of the Cave Bear (Earth's Children, #1)"
                                },
                                {
                                    "0": "53",
                                    "1": "A Man Without a Country"
                                },
                                {
                                    "0": "53",
                                    "1": "The Corrections"
                                },
                                {
                                    "0": "53",
                                    "1": "The Aleph and Other Stories "
                                },
                                {
                                    "0": "53",
                                    "1": "The Shadow Rising (Wheel of Time, #4)"
                                },
                                {
                                    "0": "53",
                                    "1": "Charlie and the Chocolate Factory (Charlie Bucket, #1)"
                                },
                                {
                                    "0": "53",
                                    "1": "In the Lake of the Woods"
                                },
                                {
                                    "0": "52",
                                    "1": "Blink"
                                },
                                {
                                    "0": "52",
                                    "1": "Me Talk Pretty One Day"
                                },
                                {
                                    "0": "51",
                                    "1": "The Fifth Mountain"
                                },
                                {
                                    "0": "51",
                                    "1": "Suffer the Children"
                                },
                                {
                                    "0": "50",
                                    "1": "Pearls of Lutra (Redwall, #9)"
                                },
                                {
                                    "0": "50",
                                    "1": "Persepolis: The Story of a Childhood (Persepolis, #1)"
                                },
                                {
                                    "0": "50",
                                    "1": "To Kill a Mockingbird"
                                },
                                {
                                    "0": "50",
                                    "1": "Paradise"
                                },
                                {
                                    "0": "50",
                                    "1": "Eaters of the Dead"
                                },
                                {
                                    "0": "50",
                                    "1": "The Club Dumas"
                                },
                                {
                                    "0": "50",
                                    "1": "Special Topics in Calamity Physics"
                                },
                                {
                                    "0": "49",
                                    "1": "The Winter of Our Discontent"
                                },
                                {
                                    "0": "49",
                                    "1": "How to Be Good"
                                },
                                {
                                    "0": "49",
                                    "1": "The Call of the Wild"
                                },
                                {
                                    "0": "48",
                                    "1": "Timeline"
                                },
                                {
                                    "0": "48",
                                    "1": "The Cement Garden"
                                },
                                {
                                    "0": "48",
                                    "1": "Icy Sparks"
                                },
                                {
                                    "0": "48",
                                    "1": "Mornings on Horseback"
                                },
                                {
                                    "0": "48",
                                    "1": "A Walk in the Woods"
                                },
                                {
                                    "0": "48",
                                    "1": "The Great Gatsby"
                                },
                                {
                                    "0": "48",
                                    "1": "Outcast of Redwall (Redwall, #8)"
                                },
                                {
                                    "0": "48",
                                    "1": "The Ground Beneath Her Feet"
                                },
                                {
                                    "0": "48",
                                    "1": "Twelfth Night"
                                },
                                {
                                    "0": "48",
                                    "1": "Travels with Charley: In Search of America"
                                },
                                {
                                    "0": "48",
                                    "1": "Life of Pi"
                                },
                                {
                                    "0": "47",
                                    "1": "Black and Blue"
                                },
                                {
                                    "0": "47",
                                    "1": "The Doors of Perception & Heaven and Hell"
                                },
                                {
                                    "0": "47",
                                    "1": "The Poisonwood Bible"
                                },
                                {
                                    "0": "47",
                                    "1": "Unfinished Tales of Númenor and Middle-Earth"
                                },
                                {
                                    "0": "47",
                                    "1": "The Good Soldier"
                                },
                                {
                                    "0": "47",
                                    "1": "Gates of Fire: An Epic Novel of the Battle of Thermopylae"
                                },
                                {
                                    "0": "47",
                                    "1": "The Andromeda Strain"
                                },
                                {
                                    "0": "47",
                                    "1": "The Witches"
                                },
                                {
                                    "0": "46",
                                    "1": "A Heartbreaking Work of Staggering Genius"
                                },
                                {
                                    "0": "46",
                                    "1": "Brokeback Mountain"
                                },
                                {
                                    "0": "46",
                                    "1": "Motor Mouth (Alex Barnaby #2)"
                                },
                                {
                                    "0": "46",
                                    "1": "A Brief History of Time"
                                },
                                {
                                    "0": "45",
                                    "1": "Confessions of an Economic Hit Man"
                                },
                                {
                                    "0": "45",
                                    "1": "The Pragmatic Programmer: From Journeyman to Master"
                                },
                                {
                                    "0": "45",
                                    "1": "In Search of Excellence: Lessons from America's Best-Run Companies"
                                },
                                {
                                    "0": "45",
                                    "1": "Women in Love (Brangwen Family, #2)"
                                },
                                {
                                    "0": "45",
                                    "1": "A Walk to Remember"
                                },
                                {
                                    "0": "45",
                                    "1": "The Devil Wears Prada (The Devil Wears Prada, #1)"
                                },
                                {
                                    "0": "44",
                                    "1": "Wizard and Glass (The Dark Tower, #4)"
                                },
                                {
                                    "0": "44",
                                    "1": "The Thorn Birds"
                                },
                                {
                                    "0": "44",
                                    "1": "The Time Machine"
                                },
                                {
                                    "0": "44",
                                    "1": "Skinny Legs and All"
                                },
                                {
                                    "0": "44",
                                    "1": "Who Moved My Cheese?"
                                },
                                {
                                    "0": "44",
                                    "1": "The Terminal Man"
                                },
                                {
                                    "0": "44",
                                    "1": "A Supposedly Fun Thing I'll Never Do Again:  Essays and Arguments"
                                },
                                {
                                    "0": "44",
                                    "1": "The First World War"
                                },
                                {
                                    "0": "44",
                                    "1": "About a Boy"
                                },
                                {
                                    "0": "44",
                                    "1": "Paris to the Moon"
                                },
                                {
                                    "0": "43",
                                    "1": "The Prophet"
                                },
                                {
                                    "0": "43",
                                    "1": "The Catcher in the Rye"
                                },
                                {
                                    "0": "43",
                                    "1": "The Oedipus Cycle: Oedipus Rex/Oedipus at Colonus/Antigone (The Theban Plays, #1–3)"
                                },
                                {
                                    "0": "43",
                                    "1": "Invisible Cities"
                                },
                                {
                                    "0": "43",
                                    "1": "The Great Train Robbery"
                                },
                                {
                                    "0": "43",
                                    "1": "The Big Sleep (Philip Marlowe, #1)"
                                },
                                {
                                    "0": "43",
                                    "1": "La Dame aux Camélias"
                                },
                                {
                                    "0": "43",
                                    "1": "Holidays on Ice"
                                },
                                {
                                    "0": "43",
                                    "1": "The Magic Finger (Young Puffin Developing Reader)"
                                },
                                {
                                    "0": "43",
                                    "1": "The 158-Pound Marriage"
                                },
                                {
                                    "0": "43",
                                    "1": "Tara Road"
                                },
                                {
                                    "0": "42",
                                    "1": "Persepolis, Volume 1"
                                },
                                {
                                    "0": "42",
                                    "1": "Papillon"
                                },
                                {
                                    "0": "42",
                                    "1": "All-of-a-Kind Family (All-of-a-Kind Family, #1)"
                                },
                                {
                                    "0": "42",
                                    "1": "One for the Money (Stephanie Plum, #1)"
                                },
                                {
                                    "0": "42",
                                    "1": "Anne Frank Remembered: The Story of the Woman Who Helped to Hide the Frank Family"
                                },
                                {
                                    "0": "42",
                                    "1": "Barrel Fever: Stories and Essays"
                                },
                                {
                                    "0": "41",
                                    "1": "The Woman in White"
                                },
                                {
                                    "0": "41",
                                    "1": "Shopaholic Takes Manhattan (Shopaholic, #2)"
                                },
                                {
                                    "0": "41",
                                    "1": "Waiting for the Barbarians"
                                },
                                {
                                    "0": "41",
                                    "1": "A Christmas Carol and Other Christmas Writings"
                                },
                                {
                                    "0": "41",
                                    "1": "Maximum City: Bombay Lost and Found"
                                },
                                {
                                    "0": "41",
                                    "1": "Girlfriend in a Coma"
                                },
                                {
                                    "0": "41",
                                    "1": "Twelve Sharp (Stephanie Plum, #12)"
                                },
                                {
                                    "0": "40",
                                    "1": "A Prayer for Owen Meany"
                                },
                                {
                                    "0": "40",
                                    "1": "Disgrace"
                                },
                                {
                                    "0": "40",
                                    "1": "Marina"
                                },
                                {
                                    "0": "40",
                                    "1": "Anne Frank: Beyond the Diary - A Photographic Remembrance"
                                },
                                {
                                    "0": "40",
                                    "1": "Fever Pitch"
                                },
                                {
                                    "0": "40",
                                    "1": "Seven Up (Stephanie Plum, #7)"
                                },
                                {
                                    "0": "40",
                                    "1": "The Last Juror"
                                },
                                {
                                    "0": "39",
                                    "1": "Little House in the Big Woods (Little House, #1)"
                                },
                                {
                                    "0": "39",
                                    "1": "Fantastic Mr. Fox"
                                },
                                {
                                    "0": "39",
                                    "1": "Breath, Eyes, Memory"
                                },
                                {
                                    "0": "39",
                                    "1": "The Pearl"
                                },
                                {
                                    "0": "39",
                                    "1": "Complete Works of Oscar Wilde"
                                },
                                {
                                    "0": "38",
                                    "1": "Anne of Green Gables (Anne of Green Gables, #1)"
                                },
                                {
                                    "0": "38",
                                    "1": "Shopaholic Ties the Knot (Shopaholic, #3)"
                                },
                                {
                                    "0": "38",
                                    "1": "Tuesdays with Morrie"
                                },
                                {
                                    "0": "38",
                                    "1": "A People's History of the United States"
                                },
                                {
                                    "0": "38",
                                    "1": "Animal Farm / 1984"
                                },
                                {
                                    "0": "38",
                                    "1": "Howl's Moving Castle (Howl's Moving Castle, #1)"
                                },
                                {
                                    "0": "37",
                                    "1": "Generation X: Tales for an Accelerated Culture"
                                },
                                {
                                    "0": "37",
                                    "1": "Cradle to Cradle: Remaking the Way We Make Things"
                                },
                                {
                                    "0": "37",
                                    "1": "The Long Goodbye (Philip Marlowe, #6)"
                                },
                                {
                                    "0": "37",
                                    "1": "The Pillars of Creation (Sword of Truth, #7)"
                                },
                                {
                                    "0": "37",
                                    "1": "V."
                                },
                                {
                                    "0": "37",
                                    "1": "Open House"
                                },
                                {
                                    "0": "37",
                                    "1": "Olivia Joules and the Overactive Imagination"
                                },
                                {
                                    "0": "37",
                                    "1": "Dragonfly in Amber (Outlander, #2)"
                                },
                                {
                                    "0": "36",
                                    "1": "The People of Sparks (Book of Ember, #2)"
                                },
                                {
                                    "0": "36",
                                    "1": "QED: The Strange Theory of Light and Matter"
                                },
                                {
                                    "0": "36",
                                    "1": "Code to Zero"
                                },
                                {
                                    "0": "36",
                                    "1": "Moo, Baa, La La La!"
                                },
                                {
                                    "0": "36",
                                    "1": "Islands in the Stream"
                                },
                                {
                                    "0": "36",
                                    "1": "The Legend of Luke (Redwall, #12)"
                                },
                                {
                                    "0": "36",
                                    "1": "Antigone (The Theban Plays, #3)"
                                },
                                {
                                    "0": "36",
                                    "1": "A Woman of Substance (Emma Harte Saga #1)"
                                },
                                {
                                    "0": "36",
                                    "1": "First They Killed My Father: A Daughter of Cambodia Remembers"
                                },
                                {
                                    "0": "35",
                                    "1": "Moloka'i"
                                },
                                {
                                    "0": "35",
                                    "1": "From Russia With Love (James Bond, #5)"
                                },
                                {
                                    "0": "35",
                                    "1": "Bleachers"
                                },
                                {
                                    "0": "35",
                                    "1": "All Families are Psychotic"
                                },
                                {
                                    "0": "35",
                                    "1": "The Stories of Eva Luna"
                                },
                                {
                                    "0": "35",
                                    "1": "Fight Club"
                                },
                                {
                                    "0": "35",
                                    "1": "Darwin's Dangerous Idea: Evolution and the Meanings of Life"
                                },
                                {
                                    "0": "35",
                                    "1": "Last Orders"
                                },
                                {
                                    "0": "34",
                                    "1": "Message in a Bottle"
                                },
                                {
                                    "0": "34",
                                    "1": "A Bend in the Road"
                                },
                                {
                                    "0": "34",
                                    "1": "Macbeth"
                                },
                                {
                                    "0": "34",
                                    "1": "Postmortem (Kay Scarpetta, #1)"
                                },
                                {
                                    "0": "34",
                                    "1": "Shadows of the Empire (Star Wars)"
                                },
                                {
                                    "0": "34",
                                    "1": "Boy: Tales of Childhood"
                                },
                                {
                                    "0": "33",
                                    "1": "Midwives"
                                },
                                {
                                    "0": "33",
                                    "1": "Speaker for the Dead (Ender's Saga, #2)"
                                },
                                {
                                    "0": "33",
                                    "1": "Ethan Frome"
                                },
                                {
                                    "0": "33",
                                    "1": "Sir Gawain and the Green Knight "
                                },
                                {
                                    "0": "33",
                                    "1": "Breakfast of Champions"
                                },
                                {
                                    "0": "33",
                                    "1": "You Shall Know Our Velocity!"
                                },
                                {
                                    "0": "33",
                                    "1": "God Bless You, Mr. Rosewater"
                                },
                                {
                                    "0": "33",
                                    "1": "Prophet"
                                },
                                {
                                    "0": "33",
                                    "1": "'Tis (Frank McCourt, #2)"
                                },
                                {
                                    "0": "33",
                                    "1": "'Salem's Lot"
                                },
                                {
                                    "0": "33",
                                    "1": "The Old Man and the Sea"
                                },
                                {
                                    "0": "32",
                                    "1": "Trials of Death (Cirque Du Freak, #5)"
                                },
                                {
                                    "0": "32",
                                    "1": "Night Over Water"
                                },
                                {
                                    "0": "32",
                                    "1": "Four Blondes"
                                },
                                {
                                    "0": "32",
                                    "1": "Amsterdam"
                                },
                                {
                                    "0": "32",
                                    "1": "Four to Score (Stephanie Plum, #4)"
                                },
                                {
                                    "0": "32",
                                    "1": "Mayflower: A Story of Courage, Community, and War"
                                },
                                {
                                    "0": "32",
                                    "1": "The Giver (The Giver, #1)"
                                },
                                {
                                    "0": "32",
                                    "1": "The Drama of the Gifted Child: The Search for the True Self"
                                },
                                {
                                    "0": "32",
                                    "1": "The Burden of Proof"
                                },
                                {
                                    "0": "32",
                                    "1": "Cane River"
                                },
                                {
                                    "0": "31",
                                    "1": "Holy Cow: An Indian Adventure"
                                },
                                {
                                    "0": "31",
                                    "1": "How to Make Love Like a Porn Star: A Cautionary Tale"
                                },
                                {
                                    "0": "31",
                                    "1": "The Broom of the System"
                                },
                                {
                                    "0": "31",
                                    "1": "Howl and Other Poems"
                                },
                                {
                                    "0": "31",
                                    "1": "The Great Book of Amber (The Chronicles of Amber, #1-10)"
                                },
                                {
                                    "0": "30",
                                    "1": "Franny and Zooey"
                                },
                                {
                                    "0": "30",
                                    "1": "The Secret Garden"
                                },
                                {
                                    "0": "30",
                                    "1": "Naked"
                                },
                                {
                                    "0": "30",
                                    "1": "A Bend in the River"
                                },
                                {
                                    "0": "30",
                                    "1": "Jack: Straight from the Gut"
                                },
                                {
                                    "0": "30",
                                    "1": "The Millionaire Next Door: The Surprising Secrets of Americas Wealthy"
                                },
                                {
                                    "0": "30",
                                    "1": "Path of the Assassin (Scot Harvath, #2)"
                                },
                                {
                                    "0": "30",
                                    "1": "The Year of Magical Thinking"
                                },
                                {
                                    "0": "29",
                                    "1": "Rising Sun"
                                },
                                {
                                    "0": "29",
                                    "1": "Casino Royale (James Bond, #1)"
                                },
                                {
                                    "0": "29",
                                    "1": "By the River Piedra I Sat Down and Wept"
                                },
                                {
                                    "0": "29",
                                    "1": "The Unbearable Lightness of Being"
                                },
                                {
                                    "0": "29",
                                    "1": "Jackdaws"
                                },
                                {
                                    "0": "29",
                                    "1": "John Adams"
                                },
                                {
                                    "0": "29",
                                    "1": "Jurassic Park (Jurassic Park, #1)"
                                },
                                {
                                    "0": "29",
                                    "1": "To Have and Have Not"
                                },
                                {
                                    "0": "29",
                                    "1": "Unlimited Power : The New Science Of Personal Achievement"
                                },
                                {
                                    "0": "29",
                                    "1": "Another Roadside Attraction"
                                },
                                {
                                    "0": "29",
                                    "1": "A Modest Proposal and Other Satirical Works"
                                },
                                {
                                    "0": "29",
                                    "1": "Forever in Blue: The Fourth Summer of the Sisterhood (Sisterhood, #4)"
                                },
                                {
                                    "0": "29",
                                    "1": "Naked Lunch"
                                },
                                {
                                    "0": "29",
                                    "1": "The Secret Art of Dr. Seuss"
                                },
                                {
                                    "0": "29",
                                    "1": "Fried Green Tomatoes at the Whistle Stop Cafe"
                                },
                                {
                                    "0": "28",
                                    "1": "The King of Torts"
                                },
                                {
                                    "0": "28",
                                    "1": "The Big Bad Wolf  (Alex Cross, #9)"
                                },
                                {
                                    "0": "28",
                                    "1": "The Giraffe and the Pelly and Me"
                                },
                                {
                                    "0": "28",
                                    "1": "Killers of the Dawn (Cirque Du Freak, #9)"
                                },
                                {
                                    "0": "28",
                                    "1": "Life and Times of Michael K"
                                },
                                {
                                    "0": "28",
                                    "1": "Practicing the Power of Now: Essential Teachings, Meditations, and Exercises from the Power of Now"
                                },
                                {
                                    "0": "28",
                                    "1": "Marlfox (Redwall, #11)"
                                },
                                {
                                    "0": "28",
                                    "1": "Saturday"
                                },
                                {
                                    "0": "28",
                                    "1": "Reading Lolita in Tehran"
                                },
                                {
                                    "0": "28",
                                    "1": "The Pillars of the Earth (The Kingsbridge Series, #1)"
                                },
                                {
                                    "0": "27",
                                    "1": "East of Eden"
                                },
                                {
                                    "0": "27",
                                    "1": "The Jane Austen Book Club"
                                },
                                {
                                    "0": "27",
                                    "1": "Cry, the Beloved Country"
                                },
                                {
                                    "0": "27",
                                    "1": "Them: Adventures with Extremists"
                                },
                                {
                                    "0": "27",
                                    "1": "Lucy Sullivan Is Getting Married"
                                },
                                {
                                    "0": "27",
                                    "1": "Pygmalion"
                                },
                                {
                                    "0": "27",
                                    "1": "Three to Get Deadly (Stephanie Plum, #3)"
                                },
                                {
                                    "0": "27",
                                    "1": "Crow Lake"
                                },
                                {
                                    "0": "27",
                                    "1": "Twenty Years After (The D'Artagnan Romances, #2)"
                                },
                                {
                                    "0": "26",
                                    "1": "A Son of the Circus"
                                },
                                {
                                    "0": "26",
                                    "1": "The Man Who Listens to Horses"
                                },
                                {
                                    "0": "26",
                                    "1": "Dr. Seuss's ABC: An Amazing Alphabet Book! (Bright and Early Board Books)"
                                },
                                {
                                    "0": "26",
                                    "1": "The Language Instinct: How the Mind Creates Language"
                                },
                                {
                                    "0": "26",
                                    "1": "1984"
                                },
                                {
                                    "0": "26",
                                    "1": "Dispatches"
                                },
                                {
                                    "0": "26",
                                    "1": "number9dream"
                                },
                                {
                                    "0": "26",
                                    "1": "Blindness"
                                },
                                {
                                    "0": "26",
                                    "1": "Genome: the Autobiography of a Species in 23 Chapters"
                                },
                                {
                                    "0": "26",
                                    "1": "Brave New World"
                                },
                                {
                                    "0": "26",
                                    "1": "Danny the Champion of the World"
                                },
                                {
                                    "0": "25",
                                    "1": "Endymion (Hyperion Cantos, #3)"
                                },
                                {
                                    "0": "25",
                                    "1": "Lord of the Shadows (Cirque Du Freak, #11)"
                                },
                                {
                                    "0": "25",
                                    "1": "The House of the Spirits"
                                },
                                {
                                    "0": "25",
                                    "1": "The Good Husband of Zebra Drive (No. 1 Ladies' Detective Agency, #8)"
                                },
                                {
                                    "0": "25",
                                    "1": "From Potter's Field (Kay Scarpetta, #6)"
                                },
                                {
                                    "0": "25",
                                    "1": "Peter and the Shadow Thieves (Peter and the Starcatchers, #2)"
                                },
                                {
                                    "0": "25",
                                    "1": "Tears of the Giraffe (No. 1 Ladies' Detective Agency, #2)"
                                },
                                {
                                    "0": "25",
                                    "1": "The Vampire Prince (Cirque Du Freak, #6)"
                                },
                                {
                                    "0": "25",
                                    "1": "Microserfs"
                                },
                                {
                                    "0": "24",
                                    "1": "The Four Agreements: A Practical Guide to Personal Freedom"
                                },
                                {
                                    "0": "24",
                                    "1": "Cause of Death (Kay Scarpetta, #7)"
                                },
                                {
                                    "0": "24",
                                    "1": "Enchantment"
                                },
                                {
                                    "0": "24",
                                    "1": "Rainbow Six (Jack Ryan Universe, #10)"
                                },
                                {
                                    "0": "24",
                                    "1": "Goldfinger (James Bond, #7)"
                                },
                                {
                                    "0": "24",
                                    "1": "The Universe in a Nutshell"
                                },
                                {
                                    "0": "24",
                                    "1": "The Android's Dream"
                                },
                                {
                                    "0": "24",
                                    "1": "Dear John"
                                },
                                {
                                    "0": "24",
                                    "1": "Three Men in a Boat (Three Men, #1)"
                                },
                                {
                                    "0": "24",
                                    "1": "I Feel Bad about My Neck: And Other Thoughts on Being a Woman"
                                },
                                {
                                    "0": "23",
                                    "1": "The Men Who Stare at Goats"
                                },
                                {
                                    "0": "23",
                                    "1": "The Very Hungry Caterpillar Board Book"
                                },
                                {
                                    "0": "23",
                                    "1": "Airframe"
                                },
                                {
                                    "0": "23",
                                    "1": "The Drawing of the Three (The Dark Tower, #2)"
                                },
                                {
                                    "0": "23",
                                    "1": "Extremely Loud and Incredibly Close"
                                },
                                {
                                    "0": "23",
                                    "1": "Eiger Dreams: Ventures Among Men and Mountains"
                                },
                                {
                                    "0": "23",
                                    "1": "Mother Night"
                                },
                                {
                                    "0": "23",
                                    "1": "Reservation Blues"
                                },
                                {
                                    "0": "23",
                                    "1": "The Red Tent"
                                },
                                {
                                    "0": "23",
                                    "1": "Messenger of Truth (Maisie Dobbs, #4)"
                                },
                                {
                                    "0": "23",
                                    "1": "Farewell, My Lovely (Philip Marlowe, #2)"
                                },
                                {
                                    "0": "23",
                                    "1": "The Bourne Identity (Jason Bourne, #1)"
                                },
                                {
                                    "0": "22",
                                    "1": "Saving Fish from Drowning"
                                },
                                {
                                    "0": "22",
                                    "1": "The Idiot Girls' Action-Adventure Club: True Tales from a Magnificent and Clumsy Life"
                                },
                                {
                                    "0": "22",
                                    "1": "Enduring Love"
                                },
                                {
                                    "0": "22",
                                    "1": "The Fourth Hand"
                                },
                                {
                                    "0": "22",
                                    "1": "Hard Times"
                                },
                                {
                                    "0": "22",
                                    "1": "God Bless You, Dr. Kevorkian"
                                },
                                {
                                    "0": "22",
                                    "1": "A Fine Balance"
                                },
                                {
                                    "0": "22",
                                    "1": "Blue Like Jazz: Nonreligious Thoughts on Christian Spirituality"
                                },
                                {
                                    "0": "22",
                                    "1": "The Emperor's Children"
                                },
                                {
                                    "0": "22",
                                    "1": "Crime and Punishment"
                                },
                                {
                                    "0": "22",
                                    "1": "The Adventures of Huckleberry Finn"
                                },
                                {
                                    "0": "22",
                                    "1": "A Portrait of the Artist as a Young Man"
                                },
                                {
                                    "0": "22",
                                    "1": "Farmer Boy (Little House, #3)"
                                },
                                {
                                    "0": "22",
                                    "1": "The Chamber"
                                },
                                {
                                    "0": "21",
                                    "1": "The Silmarillion (Middle-Earth Universe)"
                                },
                                {
                                    "0": "21",
                                    "1": "Trace (Kay Scarpetta, #13)"
                                },
                                {
                                    "0": "21",
                                    "1": "Regeneration (Regeneration, #1)"
                                },
                                {
                                    "0": "21",
                                    "1": "The Elephant Vanishes"
                                },
                                {
                                    "0": "21",
                                    "1": "Cover Her Face (Adam Dalgliesh #1)"
                                },
                                {
                                    "0": "21",
                                    "1": "The Sea"
                                },
                                {
                                    "0": "21",
                                    "1": "Ten Apples Up On Top!"
                                },
                                {
                                    "0": "21",
                                    "1": "City of the Beasts (Eagle and Jaguar, #1)"
                                },
                                {
                                    "0": "21",
                                    "1": "Moonraker (James Bond, #3)"
                                },
                                {
                                    "0": "21",
                                    "1": "The Other Side of the Story"
                                },
                                {
                                    "0": "21",
                                    "1": "The BFG"
                                },
                                {
                                    "0": "21",
                                    "1": "The History of Sexuality, Volume 1: An Introduction"
                                },
                                {
                                    "0": "21",
                                    "1": "Ivanhoe"
                                },
                                {
                                    "0": "21",
                                    "1": "Eats, Shoots & Leaves: The Zero Tolerance Approach to Punctuation"
                                },
                                {
                                    "0": "21",
                                    "1": "Comfort Me with Apples: More Adventures at the Table"
                                },
                                {
                                    "0": "21",
                                    "1": "The No. 1 Ladies' Detective Agency  (No. 1 Ladies' Detective Agency, #1)"
                                },
                                {
                                    "0": "21",
                                    "1": "Confessions of a Shopaholic (Shopaholic, #1)"
                                },
                                {
                                    "0": "21",
                                    "1": "Three Weeks With My Brother"
                                },
                                {
                                    "0": "21",
                                    "1": "On Beauty"
                                },
                                {
                                    "0": "21",
                                    "1": "Olympos (Ilium, #2)"
                                },
                                {
                                    "0": "21",
                                    "1": "The Joy Luck Club"
                                },
                                {
                                    "0": "20",
                                    "1": "Little Town on the Prairie  (Little House, #7)"
                                },
                                {
                                    "0": "20",
                                    "1": "The Water-Method Man"
                                },
                                {
                                    "0": "20",
                                    "1": "Atonement"
                                },
                                {
                                    "0": "20",
                                    "1": "Drowning Ruth"
                                },
                                {
                                    "0": "20",
                                    "1": "Witches Abroad (Discworld, #12; Witches #3)"
                                },
                                {
                                    "0": "20",
                                    "1": "Gulliver's Travels"
                                },
                                {
                                    "0": "20",
                                    "1": "Shadow of the Giant (Ender's Shadow, #4)"
                                },
                                {
                                    "0": "20",
                                    "1": "The Five People You Meet in Heaven"
                                },
                                {
                                    "0": "20",
                                    "1": "Sickened: The Memoir of a Munchausen by Proxy Childhood"
                                },
                                {
                                    "0": "20",
                                    "1": "Allies of the Night (Cirque du Freak, #8)"
                                },
                                {
                                    "0": "20",
                                    "1": "The End of Poverty"
                                },
                                {
                                    "0": "20",
                                    "1": "Visions of Sugar Plums (Stephanie Plum, #8.5)"
                                },
                                {
                                    "0": "19",
                                    "1": "The Kalahari Typing School for Men (No. 1 Ladies' Detective Agency, #4)"
                                },
                                {
                                    "0": "19",
                                    "1": "Nine Stories"
                                },
                                {
                                    "0": "19",
                                    "1": "The Cat in the Hat and Other Dr. Seuss Favorites"
                                },
                                {
                                    "0": "19",
                                    "1": "Pardonable Lies (Maisie Dobbs, #3)"
                                },
                                {
                                    "0": "19",
                                    "1": "The Bonfire of the Vanities"
                                },
                                {
                                    "0": "19",
                                    "1": "The High Window (Philip Marlowe, #3)"
                                },
                                {
                                    "0": "19",
                                    "1": "Infinite Jest"
                                },
                                {
                                    "0": "19",
                                    "1": "Plum Lovin' (Stephanie Plum, #12.5)"
                                },
                                {
                                    "0": "19",
                                    "1": "Point of Origin (Kay Scarpetta, #9)"
                                },
                                {
                                    "0": "19",
                                    "1": "The Big Over Easy (Nursery Crime, #1)"
                                },
                                {
                                    "0": "19",
                                    "1": "Men Are from Mars, Women Are from Venus"
                                },
                                {
                                    "0": "19",
                                    "1": "Bridge to Terabithia"
                                },
                                {
                                    "0": "19",
                                    "1": "A Raisin in the Sun"
                                },
                                {
                                    "0": "18",
                                    "1": "Carrie / 'Salem's Lot / The Shining"
                                },
                                {
                                    "0": "18",
                                    "1": "The Body Farm (Kay Scarpetta, #5)"
                                },
                                {
                                    "0": "18",
                                    "1": "The Beautiful and Damned"
                                },
                                {
                                    "0": "18",
                                    "1": "Keep the Aspidistra Flying"
                                },
                                {
                                    "0": "18",
                                    "1": "Brave New World Revisited "
                                },
                                {
                                    "0": "18",
                                    "1": "The Mermaid Chair"
                                },
                                {
                                    "0": "18",
                                    "1": "Execution: The Discipline of Getting Things Done"
                                },
                                {
                                    "0": "18",
                                    "1": "Girls in Pants: The Third Summer of the Sisterhood (Sisterhood, #3)"
                                },
                                {
                                    "0": "18",
                                    "1": "The Wind in the Willows"
                                },
                                {
                                    "0": "18",
                                    "1": "Shopaholic & Baby (Shopaholic, #5)"
                                },
                                {
                                    "0": "18",
                                    "1": "Glamorama"
                                },
                                {
                                    "0": "18",
                                    "1": "While I Was Gone"
                                },
                                {
                                    "0": "18",
                                    "1": "Cloudy With a Chance of Meatballs"
                                },
                                {
                                    "0": "18",
                                    "1": "Mother of Pearl"
                                },
                                {
                                    "0": "18",
                                    "1": "A Living Nightmare (Cirque Du Freak, #1)"
                                },
                                {
                                    "0": "18",
                                    "1": "Bagombo Snuff Box"
                                },
                                {
                                    "0": "17",
                                    "1": "V for Vendetta"
                                },
                                {
                                    "0": "17",
                                    "1": "Welcome to the Monkey House"
                                },
                                {
                                    "0": "17",
                                    "1": "Fall on Your Knees"
                                },
                                {
                                    "0": "17",
                                    "1": "Persepolis 2: The Story of a Return (Persepolis, #2)"
                                },
                                {
                                    "0": "17",
                                    "1": "The Glass Castle"
                                },
                                {
                                    "0": "17",
                                    "1": "Disclosure"
                                },
                                {
                                    "0": "17",
                                    "1": "Survival in Auschwitz"
                                },
                                {
                                    "0": "17",
                                    "1": "Last Chance to See"
                                },
                                {
                                    "0": "17",
                                    "1": "Suzanne's Diary for Nicholas"
                                },
                                {
                                    "0": "17",
                                    "1": "Animal Farm"
                                },
                                {
                                    "0": "16",
                                    "1": "The Metamorphosis and Other Stories"
                                },
                                {
                                    "0": "16",
                                    "1": "1421: The Year China Discovered America"
                                },
                                {
                                    "0": "16",
                                    "1": "Even Cowgirls Get the Blues"
                                },
                                {
                                    "0": "16",
                                    "1": "The Sun Also Rises"
                                },
                                {
                                    "0": "16",
                                    "1": "The Lake of Souls (Cirque Du Freak, #10)"
                                },
                                {
                                    "0": "16",
                                    "1": "The Informers"
                                },
                                {
                                    "0": "16",
                                    "1": "The Electric Kool-Aid Acid Test"
                                },
                                {
                                    "0": "16",
                                    "1": "Song of Susannah (The Dark Tower, #6)"
                                },
                                {
                                    "0": "16",
                                    "1": "World Without End (The Kingsbridge Series, #2)"
                                },
                                {
                                    "0": "16",
                                    "1": "Less Than Zero"
                                },
                                {
                                    "0": "16",
                                    "1": "The Red Pony"
                                },
                                {
                                    "0": "15",
                                    "1": "Player Piano"
                                },
                                {
                                    "0": "15",
                                    "1": "The Terror"
                                },
                                {
                                    "0": "15",
                                    "1": "By the Shores of Silver Lake  (Little House, #5)"
                                },
                                {
                                    "0": "15",
                                    "1": "Fear and Loathing on the Campaign Trail '72"
                                },
                                {
                                    "0": "15",
                                    "1": "Lord of the Flies"
                                },
                                {
                                    "0": "15",
                                    "1": "Don Quixote"
                                },
                                {
                                    "0": "15",
                                    "1": "Hocus Pocus"
                                },
                                {
                                    "0": "15",
                                    "1": "Dreamland"
                                },
                                {
                                    "0": "15",
                                    "1": "The Cider House Rules"
                                },
                                {
                                    "0": "15",
                                    "1": "The Poetry of Pablo Neruda"
                                },
                                {
                                    "0": "15",
                                    "1": "A Spot of Bother"
                                },
                                {
                                    "0": "15",
                                    "1": "Emma"
                                },
                                {
                                    "0": "15",
                                    "1": "Jewel"
                                },
                                {
                                    "0": "15",
                                    "1": "Jesus Freaks: Stories of Those Who Stood for Jesus, the Ultimate Jesus Freaks (Jesus Freaks, #1)"
                                },
                                {
                                    "0": "15",
                                    "1": "Five Little Peppers and How They Grew"
                                },
                                {
                                    "0": "14",
                                    "1": "Fear of Flying"
                                },
                                {
                                    "0": "14",
                                    "1": "Homage to Catalonia"
                                },
                                {
                                    "0": "14",
                                    "1": "Teacher Man (Frank McCourt, #3)"
                                },
                                {
                                    "0": "14",
                                    "1": "The Rules of Attraction"
                                },
                                {
                                    "0": "14",
                                    "1": "World War Z: An Oral History of the Zombie War"
                                },
                                {
                                    "0": "14",
                                    "1": "Diamonds Are Forever (James Bond, #4)"
                                },
                                {
                                    "0": "14",
                                    "1": "Where the Heart Is"
                                },
                                {
                                    "0": "14",
                                    "1": "In the Skin of a Lion"
                                },
                                {
                                    "0": "14",
                                    "1": "Oblivion"
                                },
                                {
                                    "0": "14",
                                    "1": "The Shipping News"
                                },
                                {
                                    "0": "14",
                                    "1": "In the Company of Cheerful Ladies (No. 1 Ladies' Detective Agency, #6)"
                                },
                                {
                                    "0": "14",
                                    "1": "The Long Patrol (Redwall, #10)"
                                },
                                {
                                    "0": "14",
                                    "1": "We Were the Mulvaneys"
                                },
                                {
                                    "0": "14",
                                    "1": "The Lost World (Jurassic Park, #2)"
                                },
                                {
                                    "0": "14",
                                    "1": "The Moonstone"
                                },
                                {
                                    "0": "14",
                                    "1": "Watermelon (Walsh Family, #1)"
                                },
                                {
                                    "0": "13",
                                    "1": "Bluebeard"
                                },
                                {
                                    "0": "13",
                                    "1": "What Do You Care What Other People Think?"
                                },
                                {
                                    "0": "13",
                                    "1": "Rose Daughter"
                                },
                                {
                                    "0": "12",
                                    "1": "Life, the Universe and Everything (Hitchhiker's Guide, #3)"
                                },
                                {
                                    "0": "12",
                                    "1": "Emily of New Moon (Emily, #1)"
                                },
                                {
                                    "0": "12",
                                    "1": "Two for the Dough (Stephanie Plum, #2)"
                                },
                                {
                                    "0": "12",
                                    "1": "Ender's Shadow (Ender's Shadow, #1)"
                                },
                                {
                                    "0": "12",
                                    "1": "Crossing to Safety"
                                },
                                {
                                    "0": "12",
                                    "1": "Rachel's Holiday (Walsh Family, #2)"
                                },
                                {
                                    "0": "12",
                                    "1": "Raise High the Roof Beam, Carpenters & Seymour: An Introduction"
                                },
                                {
                                    "0": "12",
                                    "1": "Redwall (Redwall, #1)"
                                },
                                {
                                    "0": "12",
                                    "1": "Salamandastron (Redwall, #5)"
                                },
                                {
                                    "0": "12",
                                    "1": "Book of the Dead (Kay Scarpetta, #15)"
                                },
                                {
                                    "0": "12",
                                    "1": "The Sirens of Titan"
                                },
                                {
                                    "0": "12",
                                    "1": "How to Stop Worrying and Start Living"
                                },
                                {
                                    "0": "12",
                                    "1": "Hot Six (Stephanie Plum, #6)"
                                },
                                {
                                    "0": "12",
                                    "1": "The Audacity of Hope: Thoughts on Reclaiming the American Dream"
                                },
                                {
                                    "0": "12",
                                    "1": "Year of Wonders"
                                },
                                {
                                    "0": "12",
                                    "1": "The Long Walk"
                                },
                                {
                                    "0": "11",
                                    "1": "Consider the Lobster and Other Essays"
                                },
                                {
                                    "0": "11",
                                    "1": "Phenomenology of Spirit"
                                },
                                {
                                    "0": "11",
                                    "1": "Demons"
                                },
                                {
                                    "0": "11",
                                    "1": "Birdsong"
                                },
                                {
                                    "0": "11",
                                    "1": "The Baron in the Trees"
                                },
                                {
                                    "0": "11",
                                    "1": "A Map of the World"
                                },
                                {
                                    "0": "11",
                                    "1": "Jitterbug Perfume"
                                },
                                {
                                    "0": "11",
                                    "1": "The Hound of the Baskervilles"
                                },
                                {
                                    "0": "10",
                                    "1": "What Is the What"
                                },
                                {
                                    "0": "10",
                                    "1": "On the Banks of Plum Creek  (Little House, #4)"
                                },
                                {
                                    "0": "10",
                                    "1": "Bleach, Volume 15"
                                },
                                {
                                    "0": "10",
                                    "1": "The Blank Slate: The Modern Denial of Human Nature"
                                },
                                {
                                    "0": "10",
                                    "1": "As the Crow Flies"
                                },
                                {
                                    "0": "10",
                                    "1": "The Client"
                                },
                                {
                                    "0": "10",
                                    "1": "Going Solo"
                                },
                                {
                                    "0": "9",
                                    "1": "James and the Giant Peach"
                                },
                                {
                                    "0": "9",
                                    "1": "Here on Earth"
                                },
                                {
                                    "0": "9",
                                    "1": "Desert Flower"
                                },
                                {
                                    "0": "9",
                                    "1": "The Vampire's Assistant (Cirque Du Freak, #2)"
                                },
                                {
                                    "0": "9",
                                    "1": "Red Prophet (Tales of Alvin Maker, #2)"
                                },
                                {
                                    "0": "9",
                                    "1": "Slapstick, or Lonesome No More!"
                                },
                                {
                                    "0": "9",
                                    "1": "Songbook"
                                },
                                {
                                    "0": "9",
                                    "1": "Bleach, Volume 01"
                                },
                                {
                                    "0": "9",
                                    "1": "Betsy-Tacy (Betsy-Tacy, #1)"
                                },
                                {
                                    "0": "9",
                                    "1": "Assassination Vacation"
                                },
                                {
                                    "0": "9",
                                    "1": "Wuthering Heights"
                                },
                                {
                                    "0": "9",
                                    "1": "The Moor's Last Sigh"
                                },
                                {
                                    "0": "8",
                                    "1": "Vanity Fair"
                                },
                                {
                                    "0": "8",
                                    "1": "Deception Point"
                                },
                                {
                                    "0": "8",
                                    "1": "Darkness"
                                },
                                {
                                    "0": "8",
                                    "1": "Awakening the Buddha Within: Tibetan Wisdom for the Western World"
                                },
                                {
                                    "0": "8",
                                    "1": "Fierce Invalids Home from Hot Climates"
                                },
                                {
                                    "0": "8",
                                    "1": "Xenocide (Ender's Saga, #3)"
                                },
                                {
                                    "0": "8",
                                    "1": "How We Are Hungry"
                                },
                                {
                                    "0": "8",
                                    "1": "Last Chance Saloon"
                                },
                                {
                                    "0": "8",
                                    "1": "The Comfort of Strangers"
                                },
                                {
                                    "0": "8",
                                    "1": "Midnight for Charlie Bone (The Children of the Red King, #1)"
                                },
                                {
                                    "0": "8",
                                    "1": "On Her Majesty's Secret Service (James Bond, #11)"
                                },
                                {
                                    "0": "8",
                                    "1": "Runaways, Vol. 1: Pride and Joy (Runaways, #1)"
                                },
                                {
                                    "0": "8",
                                    "1": "Shadow Divers"
                                },
                                {
                                    "0": "8",
                                    "1": "Shadow of the Hegemon (Ender's Shadow, #2)"
                                },
                                {
                                    "0": "8",
                                    "1": "She's Come Undone"
                                },
                                {
                                    "0": "7",
                                    "1": "Galápagos"
                                },
                                {
                                    "0": "7",
                                    "1": "The Count of Monte Cristo"
                                },
                                {
                                    "0": "7",
                                    "1": "Mrs. Frisby and the Rats of NIMH (Rats of NIMH, #1)"
                                },
                                {
                                    "0": "7",
                                    "1": "Bel Canto"
                                },
                                {
                                    "0": "7",
                                    "1": "Pale Fire"
                                },
                                {
                                    "0": "7",
                                    "1": "Predator (Kay Scarpetta, #14)"
                                },
                                {
                                    "0": "7",
                                    "1": "Skipping Christmas"
                                },
                                {
                                    "0": "7",
                                    "1": "Sons of Destiny (Cirque Du Freak, #12)"
                                },
                                {
                                    "0": "6",
                                    "1": "The Woman in the Dunes"
                                },
                                {
                                    "0": "6",
                                    "1": "Little Altars Everywhere"
                                },
                                {
                                    "0": "6",
                                    "1": "Shopaholic and Sister (Shopaholic, #4)"
                                },
                                {
                                    "0": "5",
                                    "1": "The Lorax"
                                },
                                {
                                    "0": "5",
                                    "1": "The Heart of a Woman"
                                },
                                {
                                    "0": "5",
                                    "1": "Hunters of the Dusk (Cirque Du Freak, #7)"
                                },
                                {
                                    "0": "5",
                                    "1": "I Can Read With My Eyes Shut!"
                                },
                                {
                                    "0": "5",
                                    "1": "King Rat (Asian Saga, #4)"
                                },
                                {
                                    "0": "5",
                                    "1": "A Virtuous Woman"
                                },
                                {
                                    "0": "5",
                                    "1": "The Quiet American"
                                },
                                {
                                    "0": "5",
                                    "1": "Pygmalion & My Fair Lady"
                                },
                                {
                                    "0": "5",
                                    "1": "Cradle and All"
                                },
                                {
                                    "0": "5",
                                    "1": "Superman: Birthright"
                                },
                                {
                                    "0": "4",
                                    "1": "The God of Small Things"
                                },
                                {
                                    "0": "4",
                                    "1": "The Complete Short Stories"
                                },
                                {
                                    "0": "4",
                                    "1": "The Power of Now: A Guide to Spiritual Enlightenment"
                                },
                                {
                                    "0": "4",
                                    "1": "Ahab's Wife, or The Star-Gazer"
                                },
                                {
                                    "0": "4",
                                    "1": "The Atonement Child"
                                },
                                {
                                    "0": "4",
                                    "1": "Still Life with Woodpecker"
                                },
                                {
                                    "0": "4",
                                    "1": "Cannery Row"
                                },
                                {
                                    "0": "4",
                                    "1": "Next"
                                },
                                {
                                    "0": "4",
                                    "1": "Never Let Me Go"
                                },
                                {
                                    "0": "4",
                                    "1": "Loving What Is: Four Questions That Can Change Your Life"
                                },
                                {
                                    "0": "4",
                                    "1": "Embroideries"
                                },
                                {
                                    "0": "4",
                                    "1": "I Hope They Serve Beer in Hell (Tucker Max, #1)"
                                },
                                {
                                    "0": "4",
                                    "1": "Freak the Mighty (Freak The Mighty, #1)"
                                },
                                {
                                    "0": "3",
                                    "1": "The Street Lawyer"
                                },
                                {
                                    "0": "3",
                                    "1": "The Bell Jar"
                                },
                                {
                                    "0": "3",
                                    "1": "The Canterbury Tales"
                                },
                                {
                                    "0": "3",
                                    "1": "Herzog"
                                },
                                {
                                    "0": "3",
                                    "1": "Haroun and the Sea of Stories (Khalifa Brothers, #1)"
                                },
                                {
                                    "0": "2",
                                    "1": "Sputnik Sweetheart"
                                },
                                {
                                    "0": "2",
                                    "1": "Deadeye Dick"
                                },
                                {
                                    "0": "2",
                                    "1": "The World According to Garp"
                                },
                                {
                                    "0": "2",
                                    "1": "Ghostwritten"
                                },
                                {
                                    "0": "1",
                                    "1": "The Bookseller of Kabul"
                                },
                                {
                                    "0": "1",
                                    "1": "The Divine Comedy"
                                }
                            ]
                        },
                        "text/html": [
                            "<table>",
                            "<tr><th>User ID Count</th><th>title</th></tr>",
                            "<tr><td>1812</td><td>The Ultimate Hitchhiker's Guide to the Galaxy</td></tr>",
                            "<tr><td>1767</td><td>The Hitchhiker's Guide to the Galaxy (Hitchhiker's Guide to the Galaxy, #1)</td></tr>",
                            "<tr><td>1499</td><td>The Lord of the Rings: The Art of The Fellowship of the Ring</td></tr>",
                            "<tr><td>1498</td><td>Harry Potter Boxed Set, Books 1-5 (Harry Potter, #1-5)</td></tr>",
                            "<tr><td>1484</td><td>Harry Potter and the Goblet of Fire (Harry Potter, #4)</td></tr>",
                            "<tr><td>1352</td><td>The Known World</td></tr>",
                            "<tr><td>1293</td><td>Harry Potter and the Prisoner of Azkaban (Harry Potter, #3)</td></tr>",
                            "<tr><td>1211</td><td>The Lord of the Rings: Weapons and Warfare</td></tr>",
                            "<tr><td>1148</td><td>Notes from a Small Island</td></tr>",
                            "<tr><td>1110</td><td>Harry Potter Collection (Harry Potter, #1-6)</td></tr>",
                            "<tr><td>1094</td><td>The Lord of the Rings (The Lord of the Rings, #1-3)</td></tr>",
                            "<tr><td>1069</td><td>The Salmon of Doubt (Dirk Gently, #3)</td></tr>",
                            "<tr><td>1051</td><td>Dune Messiah (Dune Chronicles #2)</td></tr>",
                            "<tr><td>1040</td><td>Treasure Island</td></tr>",
                            "<tr><td>1007</td><td>Tropic of Cancer</td></tr>",
                            "<tr><td>973</td><td>Harry Potter and the Half-Blood Prince (Harry Potter, #6)</td></tr>",
                            "<tr><td>913</td><td>Children of Dune (Dune Chronicles #3)</td></tr>",
                            "<tr><td>866</td><td>The Power of One (The Power of One, #1)</td></tr>",
                            "<tr><td>815</td><td>Heretics of Dune (Dune Chronicles #5)</td></tr>",
                            "<tr><td>801</td><td>J.R.R. Tolkien 4-Book Boxed Set: The Hobbit and The Lord of the Rings</td></tr>",
                            "<tr><td>737</td><td>Job: A Comedy of Justice</td></tr>",
                            "<tr><td>724</td><td>The Door Into Summer</td></tr>",
                            "<tr><td>696</td><td>Mostly Harmless (Hitchhiker's Guide to the Galaxy, #5)</td></tr>",
                            "<tr><td>661</td><td>I am Charlotte Simmons</td></tr>",
                            "<tr><td>659</td><td>The Broken Wings</td></tr>",
                            "<tr><td>608</td><td>Killing Yourself to Live: 85% of a True Story</td></tr>",
                            "<tr><td>580</td><td>The Portrait of a Lady</td></tr>",
                            "<tr><td>567</td><td>The Lover</td></tr>",
                            "<tr><td>564</td><td>Slouching Towards Bethlehem</td></tr>",
                            "<tr><td>563</td><td>We the Living</td></tr>",
                            "<tr><td>551</td><td>Cryptonomicon</td></tr>",
                            "<tr><td>533</td><td>Fullmetal Alchemist, Vol. 1 (Fullmetal Alchemist, #1)</td></tr>",
                            "<tr><td>525</td><td>Libra</td></tr>",
                            "<tr><td>525</td><td>Maurice</td></tr>",
                            "<tr><td>524</td><td>The Elegant Universe: Superstrings, Hidden Dimensions, and the Quest for the Ultimate Theory</td></tr>",
                            "<tr><td>513</td><td>Chapterhouse: Dune (Dune Chronicles #6)</td></tr>",
                            "<tr><td>504</td><td>One Hundred Years of Solitude</td></tr>",
                            "<tr><td>495</td><td>What to Expect the First Year (What to Expect)</td></tr>",
                            "<tr><td>484</td><td>I'm a Stranger Here Myself: Notes on Returning to America after Twenty Years Away</td></tr>",
                            "<tr><td>450</td><td>The Fellowship of the Ring (The Lord of the Rings, #1)</td></tr>",
                            "<tr><td>447</td><td>The Lost Continent: Travels in Small Town America</td></tr>",
                            "<tr><td>445</td><td>Everyday Italian: 125 Simple and Delicious Recipes</td></tr>",
                            "<tr><td>439</td><td>Heidi</td></tr>",
                            "<tr><td>438</td><td>Dirk Gently's Holistic Detective Agency (Dirk Gently #1)</td></tr>",
                            "<tr><td>438</td><td>Tropic of Capricorn</td></tr>",
                            "<tr><td>438</td><td>Neither Here nor There: Travels in Europe</td></tr>",
                            "<tr><td>435</td><td>City of Glass (The New York Trilogy, #1)</td></tr>",
                            "<tr><td>431</td><td>In a Sunburned Country</td></tr>",
                            "<tr><td>430</td><td>The Virtue of Selfishness: A New Concept of Egoism</td></tr>",
                            "<tr><td>427</td><td>A Short History of Nearly Everything</td></tr>",
                            "<tr><td>400</td><td>Harry Potter and the Order of the Phoenix (Harry Potter, #5)</td></tr>",
                            "<tr><td>387</td><td>Sherlock Holmes: The Complete Novels and Stories, Volume I</td></tr>",
                            "<tr><td>385</td><td>Daniel Deronda</td></tr>",
                            "<tr><td>384</td><td>Madame Bovary</td></tr>",
                            "<tr><td>374</td><td>Stranger in a Strange Land</td></tr>",
                            "<tr><td>373</td><td>Digging to America</td></tr>",
                            "<tr><td>372</td><td>The Da Vinci Code (Robert Langdon, #2)</td></tr>",
                            "<tr><td>348</td><td>The Mother Tongue: English and How It Got That Way</td></tr>",
                            "<tr><td>346</td><td>The Phantom Tollbooth</td></tr>",
                            "<tr><td>343</td><td>The Long Dark Tea-Time of the Soul (Dirk Gently, #2)</td></tr>",
                            "<tr><td>319</td><td>The Game: Penetrating the Secret Society of Pickup Artists</td></tr>",
                            "<tr><td>316</td><td>Breaking the Spell: Religion as a Natural Phenomenon</td></tr>",
                            "<tr><td>315</td><td>The Tipping Point: How Little Things Can Make a Big Difference</td></tr>",
                            "<tr><td>309</td><td>Robinson Crusoe</td></tr>",
                            "<tr><td>306</td><td>Agamemnon (Oresteia, #1)</td></tr>",
                            "<tr><td>306</td><td>Collapse: How Societies Choose to Fail or Succeed</td></tr>",
                            "<tr><td>305</td><td>Trump: The Art of the Deal</td></tr>",
                            "<tr><td>287</td><td>Harry Potter and the Sorcerer's Stone (Harry Potter, #1)</td></tr>",
                            "<tr><td>286</td><td>Fire Sea (The Death Gate Cycle, #3)</td></tr>",
                            "<tr><td>279</td><td>Wild Swans: Three Daughters of China</td></tr>",
                            "<tr><td>277</td><td>Metamorphoses</td></tr>",
                            "<tr><td>273</td><td>Think and Grow Rich: The Landmark Bestseller - Now Revised and Updated for the 21st Century</td></tr>",
                            "<tr><td>269</td><td>Hatchet (Brian's Saga, #1)</td></tr>",
                            "<tr><td>268</td><td>Middlesex</td></tr>",
                            "<tr><td>267</td><td>The Confusion (The Baroque Cycle, #2)</td></tr>",
                            "<tr><td>265</td><td>Hamlet</td></tr>",
                            "<tr><td>262</td><td>Atlas Shrugged</td></tr>",
                            "<tr><td>261</td><td>Snow Crash</td></tr>",
                            "<tr><td>260</td><td>Pompeii</td></tr>",
                            "<tr><td>250</td><td>The Odyssey</td></tr>",
                            "<tr><td>249</td><td>Leviathan</td></tr>",
                            "<tr><td>240</td><td>The Iliad/The Odyssey</td></tr>",
                            "<tr><td>240</td><td>Zodiac</td></tr>",
                            "<tr><td>239</td><td>The Diamond Age: or, A Young Lady's Illustrated Primer</td></tr>",
                            "<tr><td>236</td><td>Fahrenheit 451</td></tr>",
                            "<tr><td>232</td><td>Play It as It Lays</td></tr>",
                            "<tr><td>220</td><td>The Iliad</td></tr>",
                            "<tr><td>219</td><td>Corelli's Mandolin</td></tr>",
                            "<tr><td>217</td><td>The Brooklyn Follies</td></tr>",
                            "<tr><td>217</td><td>Gravity's Rainbow</td></tr>",
                            "<tr><td>213</td><td>Memoirs of a Geisha</td></tr>",
                            "<tr><td>208</td><td>Time Enough for Love</td></tr>",
                            "<tr><td>207</td><td>Moon Palace</td></tr>",
                            "<tr><td>206</td><td>The Design of Everyday Things</td></tr>",
                            "<tr><td>202</td><td>The Restaurant at the End of the Universe (Hitchhiker's Guide, #2)</td></tr>",
                            "<tr><td>198</td><td>Wild Fire (John Corey, #4)</td></tr>",
                            "<tr><td>195</td><td>Nickel and Dimed: On (Not) Getting By in America</td></tr>",
                            "<tr><td>194</td><td>Falling Angels</td></tr>",
                            "<tr><td>189</td><td>Martin Chuzzlewit</td></tr>",
                            "<tr><td>189</td><td>Giada's Family Dinners</td></tr>",
                            "<tr><td>184</td><td>Wild at Heart: Discovering the Secret of a Man's Soul</td></tr>",
                            "<tr><td>182</td><td>The New York Trilogy</td></tr>",
                            "<tr><td>182</td><td>Surely You're Joking, Mr. Feynman!: Adventures of a Curious Character</td></tr>",
                            "<tr><td>180</td><td>Sailing Alone Around the Room: New and Selected Poems</td></tr>",
                            "<tr><td>180</td><td>The Broker</td></tr>",
                            "<tr><td>178</td><td>A Separate Peace</td></tr>",
                            "<tr><td>176</td><td>Blue Ocean Strategy: How To Create Uncontested Market Space And Make The Competition Irrelevant</td></tr>",
                            "<tr><td>174</td><td>Liar's Poker</td></tr>",
                            "<tr><td>174</td><td>The War of Art: Break Through the Blocks &amp; Win Your Inner Creative Battles</td></tr>",
                            "<tr><td>174</td><td>War and Peace</td></tr>",
                            "<tr><td>172</td><td>A Million Little Pieces</td></tr>",
                            "<tr><td>169</td><td>A Home at the End of the World</td></tr>",
                            "<tr><td>168</td><td>The Crying of Lot 49</td></tr>",
                            "<tr><td>166</td><td>Another Bullshit Night in Suck City</td></tr>",
                            "<tr><td>166</td><td>Angels &amp; Demons  (Robert Langdon, #1)</td></tr>",
                            "<tr><td>164</td><td>West with the Night</td></tr>",
                            "<tr><td>164</td><td>The Natural Way to Draw</td></tr>",
                            "<tr><td>162</td><td>An Ideal Husband</td></tr>",
                            "<tr><td>162</td><td>A Painted House</td></tr>",
                            "<tr><td>161</td><td>Sentimental Education</td></tr>",
                            "<tr><td>157</td><td>Little Women (Little Women, #1)</td></tr>",
                            "<tr><td>157</td><td>The Oresteia  (Ορέστεια, #1-3)</td></tr>",
                            "<tr><td>157</td><td>Forever Amber </td></tr>",
                            "<tr><td>156</td><td>The Partner</td></tr>",
                            "<tr><td>156</td><td>I Like You: Hospitality Under the Influence</td></tr>",
                            "<tr><td>154</td><td>Brief Interviews with Hideous Men</td></tr>",
                            "<tr><td>152</td><td>Into the Wild</td></tr>",
                            "<tr><td>152</td><td>America (The Book): A Citizen's Guide to Democracy Inaction</td></tr>",
                            "<tr><td>149</td><td>Hard Eight (Stephanie Plum, #8)</td></tr>",
                            "<tr><td>149</td><td>The Zahir</td></tr>",
                            "<tr><td>149</td><td>Live and Let Die (James Bond, #2)</td></tr>",
                            "<tr><td>148</td><td>A Tale of Two Cities</td></tr>",
                            "<tr><td>147</td><td>The Deep End of the Ocean (Cappadora Family, #1)</td></tr>",
                            "<tr><td>147</td><td>Persuasion</td></tr>",
                            "<tr><td>145</td><td>Way of the Peaceful Warrior: A Book That Changes Lives</td></tr>",
                            "<tr><td>143</td><td>Howards End</td></tr>",
                            "<tr><td>142</td><td>The Innocent Man: Murder and Injustice in a Small Town</td></tr>",
                            "<tr><td>142</td><td>Anthem</td></tr>",
                            "<tr><td>142</td><td>White Teeth</td></tr>",
                            "<tr><td>139</td><td>The Book of Ruth</td></tr>",
                            "<tr><td>139</td><td>Snow Flower and the Secret Fan</td></tr>",
                            "<tr><td>139</td><td>The Taste of Home Cookbook</td></tr>",
                            "<tr><td>137</td><td>Lipstick Jungle</td></tr>",
                            "<tr><td>134</td><td>Shalimar the Clown</td></tr>",
                            "<tr><td>129</td><td>The Amazing Adventures of Kavalier &amp; Clay</td></tr>",
                            "<tr><td>129</td><td>Baltasar and Blimunda</td></tr>",
                            "<tr><td>127</td><td>The Innovator's Dilemma: The Revolutionary Book that Will Change the Way You Do Business (Collins Business Essentials)</td></tr>",
                            "<tr><td>127</td><td>Black Beauty</td></tr>",
                            "<tr><td>126</td><td>The Good Earth (House of Earth, #1)</td></tr>",
                            "<tr><td>126</td><td>The Hungry Tide</td></tr>",
                            "<tr><td>125</td><td>Zen and the Art of Motorcycle Maintenance: An Inquiry Into Values</td></tr>",
                            "<tr><td>123</td><td>The Richest Man in Babylon</td></tr>",
                            "<tr><td>123</td><td>Memories of My Melancholy Whores</td></tr>",
                            "<tr><td>123</td><td>Slaughterhouse-Five</td></tr>",
                            "<tr><td>118</td><td>The Plot Against America</td></tr>",
                            "<tr><td>116</td><td>Interpreter of Maladies</td></tr>",
                            "<tr><td>116</td><td>Quicksilver (The Baroque Cycle, #1)</td></tr>",
                            "<tr><td>116</td><td>The Heart of the Matter</td></tr>",
                            "<tr><td>115</td><td>Villa Incognito</td></tr>",
                            "<tr><td>114</td><td>The Automatic Millionaire: A Powerful One-Step Plan to Live and Finish Rich</td></tr>",
                            "<tr><td>114</td><td>From Beirut to Jerusalem</td></tr>",
                            "<tr><td>113</td><td>Freakonomics: A Rogue Economist Explores the Hidden Side of Everything (Freakonomics, #1)</td></tr>",
                            "<tr><td>112</td><td>From the Mixed-Up Files of Mrs. Basil E. Frankweiler</td></tr>",
                            "<tr><td>111</td><td>High Five (Stephanie Plum, #5)</td></tr>",
                            "<tr><td>110</td><td>Truman</td></tr>",
                            "<tr><td>110</td><td>The History of Love</td></tr>",
                            "<tr><td>110</td><td>The List</td></tr>",
                            "<tr><td>109</td><td>The Westing Game</td></tr>",
                            "<tr><td>108</td><td>Sex, Drugs, and Cocoa Puffs: A Low Culture Manifesto</td></tr>",
                            "<tr><td>108</td><td>The Way the Crow Flies</td></tr>",
                            "<tr><td>107</td><td>One Fish, Two Fish, Red Fish, Blue Fish</td></tr>",
                            "<tr><td>107</td><td>Lost Horizon</td></tr>",
                            "<tr><td>107</td><td>The Wedding (The Notebook, #2)</td></tr>",
                            "<tr><td>106</td><td>The Johnstown Flood</td></tr>",
                            "<tr><td>106</td><td>A Room with a View</td></tr>",
                            "<tr><td>105</td><td>Perfume: The Story of a Murderer</td></tr>",
                            "<tr><td>105</td><td>The Complete Sherlock Holmes, Vol 2</td></tr>",
                            "<tr><td>105</td><td>The World Is Flat: A Brief History of the Twenty-first Century</td></tr>",
                            "<tr><td>104</td><td>Sex and the City</td></tr>",
                            "<tr><td>104</td><td>A Case of Need</td></tr>",
                            "<tr><td>103</td><td>The Bone Collector (Lincoln Rhyme, #1)</td></tr>",
                            "<tr><td>102</td><td>No Logo</td></tr>",
                            "<tr><td>102</td><td>A Little Princess</td></tr>",
                            "<tr><td>100</td><td>The Grapes of Wrath</td></tr>",
                            "<tr><td>99</td><td>So Long, and Thanks for All the Fish (Hitchhiker's Guide to the Galaxy, #4)</td></tr>",
                            "<tr><td>99</td><td>American Gods (American Gods, #1)</td></tr>",
                            "<tr><td>99</td><td>The Egypt Game (Game, #1)</td></tr>",
                            "<tr><td>99</td><td>The Rapture of Canaan</td></tr>",
                            "<tr><td>98</td><td>Hey Nostradamus!</td></tr>",
                            "<tr><td>97</td><td>Kurt Vonnegut's Cat's Cradle (Modern Critical Interpretations)</td></tr>",
                            "<tr><td>96</td><td>Economics in One Lesson: The Shortest &amp; Surest Way to Understand Basic Economics</td></tr>",
                            "<tr><td>96</td><td>Until I Find You</td></tr>",
                            "<tr><td>95</td><td>Lysistrata</td></tr>",
                            "<tr><td>95</td><td>The Physician (Cole Family Trilogy, #1)</td></tr>",
                            "<tr><td>94</td><td>Guns, Germs, and Steel: The Fates of Human Societies</td></tr>",
                            "<tr><td>93</td><td>Of Mice and Men</td></tr>",
                            "<tr><td>92</td><td>Harry Potter Schoolbooks Box Set: Two Classic Books from the Library of Hogwarts School of Witchcraft and Wizardry</td></tr>",
                            "<tr><td>92</td><td>The River (Brian's Saga, #2)</td></tr>",
                            "<tr><td>92</td><td>Twenty Love Poems and a Song of Despair</td></tr>",
                            "<tr><td>92</td><td>A Great and Terrible Beauty (Gemma Doyle, #1)</td></tr>",
                            "<tr><td>91</td><td>Songs in Ordinary Time</td></tr>",
                            "<tr><td>90</td><td>Tunnels of Blood (Cirque Du Freak, #3)</td></tr>",
                            "<tr><td>90</td><td>Fast Food Nation: The Dark Side of the All-American Meal</td></tr>",
                            "<tr><td>90</td><td>Congo</td></tr>",
                            "<tr><td>89</td><td>The Complete Anne of Green Gables Boxed Set (Anne of Green Gables, #1-8)</td></tr>",
                            "<tr><td>89</td><td>The Hobbit</td></tr>",
                            "<tr><td>88</td><td>Into Thin Air: A Personal Account of the Mount Everest Disaster</td></tr>",
                            "<tr><td>88</td><td>Wolves of the Calla (The Dark Tower, #5)</td></tr>",
                            "<tr><td>88</td><td>Warrior of the Light</td></tr>",
                            "<tr><td>88</td><td>Ilium (Ilium, #1)</td></tr>",
                            "<tr><td>87</td><td>Sunshine</td></tr>",
                            "<tr><td>87</td><td>Prep</td></tr>",
                            "<tr><td>86</td><td>The Complete Short Novels</td></tr>",
                            "<tr><td>86</td><td>Kafka on the Shore</td></tr>",
                            "<tr><td>86</td><td>The Adventures of Sherlock Holmes</td></tr>",
                            "<tr><td>84</td><td>Heart of Darkness</td></tr>",
                            "<tr><td>84</td><td>Veronika Decides to Die</td></tr>",
                            "<tr><td>83</td><td>Moneyball: The Art of Winning an Unfair Game</td></tr>",
                            "<tr><td>83</td><td>The America's Test Kitchen Family Cookbook</td></tr>",
                            "<tr><td>83</td><td>The Fountainhead</td></tr>",
                            "<tr><td>83</td><td>Team of Rivals: The Political Genius of Abraham Lincoln</td></tr>",
                            "<tr><td>83</td><td>True Believer (Jeremy Marsh &amp; Lexie Darnell, #1)</td></tr>",
                            "<tr><td>82</td><td>Complications: A Surgeon's Notes on an Imperfect Science</td></tr>",
                            "<tr><td>82</td><td>Stranger than Fiction</td></tr>",
                            "<tr><td>82</td><td>Brave New World / Brave New World Revisited</td></tr>",
                            "<tr><td>81</td><td>Like Water for Chocolate</td></tr>",
                            "<tr><td>81</td><td>All the Names</td></tr>",
                            "<tr><td>81</td><td>The 48 Laws of Power</td></tr>",
                            "<tr><td>81</td><td>A Midsummer Night's Dream</td></tr>",
                            "<tr><td>81</td><td>The Pilot's Wife</td></tr>",
                            "<tr><td>80</td><td>The Long Walk: The True Story of a Trek to Freedom</td></tr>",
                            "<tr><td>79</td><td>The View from Saturday</td></tr>",
                            "<tr><td>79</td><td>The Power and the Glory</td></tr>",
                            "<tr><td>79</td><td>The Histories</td></tr>",
                            "<tr><td>79</td><td>The Wonderful Story of Henry Sugar and Six More</td></tr>",
                            "<tr><td>78</td><td>The Amber Room</td></tr>",
                            "<tr><td>78</td><td>The Curious Incident of the Dog in the Night-Time</td></tr>",
                            "<tr><td>77</td><td>The Bellmaker (Redwall, #7)</td></tr>",
                            "<tr><td>77</td><td>Truth and Beauty</td></tr>",
                            "<tr><td>77</td><td>The Long Winter (Little House, #6)</td></tr>",
                            "<tr><td>76</td><td>All the King's Men</td></tr>",
                            "<tr><td>76</td><td>The Lost Boy (Dave Pelzer #2)</td></tr>",
                            "<tr><td>75</td><td>My Name is Red</td></tr>",
                            "<tr><td>74</td><td>Revolting Rhymes</td></tr>",
                            "<tr><td>74</td><td>The Rainmaker</td></tr>",
                            "<tr><td>73</td><td>Six Easy Pieces: Essentials of Physics By Its Most Brilliant Teacher</td></tr>",
                            "<tr><td>73</td><td>The Alchemist</td></tr>",
                            "<tr><td>73</td><td>A Widow for One Year</td></tr>",
                            "<tr><td>71</td><td>Pride and Prejudice</td></tr>",
                            "<tr><td>71</td><td>The Dark Tower (The Dark Tower, #7)</td></tr>",
                            "<tr><td>71</td><td>A Lesson Before Dying</td></tr>",
                            "<tr><td>70</td><td>The Summons</td></tr>",
                            "<tr><td>70</td><td>Girl with a Pearl Earring</td></tr>",
                            "<tr><td>70</td><td>Getting Things Done: The Art of Stress-Free Productivity</td></tr>",
                            "<tr><td>69</td><td>How to Win Friends and Influence People</td></tr>",
                            "<tr><td>69</td><td>Timbuktu</td></tr>",
                            "<tr><td>69</td><td>Narcissus and Goldmund</td></tr>",
                            "<tr><td>69</td><td>The War of the Worlds</td></tr>",
                            "<tr><td>69</td><td>A History of the World in 6 Glasses</td></tr>",
                            "<tr><td>68</td><td>Blind Willow, Sleeping Woman</td></tr>",
                            "<tr><td>68</td><td>It's Not About the Bike: My Journey Back to Life</td></tr>",
                            "<tr><td>68</td><td>The Rescue</td></tr>",
                            "<tr><td>68</td><td>The Picture of Dorian Gray</td></tr>",
                            "<tr><td>68</td><td>The Omnivore's Dilemma: A Natural History of Four Meals</td></tr>",
                            "<tr><td>67</td><td>The Testament</td></tr>",
                            "<tr><td>67</td><td>The Snows of Kilimanjaro and Other Stories</td></tr>",
                            "<tr><td>67</td><td>The Pilgrimage</td></tr>",
                            "<tr><td>67</td><td>Rachael Ray 365: No Repeats: A Year of Deliciously Different Dinners</td></tr>",
                            "<tr><td>67</td><td>A History of God: The 4,000-Year Quest of Judaism, Christianity, and Islam</td></tr>",
                            "<tr><td>66</td><td>The Barefoot Contessa Cookbook</td></tr>",
                            "<tr><td>65</td><td>The Autograph Man</td></tr>",
                            "<tr><td>65</td><td>Half Asleep in Frog Pajamas</td></tr>",
                            "<tr><td>65</td><td>Ways of Seeing</td></tr>",
                            "<tr><td>65</td><td>The Second Summer of the Sisterhood (Sisterhood, #2)</td></tr>",
                            "<tr><td>65</td><td>A House for Mr Biswas</td></tr>",
                            "<tr><td>64</td><td>Lolita</td></tr>",
                            "<tr><td>64</td><td>A Briefer History of Time</td></tr>",
                            "<tr><td>64</td><td>Horton Hears a Who!</td></tr>",
                            "<tr><td>64</td><td>The Brethren</td></tr>",
                            "<tr><td>64</td><td>Inés of My Soul</td></tr>",
                            "<tr><td>64</td><td>The Three Musketeers</td></tr>",
                            "<tr><td>63</td><td>Jailbird</td></tr>",
                            "<tr><td>63</td><td>Lunar Park</td></tr>",
                            "<tr><td>63</td><td>Beloved</td></tr>",
                            "<tr><td>62</td><td>The Shadow of the Wind (The Cemetery of Forgotten Books,  #1)</td></tr>",
                            "<tr><td>62</td><td>Great Expectations</td></tr>",
                            "<tr><td>62</td><td>His Excellency: George Washington</td></tr>",
                            "<tr><td>62</td><td>Founding Brothers: The Revolutionary Generation</td></tr>",
                            "<tr><td>61</td><td>Selected Stories</td></tr>",
                            "<tr><td>61</td><td>Built to Last: Successful Habits of Visionary Companies</td></tr>",
                            "<tr><td>61</td><td>The Virgin Blue</td></tr>",
                            "<tr><td>61</td><td>The Short Stories</td></tr>",
                            "<tr><td>60</td><td>Doctor No (James Bond, #6)</td></tr>",
                            "<tr><td>60</td><td>Do Androids Dream of Electric Sheep?</td></tr>",
                            "<tr><td>60</td><td>Fear and Loathing in Las Vegas</td></tr>",
                            "<tr><td>60</td><td>Charlie and the Great Glass Elevator (Charlie Bucket, #2)</td></tr>",
                            "<tr><td>60</td><td>Timequake</td></tr>",
                            "<tr><td>60</td><td>The Fortress of Solitude</td></tr>",
                            "<tr><td>60</td><td>Mariel of Redwall (Redwall, #4)</td></tr>",
                            "<tr><td>60</td><td>Don't Make Me Think: A Common Sense Approach to Web Usability</td></tr>",
                            "<tr><td>59</td><td>1776</td></tr>",
                            "<tr><td>59</td><td>Burmese Days</td></tr>",
                            "<tr><td>59</td><td>Man's Search for Meaning</td></tr>",
                            "<tr><td>59</td><td>What Looks Like Crazy on an Ordinary Day (Idlewild, #1)</td></tr>",
                            "<tr><td>59</td><td>The Devil and Miss Prym (On the Seventh Day, #3)</td></tr>",
                            "<tr><td>59</td><td>The Man From St. Petersburg</td></tr>",
                            "<tr><td>58</td><td>A Moveable Feast</td></tr>",
                            "<tr><td>58</td><td>Going After Cacciato</td></tr>",
                            "<tr><td>58</td><td>The Smoke Jumper</td></tr>",
                            "<tr><td>58</td><td>The Valkyries</td></tr>",
                            "<tr><td>58</td><td>The Five Love Languages of Children</td></tr>",
                            "<tr><td>58</td><td>Vampire Mountain (Cirque Du Freak, #4)</td></tr>",
                            "<tr><td>58</td><td>Carter Beats the Devil</td></tr>",
                            "<tr><td>57</td><td>Oedipus Rex  (The Theban Plays, #1)</td></tr>",
                            "<tr><td>57</td><td>The Firm (Penguin Readers, Level 5)</td></tr>",
                            "<tr><td>57</td><td>The Road</td></tr>",
                            "<tr><td>57</td><td>My Life in France</td></tr>",
                            "<tr><td>57</td><td>The Path Between the Seas: The Creation of the Panama Canal, 1870-1914</td></tr>",
                            "<tr><td>57</td><td>Night (The Night Trilogy #1)</td></tr>",
                            "<tr><td>57</td><td>Anil's Ghost</td></tr>",
                            "<tr><td>57</td><td>Salt: A World History</td></tr>",
                            "<tr><td>56</td><td>The Beach House</td></tr>",
                            "<tr><td>56</td><td>Portrait of a Killer: Jack the Ripper - Case Closed</td></tr>",
                            "<tr><td>56</td><td>In Our Time</td></tr>",
                            "<tr><td>56</td><td>Anansi Boys</td></tr>",
                            "<tr><td>56</td><td>Deerskin</td></tr>",
                            "<tr><td>56</td><td>Morality for Beautiful Girls (No. 1 Ladies' Detective Agency, #3)</td></tr>",
                            "<tr><td>55</td><td>Eleven Minutes</td></tr>",
                            "<tr><td>55</td><td>Longitude: The True Story of a Lone Genius Who Solved the Greatest Scientific Problem of His Time</td></tr>",
                            "<tr><td>55</td><td>A Christmas Carol</td></tr>",
                            "<tr><td>55</td><td>The First Four Years  (Little House, #9)</td></tr>",
                            "<tr><td>54</td><td>Love in the Time of Cholera</td></tr>",
                            "<tr><td>54</td><td>My Friend Leonard</td></tr>",
                            "<tr><td>54</td><td>The Brothers Karamazov</td></tr>",
                            "<tr><td>53</td><td>The Clan of the Cave Bear (Earth's Children, #1)</td></tr>",
                            "<tr><td>53</td><td>A Man Without a Country</td></tr>",
                            "<tr><td>53</td><td>The Corrections</td></tr>",
                            "<tr><td>53</td><td>The Aleph and Other Stories </td></tr>",
                            "<tr><td>53</td><td>The Shadow Rising (Wheel of Time, #4)</td></tr>",
                            "<tr><td>53</td><td>Charlie and the Chocolate Factory (Charlie Bucket, #1)</td></tr>",
                            "<tr><td>53</td><td>In the Lake of the Woods</td></tr>",
                            "<tr><td>52</td><td>Blink</td></tr>",
                            "<tr><td>52</td><td>Me Talk Pretty One Day</td></tr>",
                            "<tr><td>51</td><td>The Fifth Mountain</td></tr>",
                            "<tr><td>51</td><td>Suffer the Children</td></tr>",
                            "<tr><td>50</td><td>Pearls of Lutra (Redwall, #9)</td></tr>",
                            "<tr><td>50</td><td>Persepolis: The Story of a Childhood (Persepolis, #1)</td></tr>",
                            "<tr><td>50</td><td>To Kill a Mockingbird</td></tr>",
                            "<tr><td>50</td><td>Paradise</td></tr>",
                            "<tr><td>50</td><td>Eaters of the Dead</td></tr>",
                            "<tr><td>50</td><td>The Club Dumas</td></tr>",
                            "<tr><td>50</td><td>Special Topics in Calamity Physics</td></tr>",
                            "<tr><td>49</td><td>The Winter of Our Discontent</td></tr>",
                            "<tr><td>49</td><td>How to Be Good</td></tr>",
                            "<tr><td>49</td><td>The Call of the Wild</td></tr>",
                            "<tr><td>48</td><td>Timeline</td></tr>",
                            "<tr><td>48</td><td>The Cement Garden</td></tr>",
                            "<tr><td>48</td><td>Icy Sparks</td></tr>",
                            "<tr><td>48</td><td>Mornings on Horseback</td></tr>",
                            "<tr><td>48</td><td>A Walk in the Woods</td></tr>",
                            "<tr><td>48</td><td>The Great Gatsby</td></tr>",
                            "<tr><td>48</td><td>Outcast of Redwall (Redwall, #8)</td></tr>",
                            "<tr><td>48</td><td>The Ground Beneath Her Feet</td></tr>",
                            "<tr><td>48</td><td>Twelfth Night</td></tr>",
                            "<tr><td>48</td><td>Travels with Charley: In Search of America</td></tr>",
                            "<tr><td>48</td><td>Life of Pi</td></tr>",
                            "<tr><td>47</td><td>Black and Blue</td></tr>",
                            "<tr><td>47</td><td>The Doors of Perception &amp; Heaven and Hell</td></tr>",
                            "<tr><td>47</td><td>The Poisonwood Bible</td></tr>",
                            "<tr><td>47</td><td>Unfinished Tales of Númenor and Middle-Earth</td></tr>",
                            "<tr><td>47</td><td>The Good Soldier</td></tr>",
                            "<tr><td>47</td><td>Gates of Fire: An Epic Novel of the Battle of Thermopylae</td></tr>",
                            "<tr><td>47</td><td>The Andromeda Strain</td></tr>",
                            "<tr><td>47</td><td>The Witches</td></tr>",
                            "<tr><td>46</td><td>A Heartbreaking Work of Staggering Genius</td></tr>",
                            "<tr><td>46</td><td>Brokeback Mountain</td></tr>",
                            "<tr><td>46</td><td>Motor Mouth (Alex Barnaby #2)</td></tr>",
                            "<tr><td>46</td><td>A Brief History of Time</td></tr>",
                            "<tr><td>45</td><td>Confessions of an Economic Hit Man</td></tr>",
                            "<tr><td>45</td><td>The Pragmatic Programmer: From Journeyman to Master</td></tr>",
                            "<tr><td>45</td><td>In Search of Excellence: Lessons from America's Best-Run Companies</td></tr>",
                            "<tr><td>45</td><td>Women in Love (Brangwen Family, #2)</td></tr>",
                            "<tr><td>45</td><td>A Walk to Remember</td></tr>",
                            "<tr><td>45</td><td>The Devil Wears Prada (The Devil Wears Prada, #1)</td></tr>",
                            "<tr><td>44</td><td>Wizard and Glass (The Dark Tower, #4)</td></tr>",
                            "<tr><td>44</td><td>The Thorn Birds</td></tr>",
                            "<tr><td>44</td><td>The Time Machine</td></tr>",
                            "<tr><td>44</td><td>Skinny Legs and All</td></tr>",
                            "<tr><td>44</td><td>Who Moved My Cheese?</td></tr>",
                            "<tr><td>44</td><td>The Terminal Man</td></tr>",
                            "<tr><td>44</td><td>A Supposedly Fun Thing I'll Never Do Again:  Essays and Arguments</td></tr>",
                            "<tr><td>44</td><td>The First World War</td></tr>",
                            "<tr><td>44</td><td>About a Boy</td></tr>",
                            "<tr><td>44</td><td>Paris to the Moon</td></tr>",
                            "<tr><td>43</td><td>The Prophet</td></tr>",
                            "<tr><td>43</td><td>The Catcher in the Rye</td></tr>",
                            "<tr><td>43</td><td>The Oedipus Cycle: Oedipus Rex/Oedipus at Colonus/Antigone (The Theban Plays, #1–3)</td></tr>",
                            "<tr><td>43</td><td>Invisible Cities</td></tr>",
                            "<tr><td>43</td><td>The Great Train Robbery</td></tr>",
                            "<tr><td>43</td><td>The Big Sleep (Philip Marlowe, #1)</td></tr>",
                            "<tr><td>43</td><td>La Dame aux Camélias</td></tr>",
                            "<tr><td>43</td><td>Holidays on Ice</td></tr>",
                            "<tr><td>43</td><td>The Magic Finger (Young Puffin Developing Reader)</td></tr>",
                            "<tr><td>43</td><td>The 158-Pound Marriage</td></tr>",
                            "<tr><td>43</td><td>Tara Road</td></tr>",
                            "<tr><td>42</td><td>Persepolis, Volume 1</td></tr>",
                            "<tr><td>42</td><td>Papillon</td></tr>",
                            "<tr><td>42</td><td>All-of-a-Kind Family (All-of-a-Kind Family, #1)</td></tr>",
                            "<tr><td>42</td><td>One for the Money (Stephanie Plum, #1)</td></tr>",
                            "<tr><td>42</td><td>Anne Frank Remembered: The Story of the Woman Who Helped to Hide the Frank Family</td></tr>",
                            "<tr><td>42</td><td>Barrel Fever: Stories and Essays</td></tr>",
                            "<tr><td>41</td><td>The Woman in White</td></tr>",
                            "<tr><td>41</td><td>Shopaholic Takes Manhattan (Shopaholic, #2)</td></tr>",
                            "<tr><td>41</td><td>Waiting for the Barbarians</td></tr>",
                            "<tr><td>41</td><td>A Christmas Carol and Other Christmas Writings</td></tr>",
                            "<tr><td>41</td><td>Maximum City: Bombay Lost and Found</td></tr>",
                            "<tr><td>41</td><td>Girlfriend in a Coma</td></tr>",
                            "<tr><td>41</td><td>Twelve Sharp (Stephanie Plum, #12)</td></tr>",
                            "<tr><td>40</td><td>A Prayer for Owen Meany</td></tr>",
                            "<tr><td>40</td><td>Disgrace</td></tr>",
                            "<tr><td>40</td><td>Marina</td></tr>",
                            "<tr><td>40</td><td>Anne Frank: Beyond the Diary - A Photographic Remembrance</td></tr>",
                            "<tr><td>40</td><td>Fever Pitch</td></tr>",
                            "<tr><td>40</td><td>Seven Up (Stephanie Plum, #7)</td></tr>",
                            "<tr><td>40</td><td>The Last Juror</td></tr>",
                            "<tr><td>39</td><td>Little House in the Big Woods (Little House, #1)</td></tr>",
                            "<tr><td>39</td><td>Fantastic Mr. Fox</td></tr>",
                            "<tr><td>39</td><td>Breath, Eyes, Memory</td></tr>",
                            "<tr><td>39</td><td>The Pearl</td></tr>",
                            "<tr><td>39</td><td>Complete Works of Oscar Wilde</td></tr>",
                            "<tr><td>38</td><td>Anne of Green Gables (Anne of Green Gables, #1)</td></tr>",
                            "<tr><td>38</td><td>Shopaholic Ties the Knot (Shopaholic, #3)</td></tr>",
                            "<tr><td>38</td><td>Tuesdays with Morrie</td></tr>",
                            "<tr><td>38</td><td>A People's History of the United States</td></tr>",
                            "<tr><td>38</td><td>Animal Farm / 1984</td></tr>",
                            "<tr><td>38</td><td>Howl's Moving Castle (Howl's Moving Castle, #1)</td></tr>",
                            "<tr><td>37</td><td>Generation X: Tales for an Accelerated Culture</td></tr>",
                            "<tr><td>37</td><td>Cradle to Cradle: Remaking the Way We Make Things</td></tr>",
                            "<tr><td>37</td><td>The Long Goodbye (Philip Marlowe, #6)</td></tr>",
                            "<tr><td>37</td><td>The Pillars of Creation (Sword of Truth, #7)</td></tr>",
                            "<tr><td>37</td><td>V.</td></tr>",
                            "<tr><td>37</td><td>Open House</td></tr>",
                            "<tr><td>37</td><td>Olivia Joules and the Overactive Imagination</td></tr>",
                            "<tr><td>37</td><td>Dragonfly in Amber (Outlander, #2)</td></tr>",
                            "<tr><td>36</td><td>The People of Sparks (Book of Ember, #2)</td></tr>",
                            "<tr><td>36</td><td>QED: The Strange Theory of Light and Matter</td></tr>",
                            "<tr><td>36</td><td>Code to Zero</td></tr>",
                            "<tr><td>36</td><td>Moo, Baa, La La La!</td></tr>",
                            "<tr><td>36</td><td>Islands in the Stream</td></tr>",
                            "<tr><td>36</td><td>The Legend of Luke (Redwall, #12)</td></tr>",
                            "<tr><td>36</td><td>Antigone (The Theban Plays, #3)</td></tr>",
                            "<tr><td>36</td><td>A Woman of Substance (Emma Harte Saga #1)</td></tr>",
                            "<tr><td>36</td><td>First They Killed My Father: A Daughter of Cambodia Remembers</td></tr>",
                            "<tr><td>35</td><td>Moloka'i</td></tr>",
                            "<tr><td>35</td><td>From Russia With Love (James Bond, #5)</td></tr>",
                            "<tr><td>35</td><td>Bleachers</td></tr>",
                            "<tr><td>35</td><td>All Families are Psychotic</td></tr>",
                            "<tr><td>35</td><td>The Stories of Eva Luna</td></tr>",
                            "<tr><td>35</td><td>Fight Club</td></tr>",
                            "<tr><td>35</td><td>Darwin's Dangerous Idea: Evolution and the Meanings of Life</td></tr>",
                            "<tr><td>35</td><td>Last Orders</td></tr>",
                            "<tr><td>34</td><td>Message in a Bottle</td></tr>",
                            "<tr><td>34</td><td>A Bend in the Road</td></tr>",
                            "<tr><td>34</td><td>Macbeth</td></tr>",
                            "<tr><td>34</td><td>Postmortem (Kay Scarpetta, #1)</td></tr>",
                            "<tr><td>34</td><td>Shadows of the Empire (Star Wars)</td></tr>",
                            "<tr><td>34</td><td>Boy: Tales of Childhood</td></tr>",
                            "<tr><td>33</td><td>Midwives</td></tr>",
                            "<tr><td>33</td><td>Speaker for the Dead (Ender's Saga, #2)</td></tr>",
                            "<tr><td>33</td><td>Ethan Frome</td></tr>",
                            "<tr><td>33</td><td>Sir Gawain and the Green Knight </td></tr>",
                            "<tr><td>33</td><td>Breakfast of Champions</td></tr>",
                            "<tr><td>33</td><td>You Shall Know Our Velocity!</td></tr>",
                            "<tr><td>33</td><td>God Bless You, Mr. Rosewater</td></tr>",
                            "<tr><td>33</td><td>Prophet</td></tr>",
                            "<tr><td>33</td><td>'Tis (Frank McCourt, #2)</td></tr>",
                            "<tr><td>33</td><td>'Salem's Lot</td></tr>",
                            "<tr><td>33</td><td>The Old Man and the Sea</td></tr>",
                            "<tr><td>32</td><td>Trials of Death (Cirque Du Freak, #5)</td></tr>",
                            "<tr><td>32</td><td>Night Over Water</td></tr>",
                            "<tr><td>32</td><td>Four Blondes</td></tr>",
                            "<tr><td>32</td><td>Amsterdam</td></tr>",
                            "<tr><td>32</td><td>Four to Score (Stephanie Plum, #4)</td></tr>",
                            "<tr><td>32</td><td>Mayflower: A Story of Courage, Community, and War</td></tr>",
                            "<tr><td>32</td><td>The Giver (The Giver, #1)</td></tr>",
                            "<tr><td>32</td><td>The Drama of the Gifted Child: The Search for the True Self</td></tr>",
                            "<tr><td>32</td><td>The Burden of Proof</td></tr>",
                            "<tr><td>32</td><td>Cane River</td></tr>",
                            "<tr><td>31</td><td>Holy Cow: An Indian Adventure</td></tr>",
                            "<tr><td>31</td><td>How to Make Love Like a Porn Star: A Cautionary Tale</td></tr>",
                            "<tr><td>31</td><td>The Broom of the System</td></tr>",
                            "<tr><td>31</td><td>Howl and Other Poems</td></tr>",
                            "<tr><td>31</td><td>The Great Book of Amber (The Chronicles of Amber, #1-10)</td></tr>",
                            "<tr><td>30</td><td>Franny and Zooey</td></tr>",
                            "<tr><td>30</td><td>The Secret Garden</td></tr>",
                            "<tr><td>30</td><td>Naked</td></tr>",
                            "<tr><td>30</td><td>A Bend in the River</td></tr>",
                            "<tr><td>30</td><td>Jack: Straight from the Gut</td></tr>",
                            "<tr><td>30</td><td>The Millionaire Next Door: The Surprising Secrets of Americas Wealthy</td></tr>",
                            "<tr><td>30</td><td>Path of the Assassin (Scot Harvath, #2)</td></tr>",
                            "<tr><td>30</td><td>The Year of Magical Thinking</td></tr>",
                            "<tr><td>29</td><td>Rising Sun</td></tr>",
                            "<tr><td>29</td><td>Casino Royale (James Bond, #1)</td></tr>",
                            "<tr><td>29</td><td>By the River Piedra I Sat Down and Wept</td></tr>",
                            "<tr><td>29</td><td>The Unbearable Lightness of Being</td></tr>",
                            "<tr><td>29</td><td>Jackdaws</td></tr>",
                            "<tr><td>29</td><td>John Adams</td></tr>",
                            "<tr><td>29</td><td>Jurassic Park (Jurassic Park, #1)</td></tr>",
                            "<tr><td>29</td><td>To Have and Have Not</td></tr>",
                            "<tr><td>29</td><td>Unlimited Power : The New Science Of Personal Achievement</td></tr>",
                            "<tr><td>29</td><td>Another Roadside Attraction</td></tr>",
                            "<tr><td>29</td><td>A Modest Proposal and Other Satirical Works</td></tr>",
                            "<tr><td>29</td><td>Forever in Blue: The Fourth Summer of the Sisterhood (Sisterhood, #4)</td></tr>",
                            "<tr><td>29</td><td>Naked Lunch</td></tr>",
                            "<tr><td>29</td><td>The Secret Art of Dr. Seuss</td></tr>",
                            "<tr><td>29</td><td>Fried Green Tomatoes at the Whistle Stop Cafe</td></tr>",
                            "<tr><td>28</td><td>The King of Torts</td></tr>",
                            "<tr><td>28</td><td>The Big Bad Wolf  (Alex Cross, #9)</td></tr>",
                            "<tr><td>28</td><td>The Giraffe and the Pelly and Me</td></tr>",
                            "<tr><td>28</td><td>Killers of the Dawn (Cirque Du Freak, #9)</td></tr>",
                            "<tr><td>28</td><td>Life and Times of Michael K</td></tr>",
                            "<tr><td>28</td><td>Practicing the Power of Now: Essential Teachings, Meditations, and Exercises from the Power of Now</td></tr>",
                            "<tr><td>28</td><td>Marlfox (Redwall, #11)</td></tr>",
                            "<tr><td>28</td><td>Saturday</td></tr>",
                            "<tr><td>28</td><td>Reading Lolita in Tehran</td></tr>",
                            "<tr><td>28</td><td>The Pillars of the Earth (The Kingsbridge Series, #1)</td></tr>",
                            "<tr><td>27</td><td>East of Eden</td></tr>",
                            "<tr><td>27</td><td>The Jane Austen Book Club</td></tr>",
                            "<tr><td>27</td><td>Cry, the Beloved Country</td></tr>",
                            "<tr><td>27</td><td>Them: Adventures with Extremists</td></tr>",
                            "<tr><td>27</td><td>Lucy Sullivan Is Getting Married</td></tr>",
                            "<tr><td>27</td><td>Pygmalion</td></tr>",
                            "<tr><td>27</td><td>Three to Get Deadly (Stephanie Plum, #3)</td></tr>",
                            "<tr><td>27</td><td>Crow Lake</td></tr>",
                            "<tr><td>27</td><td>Twenty Years After (The D'Artagnan Romances, #2)</td></tr>",
                            "<tr><td>26</td><td>A Son of the Circus</td></tr>",
                            "<tr><td>26</td><td>The Man Who Listens to Horses</td></tr>",
                            "<tr><td>26</td><td>Dr. Seuss's ABC: An Amazing Alphabet Book! (Bright and Early Board Books)</td></tr>",
                            "<tr><td>26</td><td>The Language Instinct: How the Mind Creates Language</td></tr>",
                            "<tr><td>26</td><td>1984</td></tr>",
                            "<tr><td>26</td><td>Dispatches</td></tr>",
                            "<tr><td>26</td><td>number9dream</td></tr>",
                            "<tr><td>26</td><td>Blindness</td></tr>",
                            "<tr><td>26</td><td>Genome: the Autobiography of a Species in 23 Chapters</td></tr>",
                            "<tr><td>26</td><td>Brave New World</td></tr>",
                            "<tr><td>26</td><td>Danny the Champion of the World</td></tr>",
                            "<tr><td>25</td><td>Endymion (Hyperion Cantos, #3)</td></tr>",
                            "<tr><td>25</td><td>Lord of the Shadows (Cirque Du Freak, #11)</td></tr>",
                            "<tr><td>25</td><td>The House of the Spirits</td></tr>",
                            "<tr><td>25</td><td>The Good Husband of Zebra Drive (No. 1 Ladies' Detective Agency, #8)</td></tr>",
                            "<tr><td>25</td><td>From Potter's Field (Kay Scarpetta, #6)</td></tr>",
                            "<tr><td>25</td><td>Peter and the Shadow Thieves (Peter and the Starcatchers, #2)</td></tr>",
                            "<tr><td>25</td><td>Tears of the Giraffe (No. 1 Ladies' Detective Agency, #2)</td></tr>",
                            "<tr><td>25</td><td>The Vampire Prince (Cirque Du Freak, #6)</td></tr>",
                            "<tr><td>25</td><td>Microserfs</td></tr>",
                            "<tr><td>24</td><td>The Four Agreements: A Practical Guide to Personal Freedom</td></tr>",
                            "<tr><td>24</td><td>Cause of Death (Kay Scarpetta, #7)</td></tr>",
                            "<tr><td>24</td><td>Enchantment</td></tr>",
                            "<tr><td>24</td><td>Rainbow Six (Jack Ryan Universe, #10)</td></tr>",
                            "<tr><td>24</td><td>Goldfinger (James Bond, #7)</td></tr>",
                            "<tr><td>24</td><td>The Universe in a Nutshell</td></tr>",
                            "<tr><td>24</td><td>The Android's Dream</td></tr>",
                            "<tr><td>24</td><td>Dear John</td></tr>",
                            "<tr><td>24</td><td>Three Men in a Boat (Three Men, #1)</td></tr>",
                            "<tr><td>24</td><td>I Feel Bad about My Neck: And Other Thoughts on Being a Woman</td></tr>",
                            "<tr><td>23</td><td>The Men Who Stare at Goats</td></tr>",
                            "<tr><td>23</td><td>The Very Hungry Caterpillar Board Book</td></tr>",
                            "<tr><td>23</td><td>Airframe</td></tr>",
                            "<tr><td>23</td><td>The Drawing of the Three (The Dark Tower, #2)</td></tr>",
                            "<tr><td>23</td><td>Extremely Loud and Incredibly Close</td></tr>",
                            "<tr><td>23</td><td>Eiger Dreams: Ventures Among Men and Mountains</td></tr>",
                            "<tr><td>23</td><td>Mother Night</td></tr>",
                            "<tr><td>23</td><td>Reservation Blues</td></tr>",
                            "<tr><td>23</td><td>The Red Tent</td></tr>",
                            "<tr><td>23</td><td>Messenger of Truth (Maisie Dobbs, #4)</td></tr>",
                            "<tr><td>23</td><td>Farewell, My Lovely (Philip Marlowe, #2)</td></tr>",
                            "<tr><td>23</td><td>The Bourne Identity (Jason Bourne, #1)</td></tr>",
                            "<tr><td>22</td><td>Saving Fish from Drowning</td></tr>",
                            "<tr><td>22</td><td>The Idiot Girls' Action-Adventure Club: True Tales from a Magnificent and Clumsy Life</td></tr>",
                            "<tr><td>22</td><td>Enduring Love</td></tr>",
                            "<tr><td>22</td><td>The Fourth Hand</td></tr>",
                            "<tr><td>22</td><td>Hard Times</td></tr>",
                            "<tr><td>22</td><td>God Bless You, Dr. Kevorkian</td></tr>",
                            "<tr><td>22</td><td>A Fine Balance</td></tr>",
                            "<tr><td>22</td><td>Blue Like Jazz: Nonreligious Thoughts on Christian Spirituality</td></tr>",
                            "<tr><td>22</td><td>The Emperor's Children</td></tr>",
                            "<tr><td>22</td><td>Crime and Punishment</td></tr>",
                            "<tr><td>22</td><td>The Adventures of Huckleberry Finn</td></tr>",
                            "<tr><td>22</td><td>A Portrait of the Artist as a Young Man</td></tr>",
                            "<tr><td>22</td><td>Farmer Boy (Little House, #3)</td></tr>",
                            "<tr><td>22</td><td>The Chamber</td></tr>",
                            "<tr><td>21</td><td>The Silmarillion (Middle-Earth Universe)</td></tr>",
                            "<tr><td>21</td><td>Trace (Kay Scarpetta, #13)</td></tr>",
                            "<tr><td>21</td><td>Regeneration (Regeneration, #1)</td></tr>",
                            "<tr><td>21</td><td>The Elephant Vanishes</td></tr>",
                            "<tr><td>21</td><td>Cover Her Face (Adam Dalgliesh #1)</td></tr>",
                            "<tr><td>21</td><td>The Sea</td></tr>",
                            "<tr><td>21</td><td>Ten Apples Up On Top!</td></tr>",
                            "<tr><td>21</td><td>City of the Beasts (Eagle and Jaguar, #1)</td></tr>",
                            "<tr><td>21</td><td>Moonraker (James Bond, #3)</td></tr>",
                            "<tr><td>21</td><td>The Other Side of the Story</td></tr>",
                            "<tr><td>21</td><td>The BFG</td></tr>",
                            "<tr><td>21</td><td>The History of Sexuality, Volume 1: An Introduction</td></tr>",
                            "<tr><td>21</td><td>Ivanhoe</td></tr>",
                            "<tr><td>21</td><td>Eats, Shoots &amp; Leaves: The Zero Tolerance Approach to Punctuation</td></tr>",
                            "<tr><td>21</td><td>Comfort Me with Apples: More Adventures at the Table</td></tr>",
                            "<tr><td>21</td><td>The No. 1 Ladies' Detective Agency  (No. 1 Ladies' Detective Agency, #1)</td></tr>",
                            "<tr><td>21</td><td>Confessions of a Shopaholic (Shopaholic, #1)</td></tr>",
                            "<tr><td>21</td><td>Three Weeks With My Brother</td></tr>",
                            "<tr><td>21</td><td>On Beauty</td></tr>",
                            "<tr><td>21</td><td>Olympos (Ilium, #2)</td></tr>",
                            "<tr><td>21</td><td>The Joy Luck Club</td></tr>",
                            "<tr><td>20</td><td>Little Town on the Prairie  (Little House, #7)</td></tr>",
                            "<tr><td>20</td><td>The Water-Method Man</td></tr>",
                            "<tr><td>20</td><td>Atonement</td></tr>",
                            "<tr><td>20</td><td>Drowning Ruth</td></tr>",
                            "<tr><td>20</td><td>Witches Abroad (Discworld, #12; Witches #3)</td></tr>",
                            "<tr><td>20</td><td>Gulliver's Travels</td></tr>",
                            "<tr><td>20</td><td>Shadow of the Giant (Ender's Shadow, #4)</td></tr>",
                            "<tr><td>20</td><td>The Five People You Meet in Heaven</td></tr>",
                            "<tr><td>20</td><td>Sickened: The Memoir of a Munchausen by Proxy Childhood</td></tr>",
                            "<tr><td>20</td><td>Allies of the Night (Cirque du Freak, #8)</td></tr>",
                            "<tr><td>20</td><td>The End of Poverty</td></tr>",
                            "<tr><td>20</td><td>Visions of Sugar Plums (Stephanie Plum, #8.5)</td></tr>",
                            "<tr><td>19</td><td>The Kalahari Typing School for Men (No. 1 Ladies' Detective Agency, #4)</td></tr>",
                            "<tr><td>19</td><td>Nine Stories</td></tr>",
                            "<tr><td>19</td><td>The Cat in the Hat and Other Dr. Seuss Favorites</td></tr>",
                            "<tr><td>19</td><td>Pardonable Lies (Maisie Dobbs, #3)</td></tr>",
                            "<tr><td>19</td><td>The Bonfire of the Vanities</td></tr>",
                            "<tr><td>19</td><td>The High Window (Philip Marlowe, #3)</td></tr>",
                            "<tr><td>19</td><td>Infinite Jest</td></tr>",
                            "<tr><td>19</td><td>Plum Lovin' (Stephanie Plum, #12.5)</td></tr>",
                            "<tr><td>19</td><td>Point of Origin (Kay Scarpetta, #9)</td></tr>",
                            "<tr><td>19</td><td>The Big Over Easy (Nursery Crime, #1)</td></tr>",
                            "<tr><td>19</td><td>Men Are from Mars, Women Are from Venus</td></tr>",
                            "<tr><td>19</td><td>Bridge to Terabithia</td></tr>",
                            "<tr><td>19</td><td>A Raisin in the Sun</td></tr>",
                            "<tr><td>18</td><td>Carrie / 'Salem's Lot / The Shining</td></tr>",
                            "<tr><td>18</td><td>The Body Farm (Kay Scarpetta, #5)</td></tr>",
                            "<tr><td>18</td><td>The Beautiful and Damned</td></tr>",
                            "<tr><td>18</td><td>Keep the Aspidistra Flying</td></tr>",
                            "<tr><td>18</td><td>Brave New World Revisited </td></tr>",
                            "<tr><td>18</td><td>The Mermaid Chair</td></tr>",
                            "<tr><td>18</td><td>Execution: The Discipline of Getting Things Done</td></tr>",
                            "<tr><td>18</td><td>Girls in Pants: The Third Summer of the Sisterhood (Sisterhood, #3)</td></tr>",
                            "<tr><td>18</td><td>The Wind in the Willows</td></tr>",
                            "<tr><td>18</td><td>Shopaholic &amp; Baby (Shopaholic, #5)</td></tr>",
                            "<tr><td>18</td><td>Glamorama</td></tr>",
                            "<tr><td>18</td><td>While I Was Gone</td></tr>",
                            "<tr><td>18</td><td>Cloudy With a Chance of Meatballs</td></tr>",
                            "<tr><td>18</td><td>Mother of Pearl</td></tr>",
                            "<tr><td>18</td><td>A Living Nightmare (Cirque Du Freak, #1)</td></tr>",
                            "<tr><td>18</td><td>Bagombo Snuff Box</td></tr>",
                            "<tr><td>17</td><td>V for Vendetta</td></tr>",
                            "<tr><td>17</td><td>Welcome to the Monkey House</td></tr>",
                            "<tr><td>17</td><td>Fall on Your Knees</td></tr>",
                            "<tr><td>17</td><td>Persepolis 2: The Story of a Return (Persepolis, #2)</td></tr>",
                            "<tr><td>17</td><td>The Glass Castle</td></tr>",
                            "<tr><td>17</td><td>Disclosure</td></tr>",
                            "<tr><td>17</td><td>Survival in Auschwitz</td></tr>",
                            "<tr><td>17</td><td>Last Chance to See</td></tr>",
                            "<tr><td>17</td><td>Suzanne's Diary for Nicholas</td></tr>",
                            "<tr><td>17</td><td>Animal Farm</td></tr>",
                            "<tr><td>16</td><td>The Metamorphosis and Other Stories</td></tr>",
                            "<tr><td>16</td><td>1421: The Year China Discovered America</td></tr>",
                            "<tr><td>16</td><td>Even Cowgirls Get the Blues</td></tr>",
                            "<tr><td>16</td><td>The Sun Also Rises</td></tr>",
                            "<tr><td>16</td><td>The Lake of Souls (Cirque Du Freak, #10)</td></tr>",
                            "<tr><td>16</td><td>The Informers</td></tr>",
                            "<tr><td>16</td><td>The Electric Kool-Aid Acid Test</td></tr>",
                            "<tr><td>16</td><td>Song of Susannah (The Dark Tower, #6)</td></tr>",
                            "<tr><td>16</td><td>World Without End (The Kingsbridge Series, #2)</td></tr>",
                            "<tr><td>16</td><td>Less Than Zero</td></tr>",
                            "<tr><td>16</td><td>The Red Pony</td></tr>",
                            "<tr><td>15</td><td>Player Piano</td></tr>",
                            "<tr><td>15</td><td>The Terror</td></tr>",
                            "<tr><td>15</td><td>By the Shores of Silver Lake  (Little House, #5)</td></tr>",
                            "<tr><td>15</td><td>Fear and Loathing on the Campaign Trail '72</td></tr>",
                            "<tr><td>15</td><td>Lord of the Flies</td></tr>",
                            "<tr><td>15</td><td>Don Quixote</td></tr>",
                            "<tr><td>15</td><td>Hocus Pocus</td></tr>",
                            "<tr><td>15</td><td>Dreamland</td></tr>",
                            "<tr><td>15</td><td>The Cider House Rules</td></tr>",
                            "<tr><td>15</td><td>The Poetry of Pablo Neruda</td></tr>",
                            "<tr><td>15</td><td>A Spot of Bother</td></tr>",
                            "<tr><td>15</td><td>Emma</td></tr>",
                            "<tr><td>15</td><td>Jewel</td></tr>",
                            "<tr><td>15</td><td>Jesus Freaks: Stories of Those Who Stood for Jesus, the Ultimate Jesus Freaks (Jesus Freaks, #1)</td></tr>",
                            "<tr><td>15</td><td>Five Little Peppers and How They Grew</td></tr>",
                            "<tr><td>14</td><td>Fear of Flying</td></tr>",
                            "<tr><td>14</td><td>Homage to Catalonia</td></tr>",
                            "<tr><td>14</td><td>Teacher Man (Frank McCourt, #3)</td></tr>",
                            "<tr><td>14</td><td>The Rules of Attraction</td></tr>",
                            "<tr><td>14</td><td>World War Z: An Oral History of the Zombie War</td></tr>",
                            "<tr><td>14</td><td>Diamonds Are Forever (James Bond, #4)</td></tr>",
                            "<tr><td>14</td><td>Where the Heart Is</td></tr>",
                            "<tr><td>14</td><td>In the Skin of a Lion</td></tr>",
                            "<tr><td>14</td><td>Oblivion</td></tr>",
                            "<tr><td>14</td><td>The Shipping News</td></tr>",
                            "<tr><td>14</td><td>In the Company of Cheerful Ladies (No. 1 Ladies' Detective Agency, #6)</td></tr>",
                            "<tr><td>14</td><td>The Long Patrol (Redwall, #10)</td></tr>",
                            "<tr><td>14</td><td>We Were the Mulvaneys</td></tr>",
                            "<tr><td>14</td><td>The Lost World (Jurassic Park, #2)</td></tr>",
                            "<tr><td>14</td><td>The Moonstone</td></tr>",
                            "<tr><td>14</td><td>Watermelon (Walsh Family, #1)</td></tr>",
                            "<tr><td>13</td><td>Bluebeard</td></tr>",
                            "<tr><td>13</td><td>What Do You Care What Other People Think?</td></tr>",
                            "<tr><td>13</td><td>Rose Daughter</td></tr>",
                            "<tr><td>12</td><td>Life, the Universe and Everything (Hitchhiker's Guide, #3)</td></tr>",
                            "<tr><td>12</td><td>Emily of New Moon (Emily, #1)</td></tr>",
                            "<tr><td>12</td><td>Two for the Dough (Stephanie Plum, #2)</td></tr>",
                            "<tr><td>12</td><td>Ender's Shadow (Ender's Shadow, #1)</td></tr>",
                            "<tr><td>12</td><td>Crossing to Safety</td></tr>",
                            "<tr><td>12</td><td>Rachel's Holiday (Walsh Family, #2)</td></tr>",
                            "<tr><td>12</td><td>Raise High the Roof Beam, Carpenters &amp; Seymour: An Introduction</td></tr>",
                            "<tr><td>12</td><td>Redwall (Redwall, #1)</td></tr>",
                            "<tr><td>12</td><td>Salamandastron (Redwall, #5)</td></tr>",
                            "<tr><td>12</td><td>Book of the Dead (Kay Scarpetta, #15)</td></tr>",
                            "<tr><td>12</td><td>The Sirens of Titan</td></tr>",
                            "<tr><td>12</td><td>How to Stop Worrying and Start Living</td></tr>",
                            "<tr><td>12</td><td>Hot Six (Stephanie Plum, #6)</td></tr>",
                            "<tr><td>12</td><td>The Audacity of Hope: Thoughts on Reclaiming the American Dream</td></tr>",
                            "<tr><td>12</td><td>Year of Wonders</td></tr>",
                            "<tr><td>12</td><td>The Long Walk</td></tr>",
                            "<tr><td>11</td><td>Consider the Lobster and Other Essays</td></tr>",
                            "<tr><td>11</td><td>Phenomenology of Spirit</td></tr>",
                            "<tr><td>11</td><td>Demons</td></tr>",
                            "<tr><td>11</td><td>Birdsong</td></tr>",
                            "<tr><td>11</td><td>The Baron in the Trees</td></tr>",
                            "<tr><td>11</td><td>A Map of the World</td></tr>",
                            "<tr><td>11</td><td>Jitterbug Perfume</td></tr>",
                            "<tr><td>11</td><td>The Hound of the Baskervilles</td></tr>",
                            "<tr><td>10</td><td>What Is the What</td></tr>",
                            "<tr><td>10</td><td>On the Banks of Plum Creek  (Little House, #4)</td></tr>",
                            "<tr><td>10</td><td>Bleach, Volume 15</td></tr>",
                            "<tr><td>10</td><td>The Blank Slate: The Modern Denial of Human Nature</td></tr>",
                            "<tr><td>10</td><td>As the Crow Flies</td></tr>",
                            "<tr><td>10</td><td>The Client</td></tr>",
                            "<tr><td>10</td><td>Going Solo</td></tr>",
                            "<tr><td>9</td><td>James and the Giant Peach</td></tr>",
                            "<tr><td>9</td><td>Here on Earth</td></tr>",
                            "<tr><td>9</td><td>Desert Flower</td></tr>",
                            "<tr><td>9</td><td>The Vampire's Assistant (Cirque Du Freak, #2)</td></tr>",
                            "<tr><td>9</td><td>Red Prophet (Tales of Alvin Maker, #2)</td></tr>",
                            "<tr><td>9</td><td>Slapstick, or Lonesome No More!</td></tr>",
                            "<tr><td>9</td><td>Songbook</td></tr>",
                            "<tr><td>9</td><td>Bleach, Volume 01</td></tr>",
                            "<tr><td>9</td><td>Betsy-Tacy (Betsy-Tacy, #1)</td></tr>",
                            "<tr><td>9</td><td>Assassination Vacation</td></tr>",
                            "<tr><td>9</td><td>Wuthering Heights</td></tr>",
                            "<tr><td>9</td><td>The Moor's Last Sigh</td></tr>",
                            "<tr><td>8</td><td>Vanity Fair</td></tr>",
                            "<tr><td>8</td><td>Deception Point</td></tr>",
                            "<tr><td>8</td><td>Darkness</td></tr>",
                            "<tr><td>8</td><td>Awakening the Buddha Within: Tibetan Wisdom for the Western World</td></tr>",
                            "<tr><td>8</td><td>Fierce Invalids Home from Hot Climates</td></tr>",
                            "<tr><td>8</td><td>Xenocide (Ender's Saga, #3)</td></tr>",
                            "<tr><td>8</td><td>How We Are Hungry</td></tr>",
                            "<tr><td>8</td><td>Last Chance Saloon</td></tr>",
                            "<tr><td>8</td><td>The Comfort of Strangers</td></tr>",
                            "<tr><td>8</td><td>Midnight for Charlie Bone (The Children of the Red King, #1)</td></tr>",
                            "<tr><td>8</td><td>On Her Majesty's Secret Service (James Bond, #11)</td></tr>",
                            "<tr><td>8</td><td>Runaways, Vol. 1: Pride and Joy (Runaways, #1)</td></tr>",
                            "<tr><td>8</td><td>Shadow Divers</td></tr>",
                            "<tr><td>8</td><td>Shadow of the Hegemon (Ender's Shadow, #2)</td></tr>",
                            "<tr><td>8</td><td>She's Come Undone</td></tr>",
                            "<tr><td>7</td><td>Galápagos</td></tr>",
                            "<tr><td>7</td><td>The Count of Monte Cristo</td></tr>",
                            "<tr><td>7</td><td>Mrs. Frisby and the Rats of NIMH (Rats of NIMH, #1)</td></tr>",
                            "<tr><td>7</td><td>Bel Canto</td></tr>",
                            "<tr><td>7</td><td>Pale Fire</td></tr>",
                            "<tr><td>7</td><td>Predator (Kay Scarpetta, #14)</td></tr>",
                            "<tr><td>7</td><td>Skipping Christmas</td></tr>",
                            "<tr><td>7</td><td>Sons of Destiny (Cirque Du Freak, #12)</td></tr>",
                            "<tr><td>6</td><td>The Woman in the Dunes</td></tr>",
                            "<tr><td>6</td><td>Little Altars Everywhere</td></tr>",
                            "<tr><td>6</td><td>Shopaholic and Sister (Shopaholic, #4)</td></tr>",
                            "<tr><td>5</td><td>The Lorax</td></tr>",
                            "<tr><td>5</td><td>The Heart of a Woman</td></tr>",
                            "<tr><td>5</td><td>Hunters of the Dusk (Cirque Du Freak, #7)</td></tr>",
                            "<tr><td>5</td><td>I Can Read With My Eyes Shut!</td></tr>",
                            "<tr><td>5</td><td>King Rat (Asian Saga, #4)</td></tr>",
                            "<tr><td>5</td><td>A Virtuous Woman</td></tr>",
                            "<tr><td>5</td><td>The Quiet American</td></tr>",
                            "<tr><td>5</td><td>Pygmalion &amp; My Fair Lady</td></tr>",
                            "<tr><td>5</td><td>Cradle and All</td></tr>",
                            "<tr><td>5</td><td>Superman: Birthright</td></tr>",
                            "<tr><td>4</td><td>The God of Small Things</td></tr>",
                            "<tr><td>4</td><td>The Complete Short Stories</td></tr>",
                            "<tr><td>4</td><td>The Power of Now: A Guide to Spiritual Enlightenment</td></tr>",
                            "<tr><td>4</td><td>Ahab's Wife, or The Star-Gazer</td></tr>",
                            "<tr><td>4</td><td>The Atonement Child</td></tr>",
                            "<tr><td>4</td><td>Still Life with Woodpecker</td></tr>",
                            "<tr><td>4</td><td>Cannery Row</td></tr>",
                            "<tr><td>4</td><td>Next</td></tr>",
                            "<tr><td>4</td><td>Never Let Me Go</td></tr>",
                            "<tr><td>4</td><td>Loving What Is: Four Questions That Can Change Your Life</td></tr>",
                            "<tr><td>4</td><td>Embroideries</td></tr>",
                            "<tr><td>4</td><td>I Hope They Serve Beer in Hell (Tucker Max, #1)</td></tr>",
                            "<tr><td>4</td><td>Freak the Mighty (Freak The Mighty, #1)</td></tr>",
                            "<tr><td>3</td><td>The Street Lawyer</td></tr>",
                            "<tr><td>3</td><td>The Bell Jar</td></tr>",
                            "<tr><td>3</td><td>The Canterbury Tales</td></tr>",
                            "<tr><td>3</td><td>Herzog</td></tr>",
                            "<tr><td>3</td><td>Haroun and the Sea of Stories (Khalifa Brothers, #1)</td></tr>",
                            "<tr><td>2</td><td>Sputnik Sweetheart</td></tr>",
                            "<tr><td>2</td><td>Deadeye Dick</td></tr>",
                            "<tr><td>2</td><td>The World According to Garp</td></tr>",
                            "<tr><td>2</td><td>Ghostwritten</td></tr>",
                            "<tr><td>1</td><td>The Bookseller of Kabul</td></tr>",
                            "<tr><td>1</td><td>The Divine Comedy</td></tr>",
                            "</table>"
                        ]
                    }
                }
            ],
            "execution_count": 91
        },
        {
            "cell_type": "markdown",
            "source": [
                "## **QUESTION 8:** Largest 'To Read' Lists\n",
                "\n",
                "**Part A:**  Create a query that returns a table that contains the top 10 users with the most number of titles on their 'to read' list.    Group all the entries by user\\_id.  \n",
                "\n",
                "> _Hint:_ You might want an alias for the titles.\n",
                "> \n",
                "> _Minimum Desired Output:_  user\\_id and your aliased column of titles.\n",
                "\n",
                "**Part B:**  The longest list length is 15 titles total, and is shared by 4 different users.  Select one of the uses and print out their entire '**to read**' list."
            ],
            "metadata": {
                "azdata_cell_guid": "0b0090b0-2b28-44c6-8bb6-06b4c03c3ff1"
            },
            "attachments": {}
        },
        {
            "cell_type": "code",
            "source": [
                "-- Code Here:\r\n",
                "SELECT TOP 10 tr.user_id, COUNT(b.title) AS 'Number of Books'\r\n",
                "FROM BooksDB.dbo.to_read AS tr\r\n",
                "JOIN BooksDB.dbo.books AS b\r\n",
                "ON tr.book_id = b.book_id\r\n",
                "GROUP BY tr.user_id\r\n",
                "ORDER BY [Number of Books] DESC;\r\n",
                "\r\n",
                "SELECT tr.user_id, b.title, b.book_id AS 'b.book_id', tr.book_id AS 'tr.book_id'\r\n",
                "FROM BooksDB.dbo.to_read AS tr\r\n",
                "LEFT JOIN BooksDB.dbo.books AS b\r\n",
                "ON tr.book_id = b.book_id\r\n",
                "WHERE user_id = 14771;\r\n",
                ""
            ],
            "metadata": {
                "azdata_cell_guid": "c6c815f8-890d-4163-be63-3d300e320597",
                "tags": [],
                "language": "sql"
            },
            "outputs": [
                {
                    "output_type": "display_data",
                    "data": {
                        "text/html": "(10 rows affected)"
                    },
                    "metadata": {}
                },
                {
                    "output_type": "display_data",
                    "data": {
                        "text/html": "(59 rows affected)"
                    },
                    "metadata": {}
                },
                {
                    "output_type": "display_data",
                    "data": {
                        "text/html": "Total execution time: 00:00:00.235"
                    },
                    "metadata": {}
                },
                {
                    "output_type": "execute_result",
                    "metadata": {},
                    "execution_count": 116,
                    "data": {
                        "application/vnd.dataresource+json": {
                            "schema": {
                                "fields": [
                                    {
                                        "name": "user_id"
                                    },
                                    {
                                        "name": "Number of Books"
                                    }
                                ]
                            },
                            "data": [
                                {
                                    "0": "14771",
                                    "1": "15"
                                },
                                {
                                    "0": "12483",
                                    "1": "15"
                                },
                                {
                                    "0": "11932",
                                    "1": "15"
                                },
                                {
                                    "0": "38201",
                                    "1": "15"
                                },
                                {
                                    "0": "36923",
                                    "1": "14"
                                },
                                {
                                    "0": "41523",
                                    "1": "14"
                                },
                                {
                                    "0": "27933",
                                    "1": "14"
                                },
                                {
                                    "0": "37359",
                                    "1": "14"
                                },
                                {
                                    "0": "25734",
                                    "1": "13"
                                },
                                {
                                    "0": "51137",
                                    "1": "13"
                                }
                            ]
                        },
                        "text/html": [
                            "<table>",
                            "<tr><th>user_id</th><th>Number of Books</th></tr>",
                            "<tr><td>14771</td><td>15</td></tr>",
                            "<tr><td>12483</td><td>15</td></tr>",
                            "<tr><td>11932</td><td>15</td></tr>",
                            "<tr><td>38201</td><td>15</td></tr>",
                            "<tr><td>36923</td><td>14</td></tr>",
                            "<tr><td>41523</td><td>14</td></tr>",
                            "<tr><td>27933</td><td>14</td></tr>",
                            "<tr><td>37359</td><td>14</td></tr>",
                            "<tr><td>25734</td><td>13</td></tr>",
                            "<tr><td>51137</td><td>13</td></tr>",
                            "</table>"
                        ]
                    }
                },
                {
                    "output_type": "execute_result",
                    "metadata": {},
                    "execution_count": 116,
                    "data": {
                        "application/vnd.dataresource+json": {
                            "schema": {
                                "fields": [
                                    {
                                        "name": "user_id"
                                    },
                                    {
                                        "name": "title"
                                    },
                                    {
                                        "name": "b.book_id"
                                    },
                                    {
                                        "name": "tr.book_id"
                                    }
                                ]
                            },
                            "data": [
                                {
                                    "0": "14771",
                                    "1": "The Fellowship of the Ring (The Lord of the Rings, #1)",
                                    "2": "34",
                                    "3": "34"
                                },
                                {
                                    "0": "14771",
                                    "1": "Harry Potter and the Order of the Phoenix (Harry Potter, #5)",
                                    "2": "2",
                                    "3": "2"
                                },
                                {
                                    "0": "14771",
                                    "1": "Harry Potter and the Goblet of Fire (Harry Potter, #4)",
                                    "2": "6",
                                    "3": "6"
                                },
                                {
                                    "0": "14771",
                                    "1": "J.R.R. Tolkien 4-Book Boxed Set: The Hobbit and The Lord of the Rings",
                                    "2": "30",
                                    "3": "30"
                                },
                                {
                                    "0": "14771",
                                    "1": "In a Sunburned Country",
                                    "2": "24",
                                    "3": "24"
                                },
                                {
                                    "0": "14771",
                                    "1": "A Widow for One Year",
                                    "2": "4659",
                                    "3": "4659"
                                },
                                {
                                    "0": "14771",
                                    "1": "Tropic of Cancer",
                                    "2": "249",
                                    "3": "249"
                                },
                                {
                                    "0": "14771",
                                    "1": "The Iliad/The Odyssey",
                                    "2": "1375",
                                    "3": "1375"
                                },
                                {
                                    "0": "14771",
                                    "1": "The Lost Continent: Travels in Small Town America",
                                    "2": "26",
                                    "3": "26"
                                },
                                {
                                    "0": "14771",
                                    "1": "The New York Trilogy",
                                    "2": "431",
                                    "3": "431"
                                },
                                {
                                    "0": "14771",
                                    "1": "The Lord of the Rings: The Art of The Fellowship of the Ring",
                                    "2": "119",
                                    "3": "119"
                                },
                                {
                                    "0": "14771",
                                    "1": "The Known World",
                                    "2": "67",
                                    "3": "67"
                                },
                                {
                                    "0": "14771",
                                    "1": "Ten Apples Up On Top!",
                                    "2": "7797",
                                    "3": "7797"
                                },
                                {
                                    "0": "14771",
                                    "1": "Leviathan",
                                    "2": "456",
                                    "3": "456"
                                },
                                {
                                    "0": "14771",
                                    "1": "What to Expect the First Year (What to Expect)",
                                    "2": "98",
                                    "3": "98"
                                },
                                {
                                    "0": "14771",
                                    "1": "NULL",
                                    "2": "NULL",
                                    "3": "46"
                                },
                                {
                                    "0": "14771",
                                    "1": "NULL",
                                    "2": "NULL",
                                    "3": "564"
                                },
                                {
                                    "0": "14771",
                                    "1": "NULL",
                                    "2": "NULL",
                                    "3": "1297"
                                },
                                {
                                    "0": "14771",
                                    "1": "NULL",
                                    "2": "NULL",
                                    "3": "172"
                                },
                                {
                                    "0": "14771",
                                    "1": "NULL",
                                    "2": "NULL",
                                    "3": "839"
                                },
                                {
                                    "0": "14771",
                                    "1": "NULL",
                                    "2": "NULL",
                                    "3": "4343"
                                },
                                {
                                    "0": "14771",
                                    "1": "NULL",
                                    "2": "NULL",
                                    "3": "175"
                                },
                                {
                                    "0": "14771",
                                    "1": "NULL",
                                    "2": "NULL",
                                    "3": "9"
                                },
                                {
                                    "0": "14771",
                                    "1": "NULL",
                                    "2": "NULL",
                                    "3": "6710"
                                },
                                {
                                    "0": "14771",
                                    "1": "NULL",
                                    "2": "NULL",
                                    "3": "2302"
                                },
                                {
                                    "0": "14771",
                                    "1": "NULL",
                                    "2": "NULL",
                                    "3": "32"
                                },
                                {
                                    "0": "14771",
                                    "1": "NULL",
                                    "2": "NULL",
                                    "3": "12"
                                },
                                {
                                    "0": "14771",
                                    "1": "NULL",
                                    "2": "NULL",
                                    "3": "178"
                                },
                                {
                                    "0": "14771",
                                    "1": "NULL",
                                    "2": "NULL",
                                    "3": "5322"
                                },
                                {
                                    "0": "14771",
                                    "1": "NULL",
                                    "2": "NULL",
                                    "3": "2935"
                                },
                                {
                                    "0": "14771",
                                    "1": "NULL",
                                    "2": "NULL",
                                    "3": "61"
                                },
                                {
                                    "0": "14771",
                                    "1": "NULL",
                                    "2": "NULL",
                                    "3": "3021"
                                },
                                {
                                    "0": "14771",
                                    "1": "NULL",
                                    "2": "NULL",
                                    "3": "2672"
                                },
                                {
                                    "0": "14771",
                                    "1": "NULL",
                                    "2": "NULL",
                                    "3": "253"
                                },
                                {
                                    "0": "14771",
                                    "1": "NULL",
                                    "2": "NULL",
                                    "3": "3044"
                                },
                                {
                                    "0": "14771",
                                    "1": "NULL",
                                    "2": "NULL",
                                    "3": "96"
                                },
                                {
                                    "0": "14771",
                                    "1": "NULL",
                                    "2": "NULL",
                                    "3": "2280"
                                },
                                {
                                    "0": "14771",
                                    "1": "NULL",
                                    "2": "NULL",
                                    "3": "99"
                                },
                                {
                                    "0": "14771",
                                    "1": "NULL",
                                    "2": "NULL",
                                    "3": "3179"
                                },
                                {
                                    "0": "14771",
                                    "1": "NULL",
                                    "2": "NULL",
                                    "3": "16"
                                },
                                {
                                    "0": "14771",
                                    "1": "NULL",
                                    "2": "NULL",
                                    "3": "6133"
                                },
                                {
                                    "0": "14771",
                                    "1": "NULL",
                                    "2": "NULL",
                                    "3": "159"
                                },
                                {
                                    "0": "14771",
                                    "1": "NULL",
                                    "2": "NULL",
                                    "3": "852"
                                },
                                {
                                    "0": "14771",
                                    "1": "NULL",
                                    "2": "NULL",
                                    "3": "3955"
                                },
                                {
                                    "0": "14771",
                                    "1": "NULL",
                                    "2": "NULL",
                                    "3": "961"
                                },
                                {
                                    "0": "14771",
                                    "1": "NULL",
                                    "2": "NULL",
                                    "3": "6491"
                                },
                                {
                                    "0": "14771",
                                    "1": "NULL",
                                    "2": "NULL",
                                    "3": "623"
                                },
                                {
                                    "0": "14771",
                                    "1": "NULL",
                                    "2": "NULL",
                                    "3": "240"
                                },
                                {
                                    "0": "14771",
                                    "1": "NULL",
                                    "2": "NULL",
                                    "3": "781"
                                },
                                {
                                    "0": "14771",
                                    "1": "NULL",
                                    "2": "NULL",
                                    "3": "3486"
                                },
                                {
                                    "0": "14771",
                                    "1": "NULL",
                                    "2": "NULL",
                                    "3": "4230"
                                },
                                {
                                    "0": "14771",
                                    "1": "NULL",
                                    "2": "NULL",
                                    "3": "4577"
                                },
                                {
                                    "0": "14771",
                                    "1": "NULL",
                                    "2": "NULL",
                                    "3": "140"
                                },
                                {
                                    "0": "14771",
                                    "1": "NULL",
                                    "2": "NULL",
                                    "3": "60"
                                },
                                {
                                    "0": "14771",
                                    "1": "NULL",
                                    "2": "NULL",
                                    "3": "143"
                                },
                                {
                                    "0": "14771",
                                    "1": "NULL",
                                    "2": "NULL",
                                    "3": "4720"
                                },
                                {
                                    "0": "14771",
                                    "1": "NULL",
                                    "2": "NULL",
                                    "3": "6658"
                                },
                                {
                                    "0": "14771",
                                    "1": "NULL",
                                    "2": "NULL",
                                    "3": "6721"
                                },
                                {
                                    "0": "14771",
                                    "1": "NULL",
                                    "2": "NULL",
                                    "3": "2619"
                                }
                            ]
                        },
                        "text/html": [
                            "<table>",
                            "<tr><th>user_id</th><th>title</th><th>b.book_id</th><th>tr.book_id</th></tr>",
                            "<tr><td>14771</td><td>The Fellowship of the Ring (The Lord of the Rings, #1)</td><td>34</td><td>34</td></tr>",
                            "<tr><td>14771</td><td>Harry Potter and the Order of the Phoenix (Harry Potter, #5)</td><td>2</td><td>2</td></tr>",
                            "<tr><td>14771</td><td>Harry Potter and the Goblet of Fire (Harry Potter, #4)</td><td>6</td><td>6</td></tr>",
                            "<tr><td>14771</td><td>J.R.R. Tolkien 4-Book Boxed Set: The Hobbit and The Lord of the Rings</td><td>30</td><td>30</td></tr>",
                            "<tr><td>14771</td><td>In a Sunburned Country</td><td>24</td><td>24</td></tr>",
                            "<tr><td>14771</td><td>A Widow for One Year</td><td>4659</td><td>4659</td></tr>",
                            "<tr><td>14771</td><td>Tropic of Cancer</td><td>249</td><td>249</td></tr>",
                            "<tr><td>14771</td><td>The Iliad/The Odyssey</td><td>1375</td><td>1375</td></tr>",
                            "<tr><td>14771</td><td>The Lost Continent: Travels in Small Town America</td><td>26</td><td>26</td></tr>",
                            "<tr><td>14771</td><td>The New York Trilogy</td><td>431</td><td>431</td></tr>",
                            "<tr><td>14771</td><td>The Lord of the Rings: The Art of The Fellowship of the Ring</td><td>119</td><td>119</td></tr>",
                            "<tr><td>14771</td><td>The Known World</td><td>67</td><td>67</td></tr>",
                            "<tr><td>14771</td><td>Ten Apples Up On Top!</td><td>7797</td><td>7797</td></tr>",
                            "<tr><td>14771</td><td>Leviathan</td><td>456</td><td>456</td></tr>",
                            "<tr><td>14771</td><td>What to Expect the First Year (What to Expect)</td><td>98</td><td>98</td></tr>",
                            "<tr><td>14771</td><td>NULL</td><td>NULL</td><td>46</td></tr>",
                            "<tr><td>14771</td><td>NULL</td><td>NULL</td><td>564</td></tr>",
                            "<tr><td>14771</td><td>NULL</td><td>NULL</td><td>1297</td></tr>",
                            "<tr><td>14771</td><td>NULL</td><td>NULL</td><td>172</td></tr>",
                            "<tr><td>14771</td><td>NULL</td><td>NULL</td><td>839</td></tr>",
                            "<tr><td>14771</td><td>NULL</td><td>NULL</td><td>4343</td></tr>",
                            "<tr><td>14771</td><td>NULL</td><td>NULL</td><td>175</td></tr>",
                            "<tr><td>14771</td><td>NULL</td><td>NULL</td><td>9</td></tr>",
                            "<tr><td>14771</td><td>NULL</td><td>NULL</td><td>6710</td></tr>",
                            "<tr><td>14771</td><td>NULL</td><td>NULL</td><td>2302</td></tr>",
                            "<tr><td>14771</td><td>NULL</td><td>NULL</td><td>32</td></tr>",
                            "<tr><td>14771</td><td>NULL</td><td>NULL</td><td>12</td></tr>",
                            "<tr><td>14771</td><td>NULL</td><td>NULL</td><td>178</td></tr>",
                            "<tr><td>14771</td><td>NULL</td><td>NULL</td><td>5322</td></tr>",
                            "<tr><td>14771</td><td>NULL</td><td>NULL</td><td>2935</td></tr>",
                            "<tr><td>14771</td><td>NULL</td><td>NULL</td><td>61</td></tr>",
                            "<tr><td>14771</td><td>NULL</td><td>NULL</td><td>3021</td></tr>",
                            "<tr><td>14771</td><td>NULL</td><td>NULL</td><td>2672</td></tr>",
                            "<tr><td>14771</td><td>NULL</td><td>NULL</td><td>253</td></tr>",
                            "<tr><td>14771</td><td>NULL</td><td>NULL</td><td>3044</td></tr>",
                            "<tr><td>14771</td><td>NULL</td><td>NULL</td><td>96</td></tr>",
                            "<tr><td>14771</td><td>NULL</td><td>NULL</td><td>2280</td></tr>",
                            "<tr><td>14771</td><td>NULL</td><td>NULL</td><td>99</td></tr>",
                            "<tr><td>14771</td><td>NULL</td><td>NULL</td><td>3179</td></tr>",
                            "<tr><td>14771</td><td>NULL</td><td>NULL</td><td>16</td></tr>",
                            "<tr><td>14771</td><td>NULL</td><td>NULL</td><td>6133</td></tr>",
                            "<tr><td>14771</td><td>NULL</td><td>NULL</td><td>159</td></tr>",
                            "<tr><td>14771</td><td>NULL</td><td>NULL</td><td>852</td></tr>",
                            "<tr><td>14771</td><td>NULL</td><td>NULL</td><td>3955</td></tr>",
                            "<tr><td>14771</td><td>NULL</td><td>NULL</td><td>961</td></tr>",
                            "<tr><td>14771</td><td>NULL</td><td>NULL</td><td>6491</td></tr>",
                            "<tr><td>14771</td><td>NULL</td><td>NULL</td><td>623</td></tr>",
                            "<tr><td>14771</td><td>NULL</td><td>NULL</td><td>240</td></tr>",
                            "<tr><td>14771</td><td>NULL</td><td>NULL</td><td>781</td></tr>",
                            "<tr><td>14771</td><td>NULL</td><td>NULL</td><td>3486</td></tr>",
                            "<tr><td>14771</td><td>NULL</td><td>NULL</td><td>4230</td></tr>",
                            "<tr><td>14771</td><td>NULL</td><td>NULL</td><td>4577</td></tr>",
                            "<tr><td>14771</td><td>NULL</td><td>NULL</td><td>140</td></tr>",
                            "<tr><td>14771</td><td>NULL</td><td>NULL</td><td>60</td></tr>",
                            "<tr><td>14771</td><td>NULL</td><td>NULL</td><td>143</td></tr>",
                            "<tr><td>14771</td><td>NULL</td><td>NULL</td><td>4720</td></tr>",
                            "<tr><td>14771</td><td>NULL</td><td>NULL</td><td>6658</td></tr>",
                            "<tr><td>14771</td><td>NULL</td><td>NULL</td><td>6721</td></tr>",
                            "<tr><td>14771</td><td>NULL</td><td>NULL</td><td>2619</td></tr>",
                            "</table>"
                        ]
                    }
                }
            ],
            "execution_count": 116
        }
    ]
}